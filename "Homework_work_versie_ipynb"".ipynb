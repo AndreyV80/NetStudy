{
  "nbformat": 4,
  "nbformat_minor": 0,
  "metadata": {
    "colab": {
      "name": "\"Homework_work_versie.ipynb\"\"",
      "provenance": [],
      "collapsed_sections": [],
      "include_colab_link": true
    },
    "kernelspec": {
      "display_name": "Python 3",
      "name": "python3"
    }
  },
  "cells": [
    {
      "cell_type": "markdown",
      "metadata": {
        "id": "view-in-github",
        "colab_type": "text"
      },
      "source": [
        "<a href=\"https://colab.research.google.com/github/AndreyV80/NetStudy/blob/main/%22Homework_work_versie_ipynb%22%22.ipynb\" target=\"_parent\"><img src=\"https://colab.research.google.com/assets/colab-badge.svg\" alt=\"Open In Colab\"/></a>"
      ]
    },
    {
      "cell_type": "code",
      "metadata": {
        "id": "RReD2acL9zx6"
      },
      "source": [
        "import pandas as pd\n",
        "import numpy as np\n",
        "import matplotlib.pyplot as plt\n",
        "%matplotlib inline\n",
        "import os, time\n",
        "from google.colab import drive\n",
        "import seaborn as sns"
      ],
      "execution_count": 1,
      "outputs": []
    },
    {
      "cell_type": "code",
      "metadata": {
        "colab": {
          "base_uri": "https://localhost:8080/"
        },
        "id": "SQdBBHUEUBFD",
        "outputId": "dc893574-fbf7-4eaa-a138-4298337fdbdc"
      },
      "source": [
        "drive.mount('/content/drive')    "
      ],
      "execution_count": 2,
      "outputs": [
        {
          "output_type": "stream",
          "text": [
            "Mounted at /content/drive\n"
          ],
          "name": "stdout"
        }
      ]
    },
    {
      "cell_type": "code",
      "metadata": {
        "id": "q8Gcz4yH_dwq"
      },
      "source": [
        "# Загружаем данные в переменную df из файла homework.csv"
      ],
      "execution_count": null,
      "outputs": []
    },
    {
      "cell_type": "code",
      "metadata": {
        "id": "0y7mi8Hd951i"
      },
      "source": [
        "df = pd.read_csv('/content/drive/My Drive/homework.csv', sep = ',')"
      ],
      "execution_count": 4,
      "outputs": []
    },
    {
      "cell_type": "code",
      "metadata": {
        "colab": {
          "base_uri": "https://localhost:8080/",
          "height": 205
        },
        "id": "RUHLnmW_-BjK",
        "outputId": "da412b0b-b38c-4ec6-8c01-526ed94c7b77"
      },
      "source": [
        "df.head()"
      ],
      "execution_count": null,
      "outputs": [
        {
          "output_type": "execute_result",
          "data": {
            "text/html": [
              "<div>\n",
              "<style scoped>\n",
              "    .dataframe tbody tr th:only-of-type {\n",
              "        vertical-align: middle;\n",
              "    }\n",
              "\n",
              "    .dataframe tbody tr th {\n",
              "        vertical-align: top;\n",
              "    }\n",
              "\n",
              "    .dataframe thead th {\n",
              "        text-align: right;\n",
              "    }\n",
              "</style>\n",
              "<table border=\"1\" class=\"dataframe\">\n",
              "  <thead>\n",
              "    <tr style=\"text-align: right;\">\n",
              "      <th></th>\n",
              "      <th>ID</th>\n",
              "      <th>crim</th>\n",
              "      <th>zn</th>\n",
              "      <th>indus</th>\n",
              "      <th>chas</th>\n",
              "      <th>nox</th>\n",
              "      <th>rm</th>\n",
              "      <th>age</th>\n",
              "      <th>dis</th>\n",
              "      <th>rad</th>\n",
              "      <th>tax</th>\n",
              "      <th>ptratio</th>\n",
              "      <th>black</th>\n",
              "      <th>lstat</th>\n",
              "      <th>medv</th>\n",
              "    </tr>\n",
              "  </thead>\n",
              "  <tbody>\n",
              "    <tr>\n",
              "      <th>0</th>\n",
              "      <td>1</td>\n",
              "      <td>0.00632</td>\n",
              "      <td>18.0</td>\n",
              "      <td>2.31</td>\n",
              "      <td>0</td>\n",
              "      <td>0.538</td>\n",
              "      <td>6.575</td>\n",
              "      <td>65.2</td>\n",
              "      <td>4.0900</td>\n",
              "      <td>1</td>\n",
              "      <td>296</td>\n",
              "      <td>15.3</td>\n",
              "      <td>396.90</td>\n",
              "      <td>4.98</td>\n",
              "      <td>24.0</td>\n",
              "    </tr>\n",
              "    <tr>\n",
              "      <th>1</th>\n",
              "      <td>2</td>\n",
              "      <td>0.02731</td>\n",
              "      <td>0.0</td>\n",
              "      <td>7.07</td>\n",
              "      <td>0</td>\n",
              "      <td>0.469</td>\n",
              "      <td>6.421</td>\n",
              "      <td>78.9</td>\n",
              "      <td>4.9671</td>\n",
              "      <td>2</td>\n",
              "      <td>242</td>\n",
              "      <td>17.8</td>\n",
              "      <td>396.90</td>\n",
              "      <td>9.14</td>\n",
              "      <td>21.6</td>\n",
              "    </tr>\n",
              "    <tr>\n",
              "      <th>2</th>\n",
              "      <td>4</td>\n",
              "      <td>0.03237</td>\n",
              "      <td>0.0</td>\n",
              "      <td>2.18</td>\n",
              "      <td>0</td>\n",
              "      <td>0.458</td>\n",
              "      <td>6.998</td>\n",
              "      <td>45.8</td>\n",
              "      <td>6.0622</td>\n",
              "      <td>3</td>\n",
              "      <td>222</td>\n",
              "      <td>18.7</td>\n",
              "      <td>394.63</td>\n",
              "      <td>2.94</td>\n",
              "      <td>33.4</td>\n",
              "    </tr>\n",
              "    <tr>\n",
              "      <th>3</th>\n",
              "      <td>5</td>\n",
              "      <td>0.06905</td>\n",
              "      <td>0.0</td>\n",
              "      <td>2.18</td>\n",
              "      <td>0</td>\n",
              "      <td>0.458</td>\n",
              "      <td>7.147</td>\n",
              "      <td>54.2</td>\n",
              "      <td>6.0622</td>\n",
              "      <td>3</td>\n",
              "      <td>222</td>\n",
              "      <td>18.7</td>\n",
              "      <td>396.90</td>\n",
              "      <td>5.33</td>\n",
              "      <td>36.2</td>\n",
              "    </tr>\n",
              "    <tr>\n",
              "      <th>4</th>\n",
              "      <td>7</td>\n",
              "      <td>0.08829</td>\n",
              "      <td>12.5</td>\n",
              "      <td>7.87</td>\n",
              "      <td>0</td>\n",
              "      <td>0.524</td>\n",
              "      <td>6.012</td>\n",
              "      <td>66.6</td>\n",
              "      <td>5.5605</td>\n",
              "      <td>5</td>\n",
              "      <td>311</td>\n",
              "      <td>15.2</td>\n",
              "      <td>395.60</td>\n",
              "      <td>12.43</td>\n",
              "      <td>22.9</td>\n",
              "    </tr>\n",
              "  </tbody>\n",
              "</table>\n",
              "</div>"
            ],
            "text/plain": [
              "   ID     crim    zn  indus  chas  ...  tax  ptratio   black  lstat  medv\n",
              "0   1  0.00632  18.0   2.31     0  ...  296     15.3  396.90   4.98  24.0\n",
              "1   2  0.02731   0.0   7.07     0  ...  242     17.8  396.90   9.14  21.6\n",
              "2   4  0.03237   0.0   2.18     0  ...  222     18.7  394.63   2.94  33.4\n",
              "3   5  0.06905   0.0   2.18     0  ...  222     18.7  396.90   5.33  36.2\n",
              "4   7  0.08829  12.5   7.87     0  ...  311     15.2  395.60  12.43  22.9\n",
              "\n",
              "[5 rows x 15 columns]"
            ]
          },
          "metadata": {
            "tags": []
          },
          "execution_count": 9
        }
      ]
    },
    {
      "cell_type": "code",
      "metadata": {
        "colab": {
          "base_uri": "https://localhost:8080/"
        },
        "id": "7QEC5EVTamvr",
        "outputId": "c96cabde-e6a7-4835-8f2f-b26c28bff391"
      },
      "source": [
        "df.info()"
      ],
      "execution_count": null,
      "outputs": [
        {
          "output_type": "stream",
          "text": [
            "<class 'pandas.core.frame.DataFrame'>\n",
            "RangeIndex: 333 entries, 0 to 332\n",
            "Data columns (total 15 columns):\n",
            " #   Column   Non-Null Count  Dtype  \n",
            "---  ------   --------------  -----  \n",
            " 0   ID       333 non-null    int64  \n",
            " 1   crim     333 non-null    float64\n",
            " 2   zn       333 non-null    float64\n",
            " 3   indus    333 non-null    float64\n",
            " 4   chas     333 non-null    int64  \n",
            " 5   nox      333 non-null    float64\n",
            " 6   rm       333 non-null    float64\n",
            " 7   age      333 non-null    float64\n",
            " 8   dis      333 non-null    float64\n",
            " 9   rad      333 non-null    int64  \n",
            " 10  tax      333 non-null    int64  \n",
            " 11  ptratio  333 non-null    float64\n",
            " 12  black    333 non-null    float64\n",
            " 13  lstat    333 non-null    float64\n",
            " 14  medv     333 non-null    float64\n",
            "dtypes: float64(11), int64(4)\n",
            "memory usage: 39.1 KB\n"
          ],
          "name": "stdout"
        }
      ]
    },
    {
      "cell_type": "code",
      "metadata": {
        "colab": {
          "base_uri": "https://localhost:8080/",
          "height": 319
        },
        "id": "JAyvXbDhatsg",
        "outputId": "6318b0be-bfad-402d-9c34-81c5fbf6530c"
      },
      "source": [
        "df.describe()"
      ],
      "execution_count": null,
      "outputs": [
        {
          "output_type": "execute_result",
          "data": {
            "text/html": [
              "<div>\n",
              "<style scoped>\n",
              "    .dataframe tbody tr th:only-of-type {\n",
              "        vertical-align: middle;\n",
              "    }\n",
              "\n",
              "    .dataframe tbody tr th {\n",
              "        vertical-align: top;\n",
              "    }\n",
              "\n",
              "    .dataframe thead th {\n",
              "        text-align: right;\n",
              "    }\n",
              "</style>\n",
              "<table border=\"1\" class=\"dataframe\">\n",
              "  <thead>\n",
              "    <tr style=\"text-align: right;\">\n",
              "      <th></th>\n",
              "      <th>ID</th>\n",
              "      <th>crim</th>\n",
              "      <th>zn</th>\n",
              "      <th>indus</th>\n",
              "      <th>chas</th>\n",
              "      <th>nox</th>\n",
              "      <th>rm</th>\n",
              "      <th>age</th>\n",
              "      <th>dis</th>\n",
              "      <th>rad</th>\n",
              "      <th>tax</th>\n",
              "      <th>ptratio</th>\n",
              "      <th>black</th>\n",
              "      <th>lstat</th>\n",
              "      <th>medv</th>\n",
              "    </tr>\n",
              "  </thead>\n",
              "  <tbody>\n",
              "    <tr>\n",
              "      <th>count</th>\n",
              "      <td>333.000000</td>\n",
              "      <td>333.000000</td>\n",
              "      <td>333.000000</td>\n",
              "      <td>333.000000</td>\n",
              "      <td>333.000000</td>\n",
              "      <td>333.000000</td>\n",
              "      <td>333.000000</td>\n",
              "      <td>333.000000</td>\n",
              "      <td>333.000000</td>\n",
              "      <td>333.000000</td>\n",
              "      <td>333.000000</td>\n",
              "      <td>333.000000</td>\n",
              "      <td>333.000000</td>\n",
              "      <td>333.000000</td>\n",
              "      <td>333.000000</td>\n",
              "    </tr>\n",
              "    <tr>\n",
              "      <th>mean</th>\n",
              "      <td>250.951952</td>\n",
              "      <td>3.360341</td>\n",
              "      <td>10.689189</td>\n",
              "      <td>11.293483</td>\n",
              "      <td>0.060060</td>\n",
              "      <td>0.557144</td>\n",
              "      <td>6.265619</td>\n",
              "      <td>68.226426</td>\n",
              "      <td>3.709934</td>\n",
              "      <td>9.633634</td>\n",
              "      <td>409.279279</td>\n",
              "      <td>18.448048</td>\n",
              "      <td>359.466096</td>\n",
              "      <td>12.515435</td>\n",
              "      <td>22.768769</td>\n",
              "    </tr>\n",
              "    <tr>\n",
              "      <th>std</th>\n",
              "      <td>147.859438</td>\n",
              "      <td>7.352272</td>\n",
              "      <td>22.674762</td>\n",
              "      <td>6.998123</td>\n",
              "      <td>0.237956</td>\n",
              "      <td>0.114955</td>\n",
              "      <td>0.703952</td>\n",
              "      <td>28.133344</td>\n",
              "      <td>1.981123</td>\n",
              "      <td>8.742174</td>\n",
              "      <td>170.841988</td>\n",
              "      <td>2.151821</td>\n",
              "      <td>86.584567</td>\n",
              "      <td>7.067781</td>\n",
              "      <td>9.173468</td>\n",
              "    </tr>\n",
              "    <tr>\n",
              "      <th>min</th>\n",
              "      <td>1.000000</td>\n",
              "      <td>0.006320</td>\n",
              "      <td>0.000000</td>\n",
              "      <td>0.740000</td>\n",
              "      <td>0.000000</td>\n",
              "      <td>0.385000</td>\n",
              "      <td>3.561000</td>\n",
              "      <td>6.000000</td>\n",
              "      <td>1.129600</td>\n",
              "      <td>1.000000</td>\n",
              "      <td>188.000000</td>\n",
              "      <td>12.600000</td>\n",
              "      <td>3.500000</td>\n",
              "      <td>1.730000</td>\n",
              "      <td>5.000000</td>\n",
              "    </tr>\n",
              "    <tr>\n",
              "      <th>25%</th>\n",
              "      <td>123.000000</td>\n",
              "      <td>0.078960</td>\n",
              "      <td>0.000000</td>\n",
              "      <td>5.130000</td>\n",
              "      <td>0.000000</td>\n",
              "      <td>0.453000</td>\n",
              "      <td>5.884000</td>\n",
              "      <td>45.400000</td>\n",
              "      <td>2.122400</td>\n",
              "      <td>4.000000</td>\n",
              "      <td>279.000000</td>\n",
              "      <td>17.400000</td>\n",
              "      <td>376.730000</td>\n",
              "      <td>7.180000</td>\n",
              "      <td>17.400000</td>\n",
              "    </tr>\n",
              "    <tr>\n",
              "      <th>50%</th>\n",
              "      <td>244.000000</td>\n",
              "      <td>0.261690</td>\n",
              "      <td>0.000000</td>\n",
              "      <td>9.900000</td>\n",
              "      <td>0.000000</td>\n",
              "      <td>0.538000</td>\n",
              "      <td>6.202000</td>\n",
              "      <td>76.700000</td>\n",
              "      <td>3.092300</td>\n",
              "      <td>5.000000</td>\n",
              "      <td>330.000000</td>\n",
              "      <td>19.000000</td>\n",
              "      <td>392.050000</td>\n",
              "      <td>10.970000</td>\n",
              "      <td>21.600000</td>\n",
              "    </tr>\n",
              "    <tr>\n",
              "      <th>75%</th>\n",
              "      <td>377.000000</td>\n",
              "      <td>3.678220</td>\n",
              "      <td>12.500000</td>\n",
              "      <td>18.100000</td>\n",
              "      <td>0.000000</td>\n",
              "      <td>0.631000</td>\n",
              "      <td>6.595000</td>\n",
              "      <td>93.800000</td>\n",
              "      <td>5.116700</td>\n",
              "      <td>24.000000</td>\n",
              "      <td>666.000000</td>\n",
              "      <td>20.200000</td>\n",
              "      <td>396.240000</td>\n",
              "      <td>16.420000</td>\n",
              "      <td>25.000000</td>\n",
              "    </tr>\n",
              "    <tr>\n",
              "      <th>max</th>\n",
              "      <td>506.000000</td>\n",
              "      <td>73.534100</td>\n",
              "      <td>100.000000</td>\n",
              "      <td>27.740000</td>\n",
              "      <td>1.000000</td>\n",
              "      <td>0.871000</td>\n",
              "      <td>8.725000</td>\n",
              "      <td>100.000000</td>\n",
              "      <td>10.710300</td>\n",
              "      <td>24.000000</td>\n",
              "      <td>711.000000</td>\n",
              "      <td>21.200000</td>\n",
              "      <td>396.900000</td>\n",
              "      <td>37.970000</td>\n",
              "      <td>50.000000</td>\n",
              "    </tr>\n",
              "  </tbody>\n",
              "</table>\n",
              "</div>"
            ],
            "text/plain": [
              "               ID        crim          zn  ...       black       lstat        medv\n",
              "count  333.000000  333.000000  333.000000  ...  333.000000  333.000000  333.000000\n",
              "mean   250.951952    3.360341   10.689189  ...  359.466096   12.515435   22.768769\n",
              "std    147.859438    7.352272   22.674762  ...   86.584567    7.067781    9.173468\n",
              "min      1.000000    0.006320    0.000000  ...    3.500000    1.730000    5.000000\n",
              "25%    123.000000    0.078960    0.000000  ...  376.730000    7.180000   17.400000\n",
              "50%    244.000000    0.261690    0.000000  ...  392.050000   10.970000   21.600000\n",
              "75%    377.000000    3.678220   12.500000  ...  396.240000   16.420000   25.000000\n",
              "max    506.000000   73.534100  100.000000  ...  396.900000   37.970000   50.000000\n",
              "\n",
              "[8 rows x 15 columns]"
            ]
          },
          "metadata": {
            "tags": []
          },
          "execution_count": 15
        }
      ]
    },
    {
      "cell_type": "code",
      "metadata": {
        "id": "RdrTsIP8_kEq"
      },
      "source": [
        "# Построить scatter график по параметрам crim, medv"
      ],
      "execution_count": null,
      "outputs": []
    },
    {
      "cell_type": "code",
      "metadata": {
        "colab": {
          "base_uri": "https://localhost:8080/",
          "height": 283
        },
        "id": "G2w28i06-Jk0",
        "outputId": "8f248b26-89ec-4a41-aa38-9b2a698209de"
      },
      "source": [
        "plt.scatter(x='crim', y='medv', data=df)"
      ],
      "execution_count": null,
      "outputs": [
        {
          "output_type": "execute_result",
          "data": {
            "text/plain": [
              "<matplotlib.collections.PathCollection at 0x7fbf126e1150>"
            ]
          },
          "metadata": {
            "tags": []
          },
          "execution_count": 4
        },
        {
          "output_type": "display_data",
          "data": {
            "image/png": "[encoded data removed]",
            "text/plain": [
              "<Figure size 432x288 with 1 Axes>"
            ]
          },
          "metadata": {
            "tags": [],
            "needs_background": "light"
          }
        }
      ]
    },
    {
      "cell_type": "code",
      "metadata": {
        "id": "mj8AbZdq_svI"
      },
      "source": [
        "# Построить scatter график по параметрам rm, medv"
      ],
      "execution_count": null,
      "outputs": []
    },
    {
      "cell_type": "code",
      "metadata": {
        "colab": {
          "base_uri": "https://localhost:8080/",
          "height": 283
        },
        "id": "jmDLcMaI-XTw",
        "outputId": "6cf2a352-b36b-4394-caf6-22fce76be432"
      },
      "source": [
        "plt.scatter(x='rm', y='medv', data=df)"
      ],
      "execution_count": null,
      "outputs": [
        {
          "output_type": "execute_result",
          "data": {
            "text/plain": [
              "<matplotlib.collections.PathCollection at 0x7fbf1223ba50>"
            ]
          },
          "metadata": {
            "tags": []
          },
          "execution_count": 5
        },
        {
          "output_type": "display_data",
          "data": {
            "image/png": "[encoded data removed]",
            "text/plain": [
              "<Figure size 432x288 with 1 Axes>"
            ]
          },
          "metadata": {
            "tags": [],
            "needs_background": "light"
          }
        }
      ]
    },
    {
      "cell_type": "code",
      "metadata": {
        "colab": {
          "base_uri": "https://localhost:8080/",
          "height": 283
        },
        "id": "45i1qxn2gjLQ",
        "outputId": "8e4e2af8-7f21-4648-e2c2-185ecd549e48"
      },
      "source": [
        "plt.scatter(x='zn', y='medv', data=df)"
      ],
      "execution_count": 10,
      "outputs": [
        {
          "output_type": "execute_result",
          "data": {
            "text/plain": [
              "<matplotlib.collections.PathCollection at 0x7f7d55931dd0>"
            ]
          },
          "metadata": {
            "tags": []
          },
          "execution_count": 10
        },
        {
          "output_type": "display_data",
          "data": {
            "image/png": "[encoded data removed]",
            "text/plain": [
              "<Figure size 432x288 with 1 Axes>"
            ]
          },
          "metadata": {
            "tags": [],
            "needs_background": "light"
          }
        }
      ]
    },
    {
      "cell_type": "markdown",
      "metadata": {
        "id": "hmH0BAz2zGY4"
      },
      "source": [
        ""
      ]
    },
    {
      "cell_type": "markdown",
      "metadata": {
        "id": "turMtD3_y0io"
      },
      "source": [
        "Решил для дальнейшего обучения взять не все данные, а которые более могут повлять на стоимость, имхо "
      ]
    },
    {
      "cell_type": "code",
      "metadata": {
        "id": "6Azsa2LEeTcB"
      },
      "source": [
        "df_cor = df.corr()"
      ],
      "execution_count": 6,
      "outputs": []
    },
    {
      "cell_type": "code",
      "metadata": {
        "colab": {
          "base_uri": "https://localhost:8080/",
          "height": 310
        },
        "id": "qAFZsMoiefUh",
        "outputId": "5e719eeb-0c0c-4c27-8291-5111f63eecf9"
      },
      "source": [
        "sns.heatmap(df_cor, square=True, robust=True )"
      ],
      "execution_count": 9,
      "outputs": [
        {
          "output_type": "execute_result",
          "data": {
            "text/plain": [
              "<matplotlib.axes._subplots.AxesSubplot at 0x7f7d55a0c1d0>"
            ]
          },
          "metadata": {
            "tags": []
          },
          "execution_count": 9
        },
        {
          "output_type": "display_data",
          "data": {
            "image/png": "[encoded data removed]",
            "text/plain": [
              "<Figure size 432x288 with 2 Axes>"
            ]
          },
          "metadata": {
            "tags": [],
            "needs_background": "light"
          }
        }
      ]
    },
    {
      "cell_type": "code",
      "metadata": {
        "id": "4ZsxrE_SdARV"
      },
      "source": [
        "df2 = df.copy()"
      ],
      "execution_count": 5,
      "outputs": []
    },
    {
      "cell_type": "code",
      "metadata": {
        "id": "GK8qJEKsYrkR"
      },
      "source": [
        "# boston = sns.load_dataset(\"iris\")\n",
        "g = sns.PairGrid(df2)\n",
        "g.map(sns.scatterplot)"
      ],
      "execution_count": null,
      "outputs": []
    },
    {
      "cell_type": "markdown",
      "metadata": {
        "id": "r1cvP_8XOsHd"
      },
      "source": [
        ""
      ]
    },
    {
      "cell_type": "code",
      "metadata": {
        "id": "6FMjJQDi_z23"
      },
      "source": [
        "# Сформировать X и y из df, выбрав нужные колонки"
      ],
      "execution_count": null,
      "outputs": []
    },
    {
      "cell_type": "code",
      "metadata": {
        "colab": {
          "base_uri": "https://localhost:8080/"
        },
        "id": "Fcel7fwcYCOx",
        "outputId": "2ab8c52e-ca33-497e-edb5-2993bb5edd87"
      },
      "source": [
        "df.columns"
      ],
      "execution_count": null,
      "outputs": [
        {
          "output_type": "execute_result",
          "data": {
            "text/plain": [
              "Index(['ID', 'crim', 'zn', 'indus', 'chas', 'nox', 'rm', 'age', 'dis', 'rad',\n",
              "       'tax', 'ptratio', 'black', 'lstat', 'medv'],\n",
              "      dtype='object')"
            ]
          },
          "metadata": {
            "tags": []
          },
          "execution_count": 12
        }
      ]
    },
    {
      "cell_type": "code",
      "metadata": {
        "id": "wLfHyxzN-XTq"
      },
      "source": [
        "# X, y = df2[['crim', 'zn', 'indus', 'chas', 'nox', 'rm', 'age', 'dis', 'rad',\n",
        "      #  'tax', 'ptratio', 'black', 'lstat']], df2['medv']"
      ],
      "execution_count": 18,
      "outputs": []
    },
    {
      "cell_type": "code",
      "metadata": {
        "id": "RTspKUhB9oIB"
      },
      "source": [
        "# X, y = df2[['zn','chas', 'rm', 'age', 'dis', 'black']], df2['medv']"
      ],
      "execution_count": 9,
      "outputs": []
    },
    {
      "cell_type": "code",
      "metadata": {
        "id": "JJHBVVS4-2i3"
      },
      "source": [
        "X, y = df2[['crim', 'rm', 'age', 'dis', 'ptratio', 'lstat']], df2['medv']"
      ],
      "execution_count": 25,
      "outputs": []
    },
    {
      "cell_type": "code",
      "metadata": {
        "id": "F5aNsPw0Objj"
      },
      "source": [
        "# X, y = df2[['crim', 'zn', 'rm', 'age', 'dis', 'black', 'lstat']], df2['medv']"
      ],
      "execution_count": null,
      "outputs": []
    },
    {
      "cell_type": "code",
      "metadata": {
        "id": "i7zKm0JQ-mvB"
      },
      "source": [
        "from sklearn.model_selection import train_test_split"
      ],
      "execution_count": 10,
      "outputs": []
    },
    {
      "cell_type": "code",
      "metadata": {
        "id": "9UUFvp5xAH44"
      },
      "source": [
        "# Разбить данные на данные для обучения и проверки"
      ],
      "execution_count": null,
      "outputs": []
    },
    {
      "cell_type": "code",
      "metadata": {
        "id": "Ot5eY2wMAK8j"
      },
      "source": [
        "X_train, X_test, y_train, y_test = train_test_split(X, y, test_size=0.33, random_state=42)"
      ],
      "execution_count": 31,
      "outputs": []
    },
    {
      "cell_type": "code",
      "metadata": {
        "id": "acpQ0NA9-bP-"
      },
      "source": [
        "from sklearn.linear_model import LinearRegression"
      ],
      "execution_count": 12,
      "outputs": []
    },
    {
      "cell_type": "code",
      "metadata": {
        "id": "TAWGJsLDANIl"
      },
      "source": [
        "# Создать и обучить модель LinearRegression"
      ],
      "execution_count": null,
      "outputs": []
    },
    {
      "cell_type": "code",
      "metadata": {
        "id": "w2AUaX0tAQ2v"
      },
      "source": [
        "model = LinearRegression()"
      ],
      "execution_count": 32,
      "outputs": []
    },
    {
      "cell_type": "code",
      "metadata": {
        "id": "H75h4xr7Z7lY",
        "colab": {
          "base_uri": "https://localhost:8080/"
        },
        "outputId": "cd49a316-ae2c-43f9-b2fb-56ab1bd6c786"
      },
      "source": [
        "model.fit(X_train, y_train)\n",
        "print(model.intercept_)\n",
        "print(model.coef_)"
      ],
      "execution_count": 33,
      "outputs": [
        {
          "output_type": "stream",
          "text": [
            "20.76744434364211\n",
            "[-0.01817777  4.65698585 -0.03651414 -1.08502818 -0.66355904 -0.6579405 ]\n"
          ],
          "name": "stdout"
        }
      ]
    },
    {
      "cell_type": "code",
      "metadata": {
        "id": "RZR6zvcvmAYw"
      },
      "source": [
        "from sklearn.metrics import mean_squared_error, r2_score"
      ],
      "execution_count": 15,
      "outputs": []
    },
    {
      "cell_type": "code",
      "metadata": {
        "id": "AmcB2S1OYM9d"
      },
      "source": [
        "# Оценить качество на тестовой выборки"
      ],
      "execution_count": null,
      "outputs": []
    },
    {
      "cell_type": "code",
      "metadata": {
        "id": "1M0qyrCFT5JU"
      },
      "source": [
        "train_predictions = model.predict(X_train) \n",
        "test_predictions = model.predict(X_test)"
      ],
      "execution_count": 34,
      "outputs": []
    },
    {
      "cell_type": "code",
      "metadata": {
        "colab": {
          "base_uri": "https://localhost:8080/"
        },
        "id": "IV41nAX_SOEq",
        "outputId": "382aa2ba-ba84-42e6-8e13-d90c79c80580"
      },
      "source": [
        "train_mse = mean_squared_error(y_train, train_predictions)\n",
        "test_mse = mean_squared_error(y_test, test_predictions)\n",
        "print(\"Train MSE: {}\".format(train_mse))\n",
        "print(\"Test MSE: {}\".format(test_mse))\n",
        "print('Coefficient of determination: %.2f'\n",
        "      % r2_score(y_test, test_predictions))"
      ],
      "execution_count": 35,
      "outputs": [
        {
          "output_type": "stream",
          "text": [
            "Train MSE: 29.36482390538536\n",
            "Test MSE: 21.104099453433108\n",
            "Coefficient of determination: 0.74\n"
          ],
          "name": "stdout"
        }
      ]
    },
    {
      "cell_type": "code",
      "metadata": {
        "id": "YkBQrAl38uLR"
      },
      "source": [
        ""
      ],
      "execution_count": null,
      "outputs": []
    },
    {
      "cell_type": "markdown",
      "metadata": {
        "id": "saelypDr8HA2"
      },
      "source": [
        "Судя по показаниям, обучение прошло не удачно. Аналогичный результат был при обучении на основе всех показателй датафрейма. Ошибку не нашел"
      ]
    }
  ]
}