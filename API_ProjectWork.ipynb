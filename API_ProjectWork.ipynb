{
  "nbformat": 4,
  "nbformat_minor": 0,
  "metadata": {
    "colab": {
      "name": "API_ProjectWork",
      "provenance": [],
      "collapsed_sections": [],
      "authorship_tag": "ABX9TyNFe3OphfVNflK7q0vx/vQu",
      "include_colab_link": true
    },
    "kernelspec": {
      "name": "python3",
      "display_name": "Python 3"
    },
    "language_info": {
      "name": "python"
    }
  },
  "cells": [
    {
      "cell_type": "markdown",
      "metadata": {
        "id": "view-in-github",
        "colab_type": "text"
      },
      "source": [
        "<a href=\"https://colab.research.google.com/github/AndreyV80/NetStudy/blob/main/API_ProjectWork.ipynb\" target=\"_parent\"><img src=\"https://colab.research.google.com/assets/colab-badge.svg\" alt=\"Open In Colab\"/></a>"
      ]
    },
    {
      "cell_type": "markdown",
      "metadata": {
        "id": "n-nhUHXk5_yj"
      },
      "source": [
        "**Задание 1.**\n",
        "Обязательная часть\n",
        "Будем парсить страницу со свежеми новостям на habr.com/ru/all/.\n",
        "\n",
        "Вам необходимо собирать только те статьи, в которых встречается хотя бы одно требуемое ключевое слово. Эти слова определяем в начале кода в переменной, например:\n",
        "\n",
        "KEYWORDS = ['python', 'парсинг']\n",
        "\n",
        "Поиск вести по всей доступной preview-информации (это информация, доступная непосредственно с текущей страницы).\n",
        "\n",
        "В итоге должен формироваться датафрейм вида: <дата> - <заголовок> - <ссылка>"
      ]
    },
    {
      "cell_type": "code",
      "metadata": {
        "id": "Rj4NjigW6EHb"
      },
      "source": [
        "import requests\n",
        "from bs4 import BeautifulSoup\n",
        "import pandas as pd"
      ],
      "execution_count": 1,
      "outputs": []
    },
    {
      "cell_type": "code",
      "metadata": {
        "colab": {
          "base_uri": "https://localhost:8080/"
        },
        "id": "tsBG2rcS2LHg",
        "outputId": "a960a4f8-209d-4155-8800-4026c57087a6"
      },
      "source": [
        "res = requests.get('https://habr.com/ru/all/')\n",
        "res"
      ],
      "execution_count": null,
      "outputs": [
        {
          "output_type": "execute_result",
          "data": {
            "text/plain": [
              "<Response [200]>"
            ]
          },
          "metadata": {
            "tags": []
          },
          "execution_count": 2
        }
      ]
    },
    {
      "cell_type": "code",
      "metadata": {
        "id": "KpoOpqng20Sl"
      },
      "source": [
        "KEYWORDS = ['python', 'парсинг']"
      ],
      "execution_count": 2,
      "outputs": []
    },
    {
      "cell_type": "code",
      "metadata": {
        "id": "YrVJJfZB49It"
      },
      "source": [
        "req = requests.get('https://habr.com/ru/all/')\n",
        "soup = BeautifulSoup(req.text, 'html.parser')"
      ],
      "execution_count": 3,
      "outputs": []
    },
    {
      "cell_type": "code",
      "metadata": {
        "id": "m4zJwkeX6D09",
        "colab": {
          "base_uri": "https://localhost:8080/"
        },
        "outputId": "b318976a-52a5-4688-b543-a20f1b6b05fd"
      },
      "source": [
        "posts = soup.find_all('article', class_='post')\n",
        "type(posts)"
      ],
      "execution_count": 4,
      "outputs": [
        {
          "output_type": "execute_result",
          "data": {
            "text/plain": [
              "bs4.element.ResultSet"
            ]
          },
          "metadata": {
            "tags": []
          },
          "execution_count": 4
        }
      ]
    },
    {
      "cell_type": "code",
      "metadata": {
        "id": "cTkarzR-96fJ"
      },
      "source": [
        "# добираемся до блоков с новостями\n",
        "news_blocks = soup.find_all('h2', class_='post__title')\n",
        "news_blocks\n",
        "# print(news_blocks.text)"
      ],
      "execution_count": null,
      "outputs": []
    },
    {
      "cell_type": "code",
      "metadata": {
        "id": "wpBw9txdBnh0"
      },
      "source": [
        "\n",
        "news_blocks2 = soup.find_all('article',class_= 'post__time') \n",
        "##, class_=\"post__time\")\n",
        "type(news_blocks2)\n",
        "news_blocks2"
      ],
      "execution_count": null,
      "outputs": []
    },
    {
      "cell_type": "code",
      "metadata": {
        "id": "WKXAxI1n532h"
      },
      "source": [
        "if any([hub_lower in desired for desired in KEYWORDS])"
      ],
      "execution_count": null,
      "outputs": []
    },
    {
      "cell_type": "code",
      "metadata": {
        "id": "-oDN2PTEqHwK"
      },
      "source": [
        "url_habr = []       #список ссылок\n",
        "text_habr = []      #список заголовков\n",
        "time_habr = []\n",
        "for test in posts:\n",
        "    for a in test.find_all('a', class_='post__title_link'):\n",
        "        #if any([hub_lower in desired for desired in KEYWORDS])\n",
        "        text_habr.append(a.text)\n",
        "        url_habr.append(a.get('href'))\n",
        "        for link2 in test.find_all('span', class_='post__time'):\n",
        "            time_habr.append(link2.text)\n",
        "    \n",
        "date = {'time_habr' : time_habr,'text_habr' : text_habr, 'news': url_habr}\n",
        "date_pd = pd.DataFrame(date)\n",
        "date_pd"
      ],
      "execution_count": null,
      "outputs": []
    },
    {
      "cell_type": "markdown",
      "metadata": {
        "id": "gKEojsaq2JAx"
      },
      "source": [
        "Не могу понять метод поиска(фильтрации во фрэме) по списку KEYWORDS"
      ]
    },
    {
      "cell_type": "code",
      "metadata": {
        "id": "c0SDEyKf1l8L"
      },
      "source": [
        "date_pd_сopy = date_pd.copy()"
      ],
      "execution_count": 9,
      "outputs": []
    },
    {
      "cell_type": "markdown",
      "metadata": {
        "id": "4HqGikmW6NkK"
      },
      "source": [
        "**Задание 2.**\n",
        "Обязательная часть\n",
        "Написать скрипт, который будет проверять список e-mail адресов на утечку при помощи сервиса Avast Hack Ckeck. Список email-ов задаем переменной в начале кода:\n",
        "EMAIL = [xxx@x.ru, yyy@y.com]\n",
        "\n",
        "В итоге должен формироваться датафрейм со столбцами: <дата утечки> - <источник утечки> - <описание утечки>\n",
        "\n",
        "Подсказка: сервис работает при помощи \"скрытого\" API. Внимательно изучите post-запросы."
      ]
    },
    {
      "cell_type": "code",
      "metadata": {
        "id": "MSKwAQ5r6PGC"
      },
      "source": [
        ""
      ],
      "execution_count": null,
      "outputs": []
    },
    {
      "cell_type": "code",
      "metadata": {
        "id": "9mziFSr26VDE"
      },
      "source": [
        ""
      ],
      "execution_count": null,
      "outputs": []
    }
  ]
}