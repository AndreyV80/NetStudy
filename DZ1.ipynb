{
  "nbformat": 4,
  "nbformat_minor": 0,
  "metadata": {
    "colab": {
      "name": "DZ1",
      "provenance": [],
      "collapsed_sections": []
    },
    "kernelspec": {
      "name": "python3",
      "display_name": "Python 3"
    }
  },
  "cells": [
    {
      "cell_type": "markdown",
      "metadata": {
        "id": "GtW5nkpSeyHE"
      },
      "source": [
        "**Задание 1**"
      ]
    },
    {
      "cell_type": "code",
      "metadata": {
        "id": "30aXj2UuBkKh"
      },
      "source": [
        "phrase_1 = str(input())\r\n",
        "phrase_2 = str(input())\r\n",
        "if len(phrase_1) > len(phrase_2):\r\n",
        "    print(\"Фраза 1 длиннее Фразы 2\")\r\n",
        "elif len(phrase_1) < len(phrase_2):\r\n",
        "    print(\"Фраза 2 длиннее Фразы 1\")\r\n",
        "else:\r\n",
        "    print(\"Фразы равной длины\")"
      ],
      "execution_count": null,
      "outputs": []
    },
    {
      "cell_type": "markdown",
      "metadata": {
        "id": "zEQHUZ93Cao9"
      },
      "source": [
        "**Задание 2**"
      ]
    },
    {
      "cell_type": "code",
      "metadata": {
        "id": "Lqp97AnXCW8V"
      },
      "source": [
        "year = int(input('Введите год: '))\r\n",
        "if year % 4 != 0:\r\n",
        "    print(\"Обычный год\")\r\n",
        "elif year % 100 == 0:\r\n",
        "    if year % 400 == 0:\r\n",
        "        print(\"Високосный год\")\r\n",
        "    else:\r\n",
        "        print(\"Обычный год\")\r\n",
        "else:\r\n",
        "    print('Високосный год')"
      ],
      "execution_count": null,
      "outputs": []
    },
    {
      "cell_type": "markdown",
      "metadata": {
        "id": "w46w23If-fpf"
      },
      "source": [
        "**Задание 3**"
      ]
    },
    {
      "cell_type": "code",
      "metadata": {
        "id": "G9sQGfOILIel"
      },
      "source": [
        "day = int(input(\"Введите день: \"))\r\n",
        "if 0 == day:\r\n",
        "    print('Вы ввели нулевое значение')\r\n",
        "elif day > 31:\r\n",
        "    print('Такой даты не бывает')\r\n",
        "else:\r\n",
        "    month = str(input(\"Введите месяц (напр. 'Январь'): \"))\r\n",
        "    if month == \"Январь\" or \"Февраль\" or \"Март\" or \"Апрель\" or \"Май\" or \"Июнь\" or \"Июль\" or \"Август\" or \"Сентябрь\" or \"Октябрь\" or \"Ноябрь\" or \"Декабрь\":\r\n",
        "          \r\n",
        "        if (month == 'Январь' and 1 <= day <= 20) or (month == 'Декабрь' and 22 <= day <= 31):\r\n",
        "            print('Ваш знак зодика: Козерог')\r\n",
        "        elif (day >= 21 and day <= 31 and month == 'Январь') or (month == \"Февраль\" and day >= 1 and day <= 18):\r\n",
        "            print(\"Ваш знак зодика: Водолей\")\r\n",
        "        elif (day >= 19 and day <= 29 and month == \"Февраль\") or (month == \"Март\" and day >= 1 and day <= 20):\r\n",
        "            print(\"Ваш знак зодика: Рыбы\")\r\n",
        "        elif (day >= 21 and day <= 31 and month == \"Март\") or (month == \"Апрель\" and day >= 1 and day <= 19):\r\n",
        "            print(\"Ваш знак зодика: Овен\")\r\n",
        "        elif (day >= 20 and day <= 30 and month == \"Апрель\") or (month == \"Май\" and day >= 1 and day <= 20):\r\n",
        "            print(\"Ваш знак зодика: Телец\")\r\n",
        "        elif (day >= 21 and day <= 31 and month == \"Май\") or (month == \"Июнь\" and day >= 1 and day <= 21):\r\n",
        "            print(\"Ваш знак зодика: Близницы\")\r\n",
        "        elif (day >= 22 and day <= 30 and month == \"Июнь\") or (month == \"Июль\" and day >= 1 and day <= 22):\r\n",
        "            print(\"Ваш знак зодика: Рак\")\r\n",
        "        elif (day >= 23 and day <= 31 and month == \"Июль\") or (month == \"Август\" and day >= 1 and day <= 22):\r\n",
        "            print(\"Ваш знак зодика: Лев\")\r\n",
        "        elif (day >= 23 and day <= 31 and month == \"Август\") or (month == \"Сентябрь\" and day >= 1 and day <= 22):\r\n",
        "            print(\"Ваш знак зодика: Дева\")\r\n",
        "        elif (day >= 23 and day <= 30 and month == \"Сентябрь\") or (month == \"Октябрь\" and day >= 1 and day <= 23):\r\n",
        "            print(\"Ваш знак зодика: Весы\")\r\n",
        "        elif (day >= 24 and day <= 31 and month == \"Октябрь\") or (month == \"Ноябрь\" and day >= 1 and day <= 22):\r\n",
        "            print(\"Ваш знак зодика: Скорпион\")\r\n",
        "        elif (day >= 23 and day <= 30 and month == \"Ноябрь\") or (month == \"Декабрь\" and day >= 1 and day <= 21):\r\n",
        "            print(\"Ваш знак зодика: Стрелец\")\r\n",
        "        else:\r\n",
        "            print('Месяц некорректен')\r\n"
      ],
      "execution_count": null,
      "outputs": []
    },
    {
      "cell_type": "markdown",
      "metadata": {
        "id": "pIQjQHxBMUZ0"
      },
      "source": [
        "**Задание 4**"
      ]
    },
    {
      "cell_type": "markdown",
      "metadata": {
        "id": "gef8lfGjMkMt"
      },
      "source": [
        "\r\n",
        "Вам нужно написать программу для подбора упаковок по размерам товара. Размеры (ширина, длина, высота) хранятся в переменных (в сантиметрах)\r\n"
      ]
    },
    {
      "cell_type": "code",
      "metadata": {
        "id": "sCYsRhn5MYHx"
      },
      "source": [
        "width = int(input('Введите ширину (см.): '))\r\n",
        "length = int(input('Введите длину (см.): '))\r\n",
        "height = int(input('Введите высоту (см.): '))\r\n",
        "\r\n",
        "if width < 15 and length < 15 and height < 15:\r\n",
        "    print(\"Стандартная коробка №1\")\r\n",
        "elif 15 < width < 50 or 15 < length < 50 or 15 < height < 50:\r\n",
        "    print(\"Стандартная коробка №2\")\r\n",
        "elif length >= 200:\r\n",
        "    print(\"Ищите упаковку для лыж\")\r\n",
        "else:\r\n",
        "    print(\"Стандартная коробка №3\")"
      ],
      "execution_count": null,
      "outputs": []
    }
  ]
}