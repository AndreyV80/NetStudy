{
 "cells": [
  {
   "cell_type": "markdown",
   "metadata": {
    "ExecuteTime": {
     "end_time": "2021-03-11T03:37:40.010964Z",
     "start_time": "2021-03-11T03:37:39.980962Z"
    }
   },
   "source": [
    "###Домашнее задание###\n",
    "Переведите содержимое файла purchase_log.txt в словарь purchases вида:\n",
    "{‘1840e0b9d4’: ‘Продукты’, …}\n",
    "\n",
    "Для каждого user_id в файле visit_log.csv определите третий столбец с категорией покупки (если покупка была, сам файл visit_log.csv изменять не надо). Запишите в файл funnel.csv визиты из файла visit_log.csv, в которых были покупки с указанием категории.\n",
    "Учтите условия на данные:\n",
    "содержимое purchase_log.txt помещается в оперативную память компьютера\n",
    "содержимое visit_log.csv - нет; используйте только построчную обработку этого файла"
   ]
  },
  {
   "cell_type": "code",
   "execution_count": 4,
   "metadata": {
    "ExecuteTime": {
     "end_time": "2021-03-13T13:34:58.562907Z",
     "start_time": "2021-03-13T13:34:57.618853Z"
    }
   },
   "outputs": [],
   "source": [
    "i = 0\n",
    "  \n",
    "purchases = {}\n",
    "with open('purchase_log.txt','r', encoding = 'utf-8') as f_purch:\n",
    "    for line in f_purch:\n",
    "        line = line.strip() #\n",
    "        dict_ = json.loads(line) \n",
    "                \n",
    " # убираем заголовок, чтобы соответствовать виду по ДЗ       \n",
    "        if dict_['user_id'] != 'user_id':     \n",
    "            purchases[dict_['user_id']] = dict_['category']\n",
    "   # проверка по 5 вхождениям     \n",
    "     #   i += 1\n",
    "      #  if i > 5:\n",
    "      #      break\n",
    "#purchases"
   ]
  },
  {
   "cell_type": "code",
   "execution_count": 26,
   "metadata": {
    "ExecuteTime": {
     "end_time": "2021-03-13T14:32:49.946307Z",
     "start_time": "2021-03-13T14:32:49.494281Z"
    }
   },
   "outputs": [],
   "source": [
    "with open('visit_log.csv', 'r') as visit_read:\n",
    "    with open('funnel.csv', 'w') as funnel_write:\n",
    "        \n",
    "        for visit in visit_read.readlines():\n",
    "            d =  visit.strip().split(',')\n",
    "        \n",
    "            if d[0] in purchases.keys():\n",
    "                d.append(purchases.get(d[0]))\n",
    "                funnel_write.write(str(d)+'\\n')\n",
    "             "
   ]
  },
  {
   "cell_type": "code",
   "execution_count": 27,
   "metadata": {
    "ExecuteTime": {
     "end_time": "2021-03-13T14:33:05.071172Z",
     "start_time": "2021-03-13T14:33:05.054171Z"
    }
   },
   "outputs": [],
   "source": [
    "funnel_write.close()"
   ]
  },
  {
   "cell_type": "code",
   "execution_count": 28,
   "metadata": {
    "ExecuteTime": {
     "end_time": "2021-03-13T14:33:07.624318Z",
     "start_time": "2021-03-13T14:33:07.607317Z"
    }
   },
   "outputs": [],
   "source": [
    "visit_read.close()"
   ]
  }
 ],
 "metadata": {
  "kernelspec": {
   "display_name": "Python 3",
   "language": "python",
   "name": "python3"
  },
  "language_info": {
   "codemirror_mode": {
    "name": "ipython",
    "version": 3
   },
   "file_extension": ".py",
   "mimetype": "text/x-python",
   "name": "python",
   "nbconvert_exporter": "python",
   "pygments_lexer": "ipython3",
   "version": "3.8.5"
  },
  "varInspector": {
   "cols": {
    "lenName": 16,
    "lenType": 16,
    "lenVar": 40
   },
   "kernels_config": {
    "python": {
     "delete_cmd_postfix": "",
     "delete_cmd_prefix": "del ",
     "library": "var_list.py",
     "varRefreshCmd": "print(var_dic_list())"
    },
    "r": {
     "delete_cmd_postfix": ") ",
     "delete_cmd_prefix": "rm(",
     "library": "var_list.r",
     "varRefreshCmd": "cat(var_dic_list()) "
    }
   },
   "types_to_exclude": [
    "module",
    "function",
    "builtin_function_or_method",
    "instance",
    "_Feature"
   ],
   "window_display": false
  }
 },
 "nbformat": 4,
 "nbformat_minor": 4
}
