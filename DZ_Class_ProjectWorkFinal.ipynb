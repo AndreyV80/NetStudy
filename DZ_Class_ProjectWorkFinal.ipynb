{
  "nbformat": 4,
  "nbformat_minor": 0,
  "metadata": {
    "colab": {
      "name": "DZ_Class_ProjectWorkFinal",
      "provenance": [],
      "collapsed_sections": [],
      "authorship_tag": "ABX9TyPNZLu2vuA9Ehz2XLyuWDt3",
      "include_colab_link": true
    },
    "kernelspec": {
      "name": "python3",
      "display_name": "Python 3"
    },
    "language_info": {
      "name": "python"
    }
  },
  "cells": [
    {
      "cell_type": "markdown",
      "metadata": {
        "id": "view-in-github",
        "colab_type": "text"
      },
      "source": [
        "<a href=\"https://colab.research.google.com/github/AndreyV80/NetStudy/blob/main/DZ_Class_ProjectWorkFinal.ipynb\" target=\"_parent\"><img src=\"https://colab.research.google.com/assets/colab-badge.svg\" alt=\"Open In Colab\"/></a>"
      ]
    },
    {
      "cell_type": "markdown",
      "metadata": {
        "id": "Cv8UoSkeTBWg"
      },
      "source": [
        "**Задание 1**\n",
        "Напишите **функцию**, которая возвращает название валюты (поле ‘Name’) с максимальным значением курса с помощью сервиса https://www.cbr-xml-daily.ru/daily_json.js"
      ]
    },
    {
      "cell_type": "code",
      "metadata": {
        "id": "y8_mdUJ4QtLG"
      },
      "source": [
        "import json, requests                #импорт модулей\n"
      ],
      "execution_count": null,
      "outputs": []
    },
    {
      "cell_type": "code",
      "metadata": {
        "id": "TneSX7dPRtE6",
        "colab": {
          "base_uri": "https://localhost:8080/"
        },
        "outputId": "b1f9f0d5-c2a1-4cf8-d1c0-003c8d539d5f"
      },
      "source": [
        "url = f\"https://www.cbr-xml-daily.ru/daily_json.js\"            # переменная ссылка\n",
        "repos = json.loads(requests.get(url).text)                   # переменная, загрузка json файла\n",
        "max_valute()"
      ],
      "execution_count": null,
      "outputs": [
        {
          "output_type": "stream",
          "text": [
            "Максимальное значение курса имеет  СДР (специальные права заимствования) , равный  108.4331\n"
          ],
          "name": "stdout"
        }
      ]
    },
    {
      "cell_type": "code",
      "metadata": {
        "id": "lZ52cj5EJxBR"
      },
      "source": [
        "def max_valute(repos):\n",
        "    for k, v in repos.items():                   # выводим словарь с инфо по валютам\n",
        "        if k == 'Valute':\n",
        "        #print(v)\n",
        "            dict_v = {}\n",
        "            for k1, v1 in v.items():              # из словаря 'Valute' формируем словарь для работы \n",
        "            #dict_v = {v1['Name']:v1['Value']}\n",
        "                dict_v[v1['Name']] =  v1['Value']\n",
        "            max_val = max(dict_v.values())\n",
        "            for k_dict_v, v_dict_v in dict_v.items():\n",
        "                if v_dict_v == max_val:\n",
        "                    print('Максимальное значение курса имеет ', k_dict_v, ', равный ',  v_dict_v)"
      ],
      "execution_count": null,
      "outputs": []
    },
    {
      "cell_type": "markdown",
      "metadata": {
        "id": "aNz6iW0lKzZs"
      },
      "source": [
        "**Задание 2**\n",
        "Добавьте в класс Rate **параметр diff** (со значениями True или False), который в случае значения True в методах курсов валют (eur, usd итд) будет возвращать не курс валюты, а изменение по сравнению в прошлым значением. Считайте, self.diff будет принимать значение True только при возврате значения курса. При отображении всей информации о валюте он не используется."
      ]
    },
    {
      "cell_type": "code",
      "metadata": {
        "id": "C0ZdBlEVLDbZ"
      },
      "source": [
        "class Rate:\n",
        " \n",
        "    def __init__(self, fopmat_='value', diff = False):             #True   False  value\n",
        "         \"\"\"\n",
        "         Добавлен параметр diff согласно условию ТЗ,\n",
        "         который в случае значения True в методах курсов валют (eur, usd итд) будет возвращать\n",
        "         Previous (прошлое значение)\n",
        "         \"\"\"\n",
        "         self.format = fopmat_\n",
        "         self.diff = diff\n",
        "    \n",
        "    def exchange_rates(self):\n",
        "        \"\"\"\n",
        "        Возвращает ответ сервиса с информацией о валютах в виде:\n",
        "        \n",
        "        {\n",
        "            'AMD': {\n",
        "                'CharCode': 'AMD',\n",
        "                'ID': 'R01060',\n",
        "                'Name': 'Армянских драмов',\n",
        "                'Nominal': 100,\n",
        "                'NumCode': '051',\n",
        "                'Previous': 14.103,\n",
        "                'Value': 14.0879\n",
        "                },\n",
        "            ...\n",
        "        }\n",
        "        \"\"\"\n",
        "        self.r = requests.get('https://www.cbr-xml-daily.ru/daily_json.js')\n",
        "        return self.r.json()['Valute']\n",
        "    \n",
        "    def make_format(self, currency):\n",
        "        \"\"\"\n",
        "        Возвращает информацию о валюте currency в двух вариантах:\n",
        "        - полная информация о валюте при self.format = 'full':\n",
        "        Rate('full').make_format('EUR')\n",
        "        {\n",
        "            'CharCode': 'EUR',\n",
        "            'ID': 'R01239',\n",
        "            'Name': 'Евро',\n",
        "            'Nominal': 1,\n",
        "            'NumCode': '978',\n",
        "            'Previous': 79.6765,\n",
        "            'Value': 79.4966\n",
        "        }\n",
        "        при self.format = 'value' и self.diff = False\n",
        "        Rate('value').make_format('EUR')\n",
        "        79.4966 - 'Value': 79.4966\n",
        "        при self.format = 'value' и self.diff = True\n",
        "        Rate('value').make_format('EUR')\n",
        "        79.6765 - 'Previous': 79.6765\n",
        "        \"\"\"\n",
        "        response = self.exchange_rates()\n",
        "                         \n",
        "        if currency in response:\n",
        "            if self.format == 'full':\n",
        "                return response[currency]\n",
        "            if self.format == 'value':\n",
        "                if self.diff == False:\n",
        "                \n",
        "                    return response[currency]['Value']\n",
        "            \n",
        "                      \n",
        "                if self.diff == True:\n",
        "                      #  if self.format == 'value':\n",
        "                    return response[currency]['Previous']\n",
        "\n",
        "        return 'Error'\n",
        "      \n",
        "    def eur(self):\n",
        "        \"\"\"Возвращает курс евро на сегодня в формате self.format\"\"\"\n",
        "        return self.make_format('EUR')\n",
        "    \n",
        "    def usd(self):\n",
        "        \"\"\"Возвращает курс доллара на сегодня в формате self.format\"\"\"\n",
        "        return self.make_format('USD')\n",
        "    \n",
        "    def brl(self):\n",
        "        \"\"\"Возвращает курс бразильского реала на сегодня в формате self.format\"\"\"\n",
        "        return self.make_format('BRL')"
      ],
      "execution_count": null,
      "outputs": []
    },
    {
      "cell_type": "code",
      "metadata": {
        "id": "WMalO3EgNIAD"
      },
      "source": [
        "r = Rate('value', True)"
      ],
      "execution_count": null,
      "outputs": []
    },
    {
      "cell_type": "code",
      "metadata": {
        "id": "I7IXAe8-NNCO"
      },
      "source": [
        "r.exchange_rates()"
      ],
      "execution_count": null,
      "outputs": []
    },
    {
      "cell_type": "code",
      "metadata": {
        "colab": {
          "base_uri": "https://localhost:8080/"
        },
        "id": "AwkekpjbNXsL",
        "outputId": "52d5c057-2dc8-4894-c2a1-211e11440690"
      },
      "source": [
        "r.make_format('EUR')"
      ],
      "execution_count": null,
      "outputs": [
        {
          "output_type": "execute_result",
          "data": {
            "text/plain": [
              "89.9768"
            ]
          },
          "metadata": {
            "tags": []
          },
          "execution_count": 20
        }
      ]
    },
    {
      "cell_type": "code",
      "metadata": {
        "colab": {
          "base_uri": "https://localhost:8080/"
        },
        "id": "X1g0UBPhNhgj",
        "outputId": "9cd1b277-0822-4b9d-921d-7a5b96c82856"
      },
      "source": [
        "r.eur() "
      ],
      "execution_count": null,
      "outputs": [
        {
          "output_type": "execute_result",
          "data": {
            "text/plain": [
              "{'CharCode': 'EUR',\n",
              " 'ID': 'R01239',\n",
              " 'Name': 'Евро',\n",
              " 'Nominal': 1,\n",
              " 'NumCode': '978',\n",
              " 'Previous': 89.9768,\n",
              " 'Value': 89.2576}"
            ]
          },
          "metadata": {
            "tags": []
          },
          "execution_count": 48
        }
      ]
    },
    {
      "cell_type": "markdown",
      "metadata": {
        "id": "pfVZvjgrJpWn"
      },
      "source": [
        "**Задание 3**\n",
        "Напишите класс Designer, который учитывает количество международных премий. Подсказки в коде занятия в разделе “Домашнее задание задача 3”."
      ]
    },
    {
      "cell_type": "markdown",
      "metadata": {
        "id": "en9_gfEzieAU"
      },
      "source": [
        "Комментарий по классу Designer такой:\n",
        "Напишите класс Designer, который учитывает количество международных премий для дизайнеров (из презентации: “Повышение на 1 грейд за каждые 7 баллов. Получение международной премии – это +2 балла”). Считайте, что при выходе на работу сотрудник уже имеет две премии и их количество не меняется со стажем (конечно если хотите это можно вручную менять).\n",
        "\n",
        "Класс Designer пишется по аналогии с классом Developer из материалов занятия. Комментарий про его условия Вика написала выше: “Повышение на 1 грейд за каждые 7 баллов. Получение международной премии – это +2 балла”"
      ]
    },
    {
      "cell_type": "code",
      "metadata": {
        "id": "DOz5OT3bjJx2"
      },
      "source": [
        "class Employee:\n",
        "    def __init__(self, name, seniority):\n",
        "        self.name = name\n",
        "        self.seniority = seniority\n",
        "        \n",
        "        self.grade = 1\n",
        "    \n",
        "    def grade_up(self):\n",
        "        \"\"\"Повышает уровень сотрудника\"\"\"\n",
        "        self.grade += 1\n",
        "    \n",
        "    def publish_grade(self):\n",
        "        \"\"\"Публикация результатов аккредитации сотрудников\"\"\"\n",
        "        print(self.name, self.grade)\n",
        "    \n",
        "    def check_if_it_is_time_for_upgrade(self):\n",
        "        pass"
      ],
      "execution_count": 2,
      "outputs": []
    },
    {
      "cell_type": "code",
      "metadata": {
        "colab": {
          "base_uri": "https://localhost:8080/"
        },
        "id": "ZG2HYfUJGR10",
        "outputId": "9b55febe-a29b-4d24-dc0f-254aef203300"
      },
      "source": [
        "(4+20) // 7"
      ],
      "execution_count": 23,
      "outputs": [
        {
          "output_type": "execute_result",
          "data": {
            "text/plain": [
              "3"
            ]
          },
          "metadata": {
            "tags": []
          },
          "execution_count": 23
        }
      ]
    },
    {
      "cell_type": "code",
      "metadata": {
        "id": "-Gjvs6LxEaFy"
      },
      "source": [
        "#project\n",
        "\n",
        "class Designer(Employee):\n",
        "    def __init__(self, name, seniority, prize):           \n",
        "        super().__init__(name, seniority, )\n",
        "        self.prize = prize\n",
        "        self.prize_points = (4 + self.prize * 2) // 7\n",
        "    \n",
        "    def check_if_it_is_time_for_upgrade(self):\n",
        "        # для каждой аккредитации увеличиваем счетчик на 1\n",
        "        # пока считаем, что все разработчики проходят аккредитацию\n",
        "       \n",
        "           # условие повышения сотрудника из презентации\n",
        "        self.seniority += 1\n",
        "       # prize_points == 4\n",
        "        if self.prize_points > 0:\n",
        "            for i in range(self.prize_points):\n",
        "                self.grade_up()\n",
        "\n",
        "        # публикация результатов\n",
        "        return self.publish_grade()"
      ],
      "execution_count": 18,
      "outputs": []
    },
    {
      "cell_type": "code",
      "metadata": {
        "id": "EIFMQYQhmglX"
      },
      "source": [
        "d = Designer('Алекс',0, 10)\n"
      ],
      "execution_count": 21,
      "outputs": []
    },
    {
      "cell_type": "code",
      "metadata": {
        "colab": {
          "base_uri": "https://localhost:8080/"
        },
        "id": "DImD3yuEmqBk",
        "outputId": "f15bdcdd-28ef-4e75-b3a0-4261075bfa1a"
      },
      "source": [
        "d.check_if_it_is_time_for_upgrade()\n"
      ],
      "execution_count": 22,
      "outputs": [
        {
          "output_type": "stream",
          "text": [
            "Алекс 4\n"
          ],
          "name": "stdout"
        }
      ]
    }
  ]
}