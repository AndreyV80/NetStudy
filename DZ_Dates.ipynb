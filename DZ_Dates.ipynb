{
 "cells": [
  {
   "cell_type": "markdown",
   "metadata": {},
   "source": [
    "Задание 1\n",
    "Печатные газеты использовали свой формат дат для каждого выпуска. Для каждой газеты из списка напишите формат указанной даты для перевода в объект datetime:\n",
    "The Moscow Times - Wednesday, October 2, 2002 The Guardian - Friday, 11.10.13 Daily News - Thursday, 18 August 1977"
   ]
  },
  {
   "cell_type": "code",
   "execution_count": 1,
   "metadata": {
    "ExecuteTime": {
     "end_time": "2021-03-23T03:39:47.164108Z",
     "start_time": "2021-03-23T03:39:47.154107Z"
    }
   },
   "outputs": [],
   "source": [
    "from datetime import datetime, timedelta, date"
   ]
  },
  {
   "cell_type": "code",
   "execution_count": 6,
   "metadata": {
    "ExecuteTime": {
     "end_time": "2021-03-21T06:30:46.467115Z",
     "start_time": "2021-03-21T06:30:46.448114Z"
    }
   },
   "outputs": [],
   "source": [
    "moscow_times = 'Wednesday, October 2, 2002'\n",
    "#format_moscow = '%A, %B %d, %Y'\n",
    "The_Guardian = 'Friday, 11.10.13'\n",
    "Daily_News = 'Thursday, 18 August 1977'"
   ]
  },
  {
   "cell_type": "code",
   "execution_count": 3,
   "metadata": {
    "ExecuteTime": {
     "end_time": "2021-03-21T06:27:30.056285Z",
     "start_time": "2021-03-21T06:27:30.027283Z"
    }
   },
   "outputs": [
    {
     "name": "stdout",
     "output_type": "stream",
     "text": [
      "2002-10-02 00:00:00\n"
     ]
    }
   ],
   "source": [
    "moscow_times_dt = datetime.strptime(moscow_times, '%A, %B %d, %Y')\n",
    "print(moscow_times_dt)"
   ]
  },
  {
   "cell_type": "code",
   "execution_count": 8,
   "metadata": {
    "ExecuteTime": {
     "end_time": "2021-03-21T06:31:30.022606Z",
     "start_time": "2021-03-21T06:31:29.996604Z"
    },
    "collapsed": true
   },
   "outputs": [
    {
     "name": "stdout",
     "output_type": "stream",
     "text": [
      "2002-10-02 00:00:00\n"
     ]
    }
   ],
   "source": [
    "#moscow_times_dt = datetime.strptime(moscow_times, format_moscow)\n",
    "#print(moscow_times_dt)"
   ]
  },
  {
   "cell_type": "code",
   "execution_count": 4,
   "metadata": {
    "ExecuteTime": {
     "end_time": "2021-03-21T06:27:32.725438Z",
     "start_time": "2021-03-21T06:27:32.696436Z"
    }
   },
   "outputs": [
    {
     "name": "stdout",
     "output_type": "stream",
     "text": [
      "2013-10-11 00:00:00\n"
     ]
    }
   ],
   "source": [
    "The_Guardian_dt = datetime.strptime(The_Guardian, '%A, %d.%m.%y')\n",
    "print(The_Guardian_dt)"
   ]
  },
  {
   "cell_type": "code",
   "execution_count": 5,
   "metadata": {
    "ExecuteTime": {
     "end_time": "2021-03-21T06:27:37.611717Z",
     "start_time": "2021-03-21T06:27:37.582716Z"
    }
   },
   "outputs": [
    {
     "name": "stdout",
     "output_type": "stream",
     "text": [
      "1977-08-18 00:00:00\n"
     ]
    }
   ],
   "source": [
    "Daily_News_dt = datetime.strptime(Daily_News, '%A, %d %B %Y')\n",
    "print(Daily_News_dt)"
   ]
  },
  {
   "cell_type": "markdown",
   "metadata": {},
   "source": [
    "Задание 2 \n",
    "Дан поток дат в формате YYYY-MM-DD, в которых встречаются некорректные значения: stream = [‘2018-04-02’, ‘2018-02-29’, ‘2018-19-02’]\n",
    "\n",
    "Напишите функцию, которая проверяет эти даты на корректность. Т. е. для каждой даты возвращает True (дата корректна) или False (некорректная дата)."
   ]
  },
  {
   "cell_type": "code",
   "execution_count": 9,
   "metadata": {
    "ExecuteTime": {
     "end_time": "2021-03-21T06:36:14.504877Z",
     "start_time": "2021-03-21T06:36:14.493877Z"
    }
   },
   "outputs": [],
   "source": [
    "stream = ['2018-04-02', '2018-02-29', '2018-19-02', '2023-o1-11']"
   ]
  },
  {
   "cell_type": "code",
   "execution_count": 12,
   "metadata": {
    "ExecuteTime": {
     "end_time": "2021-03-21T06:38:36.888021Z",
     "start_time": "2021-03-21T06:38:36.866020Z"
    }
   },
   "outputs": [],
   "source": [
    "def er_stream(i):\n",
    "    try:\n",
    "        if i == datetime.strptime(i, '%Y-%m-%d'):\n",
    "            return True\n",
    "    except:\n",
    "        return False \n",
    "           #print(count_steam)\n",
    "            #print('Дата не корректна: ', i)\n",
    " "
   ]
  },
  {
   "cell_type": "code",
   "execution_count": 27,
   "metadata": {
    "ExecuteTime": {
     "end_time": "2021-03-21T07:23:41.447713Z",
     "start_time": "2021-03-21T07:23:41.427712Z"
    }
   },
   "outputs": [],
   "source": [
    "def stream_for(stream):\n",
    "    for i in stream:\n",
    "        er_stream(i)\n",
    "        if er_stream(i) == False:\n",
    "            print('Дата не корректна: ', i)"
   ]
  },
  {
   "cell_type": "code",
   "execution_count": 28,
   "metadata": {
    "ExecuteTime": {
     "end_time": "2021-03-21T07:23:44.354879Z",
     "start_time": "2021-03-21T07:23:44.330878Z"
    }
   },
   "outputs": [
    {
     "name": "stdout",
     "output_type": "stream",
     "text": [
      "Дата не корректна:  2018-02-29\n",
      "Дата не корректна:  2018-19-02\n",
      "Дата не корректна:  2023-o1-11\n"
     ]
    }
   ],
   "source": [
    "stream_for(stream)"
   ]
  },
  {
   "cell_type": "markdown",
   "metadata": {},
   "source": [
    "Задание 3\n",
    "Напишите функцию date_range, которая возвращает список дат за период от start_date до end_date. Даты должны вводиться в формате YYYY-MM-DD. В случае неверного формата или при start_date > end_date должен возвращаться пустой список."
   ]
  },
  {
   "cell_type": "code",
   "execution_count": 7,
   "metadata": {
    "ExecuteTime": {
     "end_time": "2021-03-23T03:48:31.178915Z",
     "start_time": "2021-03-23T03:47:58.318036Z"
    }
   },
   "outputs": [
    {
     "name": "stdout",
     "output_type": "stream",
     "text": [
      "Введите дату начала периода в формате YYYY-MM-DD2021-03-23\n",
      "Введите дату окончания периода в формате YYYY-MM-DD2021-o3-31\n",
      "[]\n"
     ]
    }
   ],
   "source": [
    "#Ввод периода\n",
    "start_date = input('Введите дату начала периода в формате YYYY-MM-DD')\n",
    "end_date = input('Введите дату окончания периода в формате YYYY-MM-DD')\n",
    "\n",
    "date_range(start_date, end_date)"
   ]
  },
  {
   "cell_type": "code",
   "execution_count": 8,
   "metadata": {
    "ExecuteTime": {
     "end_time": "2021-03-23T03:52:39.235103Z",
     "start_time": "2021-03-23T03:52:39.215102Z"
    }
   },
   "outputs": [],
   "source": [
    "def date_range(start_date, end_date):                           \n",
    "    \"\"\"Преобразует данные ввода в datetime,\n",
    "       исключения на корректность формата и периода,\n",
    "       цикл на формирование списка дат периода,\n",
    "       если исключения- возвращает [] \"\"\"\n",
    "    dat = []\n",
    "    #delta = end_date - start_date\n",
    "    try:\n",
    "        start_date = datetime.strptime(start_date, '%Y-%m-%d')\n",
    "        end_date = datetime.strptime(end_date, '%Y-%m-%d')\n",
    "        start_date < end_date\n",
    "        delta = end_date - start_date\n",
    "        for d in range(delta.days + 1):\n",
    "            date_ = start_date + timedelta(d)\n",
    "            dat.append(date_.strftime('%Y-%m-%d'))\n",
    "        return print(dat)\n",
    "        #date_range()\n",
    "    except:                 #ValueError\n",
    "        print(dat)\n",
    "            #return rintp(dat)"
   ]
  },
  {
   "cell_type": "code",
   "execution_count": 9,
   "metadata": {
    "ExecuteTime": {
     "end_time": "2021-03-23T03:53:00.268306Z",
     "start_time": "2021-03-23T03:53:00.258306Z"
    }
   },
   "outputs": [
    {
     "name": "stdout",
     "output_type": "stream",
     "text": [
      "[]\n"
     ]
    }
   ],
   "source": [
    "date_range(start_date, end_date)"
   ]
  }
 ],
 "metadata": {
  "kernelspec": {
   "display_name": "Python 3",
   "language": "python",
   "name": "python3"
  },
  "language_info": {
   "codemirror_mode": {
    "name": "ipython",
    "version": 3
   },
   "file_extension": ".py",
   "mimetype": "text/x-python",
   "name": "python",
   "nbconvert_exporter": "python",
   "pygments_lexer": "ipython3",
   "version": "3.8.5"
  },
  "varInspector": {
   "cols": {
    "lenName": 16,
    "lenType": 16,
    "lenVar": 40
   },
   "kernels_config": {
    "python": {
     "delete_cmd_postfix": "",
     "delete_cmd_prefix": "del ",
     "library": "var_list.py",
     "varRefreshCmd": "print(var_dic_list())"
    },
    "r": {
     "delete_cmd_postfix": ") ",
     "delete_cmd_prefix": "rm(",
     "library": "var_list.r",
     "varRefreshCmd": "cat(var_dic_list()) "
    }
   },
   "types_to_exclude": [
    "module",
    "function",
    "builtin_function_or_method",
    "instance",
    "_Feature"
   ],
   "window_display": false
  }
 },
 "nbformat": 4,
 "nbformat_minor": 4
}
