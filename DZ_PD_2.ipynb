{
 "cells": [
  {
   "cell_type": "markdown",
   "metadata": {},
   "source": [
    "Задание 1"
   ]
  },
  {
   "cell_type": "code",
   "execution_count": 1,
   "metadata": {},
   "outputs": [
    {
     "name": "stdout",
     "output_type": "stream",
     "text": [
      "fgh\n",
      "g\n"
     ]
    }
   ],
   "source": [
    "#Дана переменная, в которой хранится слово из латинских букв. Напишите код, который выводит на экран:\n",
    "#1). среднюю букву, если число букв в слове нечетное; \n",
    "#2). две средних буквы, если число букв четное\n",
    "\n",
    "word = input()\n",
    "l_word = len(word)\n",
    "if l_word % 2 == 0:\n",
    "    print(word[l_word // 2 - 1] + word[l_word // 2])\n",
    "else:\n",
    "    #print(l_word)\n",
    "    print(word[l_word // 2])"
   ]
  },
  {
   "cell_type": "markdown",
   "metadata": {},
   "source": [
    "Задание 2"
   ]
  },
  {
   "cell_type": "code",
   "execution_count": null,
   "metadata": {},
   "outputs": [],
   "source": [
    "#Напишите программу, которая последовательно запрашивает у пользователя числа (по одному за раз)\n",
    "#и после первого нуля выводит сумму всех ранее введенных чисел\n",
    "\n",
    "x = int(input())\n",
    "sum = 0\n",
    "while x > 0:\n",
    "    sum += x\n",
    "    x = int(input())\n",
    "    if x == 0:\n",
    "        print(sum)"
   ]
  },
  {
   "cell_type": "code",
   "execution_count": null,
   "metadata": {},
   "outputs": [],
   "source": [
    "#Задание 2 (вар.2)\n",
    "x = int(input())\n",
    "sum = 0\n",
    "while x != 0:\n",
    "    sum += x\n",
    "    x = int(input())\n",
    "    \n",
    "print(sum)"
   ]
  },
  {
   "cell_type": "markdown",
   "metadata": {},
   "source": [
    "Задание 3"
   ]
  },
  {
   "cell_type": "code",
   "execution_count": null,
   "metadata": {},
   "outputs": [],
   "source": [
    "#Мы делаем MVP dating-сервиса, и у нас есть список парней и девушек. \n",
    "#Выдвигаем гипотезу: лучшие рекомендации мы получим, если просто отсортируем имена по алфавиту \n",
    "#и познакомим людей с одинаковыми индексами после сортировки! Но мы не будем никого знакомить, если кто-то может остаться без пары\n",
    "\n",
    "# Вариант 1\n",
    "boys = ['Peter', 'Alex', 'John', 'Arthur', 'Richard'] # список юношей\n",
    "girls = ['Kate', 'Liza', 'Kira', 'Emma', 'Trisha']      # список девушек\n",
    "sor_boys = sorted(boys)\n",
    "#sor_boys\n",
    "sor_girls = sorted(girls)\n",
    "#sor_girls\n",
    "if len(boys) == len(girls):\n",
    "    a = len(boys)\n",
    "    #print(x)\n",
    "    for i in range(a):\n",
    "    #for i in boys:\n",
    "        print(sor_boys[i],'и', sor_girls[i])\n",
    "else:\n",
    "    print('Внимание, кто-то может остаться без пары!')"
   ]
  },
  {
   "cell_type": "code",
   "execution_count": null,
   "metadata": {},
   "outputs": [],
   "source": [
    "# Вариант 2\n",
    "boys = ['Peter', 'Alex', 'John', 'Arthur', 'Richard'] # список юношей\n",
    "girls = ['Kate', 'Liza', 'Kira', 'Emma', 'Trisha']      # список девушек\n",
    "para = list(zip(sorted(boys), sorted(girls)))\n",
    "#print(list(para))\n",
    "if len(boys) == len(girls):\n",
    "    for pr in para:\n",
    "        print(pr[0] + ' и ' + pr[1])\n",
    "else:\n",
    "    print('Внимание, кто-то может остаться без пары!')"
   ]
  },
  {
   "cell_type": "markdown",
   "metadata": {},
   "source": [
    "Задание 4"
   ]
  },
  {
   "cell_type": "code",
   "execution_count": 1,
   "metadata": {},
   "outputs": [
    {
     "name": "stdout",
     "output_type": "stream",
     "text": [
      "Thailan - 23.9 C\n",
      "Germany - 13.8 C\n",
      "Russia - 3.7 C\n",
      "Poland - 12.0 C\n"
     ]
    }
   ],
   "source": [
    "#У нас есть список, содержащий информацию о среднедневной температуре в Фаренгейтах за произвольный период по\n",
    "#странам (структура данных в примере). Необходимо написать код, который рассчитает среднюю температуру за период в\n",
    "#Цельсиях(!) для каждой страны.\n",
    "#Результат:\n",
    "#Средняя температура в странах: Thailand - 23.9 С Germany - 13.8 С Russia - 3.7 С Poland - 12.0 С\n",
    "\n",
    "from statistics import mean                 #спасибо, гугл\n",
    "countries_temperature = [\n",
    "['Thailan', [75.2, 77, 78.8, 73.4, 68, 75.2, 77]],\n",
    "['Germany', [57.2, 55.4, 59, 59, 53.6]],\n",
    "['Russia', [35.6, 37.4, 39.2, 41, 42.8, 39.2, 35.6]],\n",
    "['Poland', [50, 50, 53.6, 57.2, 55.4, 55.4]]\n",
    "]\n",
    "for temp in countries_temperature:\n",
    "    m = mean(temp[1])\n",
    "# способ, с использованием материала лекций не получился, способ перевода в Цельсия взят со стороннего англоязычного сайта\n",
    "    m_2 = round((m-32)/1.8, 1)      \n",
    "    print(temp[0],'-', m_2,'C')"
   ]
  }
 ],
 "metadata": {
  "kernelspec": {
   "display_name": "Python 3",
   "language": "python",
   "name": "python3"
  },
  "language_info": {
   "codemirror_mode": {
    "name": "ipython",
    "version": 3
   },
   "file_extension": ".py",
   "mimetype": "text/x-python",
   "name": "python",
   "nbconvert_exporter": "python",
   "pygments_lexer": "ipython3",
   "version": "3.8.5"
  }
 },
 "nbformat": 4,
 "nbformat_minor": 4
}
