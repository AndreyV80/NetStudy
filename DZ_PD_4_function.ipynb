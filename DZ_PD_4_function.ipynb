{
 "cells": [
  {
   "cell_type": "code",
   "execution_count": 1,
   "metadata": {},
   "outputs": [],
   "source": [
    "documents = [\n",
    "{'type': 'passport', 'number': '2207 876234', 'name': 'Василий Гупкин'},\n",
    "{'type': 'invoice', 'number': '11-2', 'name': 'Геннадий Покемонов'},\n",
    "{'type': 'insurance', 'number': '10006', 'name': 'Аристарх Павлов'}\n",
    "]"
   ]
  },
  {
   "cell_type": "code",
   "execution_count": 2,
   "metadata": {},
   "outputs": [],
   "source": [
    "directories = {\n",
    "'1': ['2207 876234', '11-2'],\n",
    "'2': ['10006'],\n",
    "'3': []\n",
    "}"
   ]
  },
  {
   "cell_type": "code",
   "execution_count": 8,
   "metadata": {},
   "outputs": [
    {
     "name": "stdout",
     "output_type": "stream",
     "text": [
      "Введите команду: as\n",
      "Введите номер полки: 10\n",
      "Полка добавлена. Текущий перечень полок:  1, 2, 3, 10\n",
      "Введите команду: ds\n",
      "Введите номер полки: 10\n",
      "Полка удалена. Текущий перечень полок:  1, 2, 3\n",
      "Введите команду: q\n"
     ]
    }
   ],
   "source": [
    "while True:\n",
    "    user_input = ['p', 's', 'l', 'as', 'ds', 'q']\n",
    "    us_input = input('Введите команду: ')\n",
    "    if us_input not in user_input or us_input == 'q':\n",
    "        break\n",
    "   \n",
    "    owner_doc_dir()          # Выполнение команд 'p', 's'\n",
    "    owner_dir_all()       # Выполнение команды 'l'\n",
    "    owner_dir_update_del() # Добавление/удаление полок: 'as', 'ds"
   ]
  },
  {
   "cell_type": "code",
   "execution_count": 3,
   "metadata": {},
   "outputs": [],
   "source": [
    "def owner_doc_dir():\n",
    "# Выполнение команд 'p', 's' \n",
    "    if us_input == 'p':\n",
    "        us_ent = input('Введите номер документа: ')\n",
    "        for d in documents:\n",
    "            if d['number'] == us_ent:          \n",
    "                print(d['name'])\n",
    "    elif us_input == 's':\n",
    "        us_ent_dir = input('Введите номер документа: ') # в принципе задачу выполняет\n",
    "        for us_dir, dir_v in directories.items():\n",
    "            if us_ent_dir in dir_v :         # отредактировать вывод\n",
    "                print(us_dir)\n",
    "                     \n",
    "    return"
   ]
  },
  {
   "cell_type": "code",
   "execution_count": 4,
   "metadata": {},
   "outputs": [],
   "source": [
    "def owner_dir_all():\n",
    "  # Выполнение команды 'l'\n",
    "    if us_input == 'l':\n",
    "        for all_doc in documents:\n",
    "            for us_dir, dir_v in directories.items():\n",
    "                if all_doc['number'] in dir_v :        \n",
    "                    print('Результат: №:' + all_doc['number'] + ', тип: ' + all_doc['type'] + ', пользователь: ' + all_doc['name'] + ', полка хранения: ' + us_dir)\n",
    "    return"
   ]
  },
  {
   "cell_type": "code",
   "execution_count": 5,
   "metadata": {},
   "outputs": [],
   "source": [
    "def owner_dir_update_del():\n",
    "  # Добавление/удаление полок: 'as', 'ds'\n",
    "    if us_input == 'as':                                  \n",
    "        shelf_ent = input('Введите номер полки: ') \n",
    "        if shelf_ent in directories:                     # проверяет наличие полки\n",
    "            print('Такая полка уже существует. Текущий перечень полок: ', \", \".join(list(directories))) #работает\n",
    "        else:\n",
    "            directories[shelf_ent] = []             # добавление новой полки, если она отсутствует\n",
    "            print('Полка добавлена. Текущий перечень полок: ', \", \".join(list(directories)))\n",
    "    elif us_input == 'ds':\n",
    "        shelf_ent = input('Введите номер полки: ')\n",
    "        if shelf_ent in directories and directories[shelf_ent] == []:\n",
    "            del directories[shelf_ent]\n",
    "            print('Полка удалена. Текущий перечень полок: ', \", \".join(list(directories)))\n",
    "        else:\n",
    "            print('На полке есть документа, удалите их перед удалением полки. Текущий перечень полок:', \", \".join(list(directories)))\n",
    "\n",
    "    return"
   ]
  }
 ],
 "metadata": {
  "kernelspec": {
   "display_name": "Python 3",
   "language": "python",
   "name": "python3"
  },
  "language_info": {
   "codemirror_mode": {
    "name": "ipython",
    "version": 3
   },
   "file_extension": ".py",
   "mimetype": "text/x-python",
   "name": "python",
   "nbconvert_exporter": "python",
   "pygments_lexer": "ipython3",
   "version": "3.8.5"
  }
 },
 "nbformat": 4,
 "nbformat_minor": 4
}
