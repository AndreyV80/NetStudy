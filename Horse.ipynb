{
  "nbformat": 4,
  "nbformat_minor": 0,
  "metadata": {
    "colab": {
      "name": "Horse",
      "provenance": [],
      "collapsed_sections": [],
      "authorship_tag": "ABX9TyN47tUcHYAunnI+m4Eb9RQH",
      "include_colab_link": true
    },
    "kernelspec": {
      "name": "python3",
      "display_name": "Python 3"
    },
    "language_info": {
      "name": "python"
    }
  },
  "cells": [
    {
      "cell_type": "markdown",
      "metadata": {
        "id": "view-in-github",
        "colab_type": "text"
      },
      "source": [
        "<a href=\"https://colab.research.google.com/github/AndreyV80/NetStudy/blob/main/Horse.ipynb\" target=\"_parent\"><img src=\"https://colab.research.google.com/assets/colab-badge.svg\" alt=\"Open In Colab\"/></a>"
      ]
    },
    {
      "cell_type": "code",
      "metadata": {
        "id": "D9qelNQPt-J5"
      },
      "source": [
        "import pandas as pd\n",
        "import numpy as np\n",
        "\n",
        "\n",
        "import os, time\n",
        "from google.colab import drive"
      ],
      "execution_count": 1,
      "outputs": []
    },
    {
      "cell_type": "code",
      "metadata": {
        "colab": {
          "base_uri": "https://localhost:8080/"
        },
        "id": "XX9NuBRFuBOO",
        "outputId": "86195c4d-34b2-4584-9764-8552b211b0f7"
      },
      "source": [
        "drive.mount('/content/drive') "
      ],
      "execution_count": 2,
      "outputs": [
        {
          "output_type": "stream",
          "text": [
            "Mounted at /content/drive\n"
          ],
          "name": "stdout"
        }
      ]
    },
    {
      "cell_type": "code",
      "metadata": {
        "id": "bR5lfNtHyVyf"
      },
      "source": [
        "headers = [1,2,3,4,5,6,7,8,9,10,11,12,13,14,15,16,17,18,19,20,21,22,23,24,25,26,27,28]"
      ],
      "execution_count": null,
      "outputs": []
    },
    {
      "cell_type": "code",
      "metadata": {
        "id": "sjFl2SgCUUU0"
      },
      "source": [
        "headers2 = [\n",
        "   'operation','age','NumHospital','rectal_temp','pulse' ,'resp_rate',\n",
        "   'limb_temp','periph_pulse','mucous_memb',\n",
        "   'capil_fil_time','pain','peristalsis','bloating','nasogastric_tube',\n",
        "  'nasogastric_reflux','nasogastric_reflux_PH', 'rectal_examination', 'belly',\n",
        "   'VPC','total_protein','AAC','TAP',\n",
        "   'result','surgical_lesion','place_defeat','type_lesion','subtype_lesion','defeat_code','cp_data'\n",
        "]"
      ],
      "execution_count": 3,
      "outputs": []
    },
    {
      "cell_type": "code",
      "metadata": {
        "id": "jnFgCNwfgdWW"
      },
      "source": [
        "horse = pd.read_csv('/content/drive/My Drive/horse_data.csv', sep = ',', names=headers2)"
      ],
      "execution_count": 4,
      "outputs": []
    },
    {
      "cell_type": "code",
      "metadata": {
        "colab": {
          "base_uri": "https://localhost:8080/",
          "height": 100
        },
        "id": "BCcrS_6agg-6",
        "outputId": "d99522db-a69d-48fe-afe4-ef2397601d84"
      },
      "source": [
        "horse.head(1)"
      ],
      "execution_count": 5,
      "outputs": [
        {
          "output_type": "execute_result",
          "data": {
            "text/html": [
              "<div>\n",
              "<style scoped>\n",
              "    .dataframe tbody tr th:only-of-type {\n",
              "        vertical-align: middle;\n",
              "    }\n",
              "\n",
              "    .dataframe tbody tr th {\n",
              "        vertical-align: top;\n",
              "    }\n",
              "\n",
              "    .dataframe thead th {\n",
              "        text-align: right;\n",
              "    }\n",
              "</style>\n",
              "<table border=\"1\" class=\"dataframe\">\n",
              "  <thead>\n",
              "    <tr style=\"text-align: right;\">\n",
              "      <th></th>\n",
              "      <th>operation</th>\n",
              "      <th>age</th>\n",
              "      <th>NumHospital</th>\n",
              "      <th>rectal_temp</th>\n",
              "      <th>pulse</th>\n",
              "      <th>resp_rate</th>\n",
              "      <th>limb_temp</th>\n",
              "      <th>periph_pulse</th>\n",
              "      <th>mucous_memb</th>\n",
              "      <th>capil_fil_time</th>\n",
              "      <th>pain</th>\n",
              "      <th>peristalsis</th>\n",
              "      <th>bloating</th>\n",
              "      <th>nasogastric_tube</th>\n",
              "      <th>nasogastric_reflux</th>\n",
              "      <th>nasogastric_reflux_PH</th>\n",
              "      <th>rectal_examination</th>\n",
              "      <th>belly</th>\n",
              "      <th>VPC</th>\n",
              "      <th>total_protein</th>\n",
              "      <th>AAC</th>\n",
              "      <th>TAP</th>\n",
              "      <th>result</th>\n",
              "      <th>surgical_lesion</th>\n",
              "      <th>place_defeat</th>\n",
              "      <th>type_lesion</th>\n",
              "      <th>subtype_lesion</th>\n",
              "      <th>defeat_code</th>\n",
              "      <th>cp_data</th>\n",
              "    </tr>\n",
              "  </thead>\n",
              "  <tbody>\n",
              "    <tr>\n",
              "      <th>0</th>\n",
              "      <td>2</td>\n",
              "      <td>1</td>\n",
              "      <td>530101</td>\n",
              "      <td>38.50</td>\n",
              "      <td>66</td>\n",
              "      <td>28</td>\n",
              "      <td>3</td>\n",
              "      <td>3</td>\n",
              "      <td>?</td>\n",
              "      <td>2</td>\n",
              "      <td>5</td>\n",
              "      <td>4</td>\n",
              "      <td>4</td>\n",
              "      <td>?</td>\n",
              "      <td>?</td>\n",
              "      <td>?</td>\n",
              "      <td>3</td>\n",
              "      <td>5</td>\n",
              "      <td>45.00</td>\n",
              "      <td>8.40</td>\n",
              "      <td>?</td>\n",
              "      <td>?</td>\n",
              "      <td>2</td>\n",
              "      <td>2</td>\n",
              "      <td>11300</td>\n",
              "      <td>0</td>\n",
              "      <td>0</td>\n",
              "      <td>2</td>\n",
              "      <td>NaN</td>\n",
              "    </tr>\n",
              "  </tbody>\n",
              "</table>\n",
              "</div>"
            ],
            "text/plain": [
              "  operation  age  NumHospital  ... subtype_lesion defeat_code cp_data\n",
              "0         2    1       530101  ...              0           2     NaN\n",
              "\n",
              "[1 rows x 29 columns]"
            ]
          },
          "metadata": {
            "tags": []
          },
          "execution_count": 5
        }
      ]
    },
    {
      "cell_type": "code",
      "metadata": {
        "id": "TRAhHH2S_8Wb"
      },
      "source": [
        ""
      ],
      "execution_count": null,
      "outputs": []
    },
    {
      "cell_type": "markdown",
      "metadata": {
        "id": "prgCxKw8G1CP"
      },
      "source": [
        "**Задание 1. Загрузка данных**\n",
        "Изучить представленный набор данных на основе описания его столбцов, загрузить его и оставить 8 столбцов для дальнейшего изучения: surgery?, Age, rectal temperature, pulse, respiratory rate, temperature of extremities, pain, outcome."
      ]
    },
    {
      "cell_type": "code",
      "metadata": {
        "id": "nK2Nknv0_95T"
      },
      "source": [
        "horse2 = horse[['operation', 'age', 'rectal_temp', 'pulse','resp_rate', 'limb_temp', 'pain', 'result']]"
      ],
      "execution_count": 6,
      "outputs": []
    },
    {
      "cell_type": "code",
      "metadata": {
        "colab": {
          "base_uri": "https://localhost:8080/",
          "height": 111
        },
        "id": "voURWWuKCOJS",
        "outputId": "d8b83a4f-6870-4d60-dc1d-710a6c22195c"
      },
      "source": [
        "horse2.head(2)"
      ],
      "execution_count": null,
      "outputs": [
        {
          "output_type": "execute_result",
          "data": {
            "text/html": [
              "<div>\n",
              "<style scoped>\n",
              "    .dataframe tbody tr th:only-of-type {\n",
              "        vertical-align: middle;\n",
              "    }\n",
              "\n",
              "    .dataframe tbody tr th {\n",
              "        vertical-align: top;\n",
              "    }\n",
              "\n",
              "    .dataframe thead th {\n",
              "        text-align: right;\n",
              "    }\n",
              "</style>\n",
              "<table border=\"1\" class=\"dataframe\">\n",
              "  <thead>\n",
              "    <tr style=\"text-align: right;\">\n",
              "      <th></th>\n",
              "      <th>operation</th>\n",
              "      <th>age</th>\n",
              "      <th>rectal_temp</th>\n",
              "      <th>pulse</th>\n",
              "      <th>resp_rate</th>\n",
              "      <th>limb_temp</th>\n",
              "      <th>pain</th>\n",
              "      <th>result</th>\n",
              "    </tr>\n",
              "  </thead>\n",
              "  <tbody>\n",
              "    <tr>\n",
              "      <th>0</th>\n",
              "      <td>2</td>\n",
              "      <td>1</td>\n",
              "      <td>38.50</td>\n",
              "      <td>66</td>\n",
              "      <td>28</td>\n",
              "      <td>3</td>\n",
              "      <td>5</td>\n",
              "      <td>2</td>\n",
              "    </tr>\n",
              "    <tr>\n",
              "      <th>1</th>\n",
              "      <td>1</td>\n",
              "      <td>1</td>\n",
              "      <td>39.2</td>\n",
              "      <td>88</td>\n",
              "      <td>20</td>\n",
              "      <td>?</td>\n",
              "      <td>3</td>\n",
              "      <td>3</td>\n",
              "    </tr>\n",
              "  </tbody>\n",
              "</table>\n",
              "</div>"
            ],
            "text/plain": [
              "  operation  age rectal_temp pulse resp_rate limb_temp pain result\n",
              "0         2    1       38.50    66        28         3    5      2\n",
              "1         1    1        39.2    88        20         ?    3      3"
            ]
          },
          "metadata": {
            "tags": []
          },
          "execution_count": 7
        }
      ]
    },
    {
      "cell_type": "markdown",
      "metadata": {
        "id": "Hqt-2GYGEY7g"
      },
      "source": [
        "**Задание 2. Первичное изучение данных¶**\n",
        "Проанализировать значения по столбцам, рассчитать базовые статистики, найти выбросы."
      ]
    },
    {
      "cell_type": "markdown",
      "metadata": {
        "id": "_AOgwsFt4Yf7"
      },
      "source": [
        "Копируем данные"
      ]
    },
    {
      "cell_type": "code",
      "metadata": {
        "id": "BlQloIv4fL5b"
      },
      "source": [
        "horse3 = horse2.copy()\n",
        "#horse3['rectal_temp'] = horse3['rectal_temp'].replace(['?'], horse3['rectal_temp'].median())\n",
        "#df['BrandName'] = df['BrandName'].replace(['ABC', 'AB'], 'A')\n",
        "# .replace(horse3'rectal_temp'\n",
        "# df['Company Size'].replace({'-': None},inplace =True)"
      ],
      "execution_count": 7,
      "outputs": []
    },
    {
      "cell_type": "code",
      "metadata": {
        "id": "XbUJ5xtZ4cTf"
      },
      "source": [
        "Проверяем"
      ],
      "execution_count": null,
      "outputs": []
    },
    {
      "cell_type": "code",
      "metadata": {
        "colab": {
          "base_uri": "https://localhost:8080/",
          "height": 80
        },
        "id": "ls8ZgHJBgNVv",
        "outputId": "57e12bb0-4357-42af-91e5-11bbb7844db3"
      },
      "source": [
        "horse3.head(1)"
      ],
      "execution_count": 8,
      "outputs": [
        {
          "output_type": "execute_result",
          "data": {
            "text/html": [
              "<div>\n",
              "<style scoped>\n",
              "    .dataframe tbody tr th:only-of-type {\n",
              "        vertical-align: middle;\n",
              "    }\n",
              "\n",
              "    .dataframe tbody tr th {\n",
              "        vertical-align: top;\n",
              "    }\n",
              "\n",
              "    .dataframe thead th {\n",
              "        text-align: right;\n",
              "    }\n",
              "</style>\n",
              "<table border=\"1\" class=\"dataframe\">\n",
              "  <thead>\n",
              "    <tr style=\"text-align: right;\">\n",
              "      <th></th>\n",
              "      <th>operation</th>\n",
              "      <th>age</th>\n",
              "      <th>rectal_temp</th>\n",
              "      <th>pulse</th>\n",
              "      <th>resp_rate</th>\n",
              "      <th>limb_temp</th>\n",
              "      <th>pain</th>\n",
              "      <th>result</th>\n",
              "    </tr>\n",
              "  </thead>\n",
              "  <tbody>\n",
              "    <tr>\n",
              "      <th>0</th>\n",
              "      <td>2</td>\n",
              "      <td>1</td>\n",
              "      <td>38.50</td>\n",
              "      <td>66</td>\n",
              "      <td>28</td>\n",
              "      <td>3</td>\n",
              "      <td>5</td>\n",
              "      <td>2</td>\n",
              "    </tr>\n",
              "  </tbody>\n",
              "</table>\n",
              "</div>"
            ],
            "text/plain": [
              "  operation  age rectal_temp pulse resp_rate limb_temp pain result\n",
              "0         2    1       38.50    66        28         3    5      2"
            ]
          },
          "metadata": {
            "tags": []
          },
          "execution_count": 8
        }
      ]
    },
    {
      "cell_type": "markdown",
      "metadata": {
        "id": "tbBdQ8Wz4eQ-"
      },
      "source": [
        "Заменяем \"?\" на медиану по столбцу (переводим в числоввой тип). Выбор пал столбцы, которые отражают тем или иным обюразом числовые значения: температуры, пульс, частота пульса и болевые (посчитал допустимым)"
      ]
    },
    {
      "cell_type": "code",
      "metadata": {
        "id": "OFQP1SlKo1d0"
      },
      "source": [
        "horse3['rectal_temp'] = horse3['rectal_temp'].replace('?', 0).astype(int)\n",
        "horse3['rectal_temp'] = horse3['rectal_temp'].replace(0, horse3['rectal_temp'].median()) #horse3['rectal_temp'].median())"
      ],
      "execution_count": 38,
      "outputs": []
    },
    {
      "cell_type": "code",
      "metadata": {
        "id": "pKH98NnkAkmE"
      },
      "source": [
        "horse3['pulse'] = horse3['pulse'].replace('?', 0)\n",
        "horse3['pulse'] = horse3['pulse'].replace(0, horse3['pulse'].median()).astype(int) #horse3['rectal_temp'].median())"
      ],
      "execution_count": 29,
      "outputs": []
    },
    {
      "cell_type": "code",
      "metadata": {
        "id": "BRvgGxemylxc"
      },
      "source": [
        "horse3['resp_rate'] = horse3['resp_rate'].replace('?', 0)\n",
        "horse3['resp_rate'] = horse3['resp_rate'].replace(0, horse3['resp_rate'].median()).astype(int) #horse3['rectal_temp'].median())"
      ],
      "execution_count": 30,
      "outputs": []
    },
    {
      "cell_type": "code",
      "metadata": {
        "id": "es3P--eSzlwF"
      },
      "source": [
        "horse3['limb_temp'] = horse3['limb_temp'].replace('?', 0)\n",
        "horse3['limb_temp'] = horse3['limb_temp'].replace(0, horse3['limb_temp'].median()).astype(int) #horse3['rectal_temp'].median())"
      ],
      "execution_count": 31,
      "outputs": []
    },
    {
      "cell_type": "code",
      "metadata": {
        "id": "KFcmAzYz0URO"
      },
      "source": [
        "horse3['pain'] = horse3['pain'].replace('?', 0)\n",
        "horse3['pain'] = horse3['pain'].replace(0, horse3['pain'].median()).astype(int) #horse3['rectal_temp'].median())"
      ],
      "execution_count": 32,
      "outputs": []
    },
    {
      "cell_type": "code",
      "metadata": {
        "id": "wNW9QerA6DV1"
      },
      "source": [
        "horse3['rectal_temp']= horse3['rectal_temp'].astype(float)   # данную температуру перевел во float, поскольку здесь были непосредственно измерения, а не категории\n",
        "horse3['result']= horse3['result'].replace('?', 'Not submitted') # результаты: не знаю как заменить отсутствующие данные"
      ],
      "execution_count": null,
      "outputs": []
    },
    {
      "cell_type": "code",
      "metadata": {
        "id": "cz_rN_H6MMWk",
        "colab": {
          "base_uri": "https://localhost:8080/",
          "height": 111
        },
        "outputId": "b62a3f36-e5f4-486e-9fa0-78cd55a1eadb"
      },
      "source": [
        "horse3.head(2)"
      ],
      "execution_count": 41,
      "outputs": [
        {
          "output_type": "execute_result",
          "data": {
            "text/html": [
              "<div>\n",
              "<style scoped>\n",
              "    .dataframe tbody tr th:only-of-type {\n",
              "        vertical-align: middle;\n",
              "    }\n",
              "\n",
              "    .dataframe tbody tr th {\n",
              "        vertical-align: top;\n",
              "    }\n",
              "\n",
              "    .dataframe thead th {\n",
              "        text-align: right;\n",
              "    }\n",
              "</style>\n",
              "<table border=\"1\" class=\"dataframe\">\n",
              "  <thead>\n",
              "    <tr style=\"text-align: right;\">\n",
              "      <th></th>\n",
              "      <th>operation</th>\n",
              "      <th>age</th>\n",
              "      <th>rectal_temp</th>\n",
              "      <th>pulse</th>\n",
              "      <th>resp_rate</th>\n",
              "      <th>limb_temp</th>\n",
              "      <th>pain</th>\n",
              "      <th>result</th>\n",
              "    </tr>\n",
              "  </thead>\n",
              "  <tbody>\n",
              "    <tr>\n",
              "      <th>0</th>\n",
              "      <td>2</td>\n",
              "      <td>1</td>\n",
              "      <td>38</td>\n",
              "      <td>66</td>\n",
              "      <td>28</td>\n",
              "      <td>3</td>\n",
              "      <td>5</td>\n",
              "      <td>2</td>\n",
              "    </tr>\n",
              "    <tr>\n",
              "      <th>1</th>\n",
              "      <td>1</td>\n",
              "      <td>1</td>\n",
              "      <td>39</td>\n",
              "      <td>88</td>\n",
              "      <td>20</td>\n",
              "      <td>2</td>\n",
              "      <td>3</td>\n",
              "      <td>3</td>\n",
              "    </tr>\n",
              "  </tbody>\n",
              "</table>\n",
              "</div>"
            ],
            "text/plain": [
              "  operation  age  rectal_temp  pulse  resp_rate  limb_temp  pain result\n",
              "0         2    1           38     66         28          3     5      2\n",
              "1         1    1           39     88         20          2     3      3"
            ]
          },
          "metadata": {
            "tags": []
          },
          "execution_count": 41
        }
      ]
    },
    {
      "cell_type": "code",
      "metadata": {
        "colab": {
          "base_uri": "https://localhost:8080/"
        },
        "id": "9WZGGqoa02ZC",
        "outputId": "d1227d2d-e0a2-442c-e887-d2d3b056d749"
      },
      "source": [
        "horse3.info()"
      ],
      "execution_count": 42,
      "outputs": [
        {
          "output_type": "stream",
          "text": [
            "<class 'pandas.core.frame.DataFrame'>\n",
            "RangeIndex: 300 entries, 0 to 299\n",
            "Data columns (total 8 columns):\n",
            " #   Column       Non-Null Count  Dtype \n",
            "---  ------       --------------  ----- \n",
            " 0   operation    300 non-null    object\n",
            " 1   age          300 non-null    int64 \n",
            " 2   rectal_temp  300 non-null    int64 \n",
            " 3   pulse        300 non-null    int64 \n",
            " 4   resp_rate    300 non-null    int64 \n",
            " 5   limb_temp    300 non-null    int64 \n",
            " 6   pain         300 non-null    int64 \n",
            " 7   result       300 non-null    object\n",
            "dtypes: int64(6), object(2)\n",
            "memory usage: 18.9+ KB\n"
          ],
          "name": "stdout"
        }
      ]
    },
    {
      "cell_type": "code",
      "metadata": {
        "colab": {
          "base_uri": "https://localhost:8080/",
          "height": 297
        },
        "id": "GV_U8XBd2zay",
        "outputId": "8208360c-5bca-4c94-a65a-6ad78a24143c"
      },
      "source": [
        "horse3.describe()"
      ],
      "execution_count": 43,
      "outputs": [
        {
          "output_type": "execute_result",
          "data": {
            "text/html": [
              "<div>\n",
              "<style scoped>\n",
              "    .dataframe tbody tr th:only-of-type {\n",
              "        vertical-align: middle;\n",
              "    }\n",
              "\n",
              "    .dataframe tbody tr th {\n",
              "        vertical-align: top;\n",
              "    }\n",
              "\n",
              "    .dataframe thead th {\n",
              "        text-align: right;\n",
              "    }\n",
              "</style>\n",
              "<table border=\"1\" class=\"dataframe\">\n",
              "  <thead>\n",
              "    <tr style=\"text-align: right;\">\n",
              "      <th></th>\n",
              "      <th>age</th>\n",
              "      <th>rectal_temp</th>\n",
              "      <th>pulse</th>\n",
              "      <th>resp_rate</th>\n",
              "      <th>limb_temp</th>\n",
              "      <th>pain</th>\n",
              "    </tr>\n",
              "  </thead>\n",
              "  <tbody>\n",
              "    <tr>\n",
              "      <th>count</th>\n",
              "      <td>300.000000</td>\n",
              "      <td>300.000000</td>\n",
              "      <td>300.000000</td>\n",
              "      <td>300.000000</td>\n",
              "      <td>300.000000</td>\n",
              "      <td>300.000000</td>\n",
              "    </tr>\n",
              "    <tr>\n",
              "      <th>mean</th>\n",
              "      <td>1.640000</td>\n",
              "      <td>37.810000</td>\n",
              "      <td>70.960000</td>\n",
              "      <td>28.790000</td>\n",
              "      <td>2.283333</td>\n",
              "      <td>2.776667</td>\n",
              "    </tr>\n",
              "    <tr>\n",
              "      <th>std</th>\n",
              "      <td>2.173972</td>\n",
              "      <td>0.689554</td>\n",
              "      <td>27.647659</td>\n",
              "      <td>16.185151</td>\n",
              "      <td>0.951880</td>\n",
              "      <td>1.237698</td>\n",
              "    </tr>\n",
              "    <tr>\n",
              "      <th>min</th>\n",
              "      <td>1.000000</td>\n",
              "      <td>35.000000</td>\n",
              "      <td>30.000000</td>\n",
              "      <td>8.000000</td>\n",
              "      <td>1.000000</td>\n",
              "      <td>1.000000</td>\n",
              "    </tr>\n",
              "    <tr>\n",
              "      <th>25%</th>\n",
              "      <td>1.000000</td>\n",
              "      <td>37.000000</td>\n",
              "      <td>48.000000</td>\n",
              "      <td>20.000000</td>\n",
              "      <td>1.000000</td>\n",
              "      <td>2.000000</td>\n",
              "    </tr>\n",
              "    <tr>\n",
              "      <th>50%</th>\n",
              "      <td>1.000000</td>\n",
              "      <td>38.000000</td>\n",
              "      <td>60.000000</td>\n",
              "      <td>22.000000</td>\n",
              "      <td>2.000000</td>\n",
              "      <td>2.000000</td>\n",
              "    </tr>\n",
              "    <tr>\n",
              "      <th>75%</th>\n",
              "      <td>1.000000</td>\n",
              "      <td>38.000000</td>\n",
              "      <td>88.000000</td>\n",
              "      <td>34.250000</td>\n",
              "      <td>3.000000</td>\n",
              "      <td>4.000000</td>\n",
              "    </tr>\n",
              "    <tr>\n",
              "      <th>max</th>\n",
              "      <td>9.000000</td>\n",
              "      <td>40.000000</td>\n",
              "      <td>184.000000</td>\n",
              "      <td>96.000000</td>\n",
              "      <td>4.000000</td>\n",
              "      <td>5.000000</td>\n",
              "    </tr>\n",
              "  </tbody>\n",
              "</table>\n",
              "</div>"
            ],
            "text/plain": [
              "              age  rectal_temp       pulse   resp_rate   limb_temp        pain\n",
              "count  300.000000   300.000000  300.000000  300.000000  300.000000  300.000000\n",
              "mean     1.640000    37.810000   70.960000   28.790000    2.283333    2.776667\n",
              "std      2.173972     0.689554   27.647659   16.185151    0.951880    1.237698\n",
              "min      1.000000    35.000000   30.000000    8.000000    1.000000    1.000000\n",
              "25%      1.000000    37.000000   48.000000   20.000000    1.000000    2.000000\n",
              "50%      1.000000    38.000000   60.000000   22.000000    2.000000    2.000000\n",
              "75%      1.000000    38.000000   88.000000   34.250000    3.000000    4.000000\n",
              "max      9.000000    40.000000  184.000000   96.000000    4.000000    5.000000"
            ]
          },
          "metadata": {
            "tags": []
          },
          "execution_count": 43
        }
      ]
    },
    {
      "cell_type": "markdown",
      "metadata": {
        "id": "sWZqpKTl7ZUe"
      },
      "source": [
        "Судя по-всему данные по лошадям 9-летнего возраста будут излишними"
      ]
    },
    {
      "cell_type": "code",
      "metadata": {
        "colab": {
          "base_uri": "https://localhost:8080/",
          "height": 793
        },
        "id": "i2kL-Z9D7th1",
        "outputId": "9c0e64d3-fe1f-420c-cc9e-f29d80d53df4"
      },
      "source": [
        "horse3[horse3['age']== 9] "
      ],
      "execution_count": 50,
      "outputs": [
        {
          "output_type": "execute_result",
          "data": {
            "text/html": [
              "<div>\n",
              "<style scoped>\n",
              "    .dataframe tbody tr th:only-of-type {\n",
              "        vertical-align: middle;\n",
              "    }\n",
              "\n",
              "    .dataframe tbody tr th {\n",
              "        vertical-align: top;\n",
              "    }\n",
              "\n",
              "    .dataframe thead th {\n",
              "        text-align: right;\n",
              "    }\n",
              "</style>\n",
              "<table border=\"1\" class=\"dataframe\">\n",
              "  <thead>\n",
              "    <tr style=\"text-align: right;\">\n",
              "      <th></th>\n",
              "      <th>operation</th>\n",
              "      <th>age</th>\n",
              "      <th>rectal_temp</th>\n",
              "      <th>pulse</th>\n",
              "      <th>resp_rate</th>\n",
              "      <th>limb_temp</th>\n",
              "      <th>pain</th>\n",
              "      <th>result</th>\n",
              "    </tr>\n",
              "  </thead>\n",
              "  <tbody>\n",
              "    <tr>\n",
              "      <th>3</th>\n",
              "      <td>1</td>\n",
              "      <td>9</td>\n",
              "      <td>39</td>\n",
              "      <td>164</td>\n",
              "      <td>84</td>\n",
              "      <td>4</td>\n",
              "      <td>2</td>\n",
              "      <td>2</td>\n",
              "    </tr>\n",
              "    <tr>\n",
              "      <th>9</th>\n",
              "      <td>2</td>\n",
              "      <td>9</td>\n",
              "      <td>38</td>\n",
              "      <td>90</td>\n",
              "      <td>22</td>\n",
              "      <td>1</td>\n",
              "      <td>5</td>\n",
              "      <td>1</td>\n",
              "    </tr>\n",
              "    <tr>\n",
              "      <th>13</th>\n",
              "      <td>2</td>\n",
              "      <td>9</td>\n",
              "      <td>38</td>\n",
              "      <td>92</td>\n",
              "      <td>28</td>\n",
              "      <td>1</td>\n",
              "      <td>1</td>\n",
              "      <td>2</td>\n",
              "    </tr>\n",
              "    <tr>\n",
              "      <th>16</th>\n",
              "      <td>1</td>\n",
              "      <td>9</td>\n",
              "      <td>38</td>\n",
              "      <td>128</td>\n",
              "      <td>36</td>\n",
              "      <td>3</td>\n",
              "      <td>4</td>\n",
              "      <td>2</td>\n",
              "    </tr>\n",
              "    <tr>\n",
              "      <th>23</th>\n",
              "      <td>1</td>\n",
              "      <td>9</td>\n",
              "      <td>38</td>\n",
              "      <td>130</td>\n",
              "      <td>60</td>\n",
              "      <td>2</td>\n",
              "      <td>2</td>\n",
              "      <td>1</td>\n",
              "    </tr>\n",
              "    <tr>\n",
              "      <th>39</th>\n",
              "      <td>1</td>\n",
              "      <td>9</td>\n",
              "      <td>39</td>\n",
              "      <td>146</td>\n",
              "      <td>96</td>\n",
              "      <td>2</td>\n",
              "      <td>2</td>\n",
              "      <td>2</td>\n",
              "    </tr>\n",
              "    <tr>\n",
              "      <th>41</th>\n",
              "      <td>2</td>\n",
              "      <td>9</td>\n",
              "      <td>39</td>\n",
              "      <td>150</td>\n",
              "      <td>72</td>\n",
              "      <td>2</td>\n",
              "      <td>2</td>\n",
              "      <td>1</td>\n",
              "    </tr>\n",
              "    <tr>\n",
              "      <th>55</th>\n",
              "      <td>1</td>\n",
              "      <td>9</td>\n",
              "      <td>38</td>\n",
              "      <td>160</td>\n",
              "      <td>20</td>\n",
              "      <td>3</td>\n",
              "      <td>3</td>\n",
              "      <td>2</td>\n",
              "    </tr>\n",
              "    <tr>\n",
              "      <th>74</th>\n",
              "      <td>1</td>\n",
              "      <td>9</td>\n",
              "      <td>38</td>\n",
              "      <td>60</td>\n",
              "      <td>22</td>\n",
              "      <td>2</td>\n",
              "      <td>2</td>\n",
              "      <td>2</td>\n",
              "    </tr>\n",
              "    <tr>\n",
              "      <th>75</th>\n",
              "      <td>1</td>\n",
              "      <td>9</td>\n",
              "      <td>39</td>\n",
              "      <td>100</td>\n",
              "      <td>22</td>\n",
              "      <td>3</td>\n",
              "      <td>2</td>\n",
              "      <td>3</td>\n",
              "    </tr>\n",
              "    <tr>\n",
              "      <th>82</th>\n",
              "      <td>1</td>\n",
              "      <td>9</td>\n",
              "      <td>38</td>\n",
              "      <td>100</td>\n",
              "      <td>80</td>\n",
              "      <td>3</td>\n",
              "      <td>3</td>\n",
              "      <td>1</td>\n",
              "    </tr>\n",
              "    <tr>\n",
              "      <th>103</th>\n",
              "      <td>1</td>\n",
              "      <td>9</td>\n",
              "      <td>38</td>\n",
              "      <td>140</td>\n",
              "      <td>68</td>\n",
              "      <td>1</td>\n",
              "      <td>3</td>\n",
              "      <td>1</td>\n",
              "    </tr>\n",
              "    <tr>\n",
              "      <th>109</th>\n",
              "      <td>1</td>\n",
              "      <td>9</td>\n",
              "      <td>38</td>\n",
              "      <td>84</td>\n",
              "      <td>40</td>\n",
              "      <td>3</td>\n",
              "      <td>3</td>\n",
              "      <td>2</td>\n",
              "    </tr>\n",
              "    <tr>\n",
              "      <th>135</th>\n",
              "      <td>1</td>\n",
              "      <td>9</td>\n",
              "      <td>38</td>\n",
              "      <td>136</td>\n",
              "      <td>48</td>\n",
              "      <td>3</td>\n",
              "      <td>5</td>\n",
              "      <td>2</td>\n",
              "    </tr>\n",
              "    <tr>\n",
              "      <th>191</th>\n",
              "      <td>2</td>\n",
              "      <td>9</td>\n",
              "      <td>38</td>\n",
              "      <td>100</td>\n",
              "      <td>44</td>\n",
              "      <td>2</td>\n",
              "      <td>4</td>\n",
              "      <td>1</td>\n",
              "    </tr>\n",
              "    <tr>\n",
              "      <th>212</th>\n",
              "      <td>1</td>\n",
              "      <td>9</td>\n",
              "      <td>38</td>\n",
              "      <td>120</td>\n",
              "      <td>30</td>\n",
              "      <td>1</td>\n",
              "      <td>3</td>\n",
              "      <td>1</td>\n",
              "    </tr>\n",
              "    <tr>\n",
              "      <th>227</th>\n",
              "      <td>1</td>\n",
              "      <td>9</td>\n",
              "      <td>38</td>\n",
              "      <td>60</td>\n",
              "      <td>22</td>\n",
              "      <td>2</td>\n",
              "      <td>2</td>\n",
              "      <td>1</td>\n",
              "    </tr>\n",
              "    <tr>\n",
              "      <th>229</th>\n",
              "      <td>1</td>\n",
              "      <td>9</td>\n",
              "      <td>38</td>\n",
              "      <td>120</td>\n",
              "      <td>70</td>\n",
              "      <td>2</td>\n",
              "      <td>2</td>\n",
              "      <td>1</td>\n",
              "    </tr>\n",
              "    <tr>\n",
              "      <th>244</th>\n",
              "      <td>1</td>\n",
              "      <td>9</td>\n",
              "      <td>38</td>\n",
              "      <td>124</td>\n",
              "      <td>88</td>\n",
              "      <td>1</td>\n",
              "      <td>2</td>\n",
              "      <td>1</td>\n",
              "    </tr>\n",
              "    <tr>\n",
              "      <th>252</th>\n",
              "      <td>1</td>\n",
              "      <td>9</td>\n",
              "      <td>38</td>\n",
              "      <td>124</td>\n",
              "      <td>36</td>\n",
              "      <td>3</td>\n",
              "      <td>2</td>\n",
              "      <td>2</td>\n",
              "    </tr>\n",
              "    <tr>\n",
              "      <th>255</th>\n",
              "      <td>1</td>\n",
              "      <td>9</td>\n",
              "      <td>38</td>\n",
              "      <td>184</td>\n",
              "      <td>84</td>\n",
              "      <td>1</td>\n",
              "      <td>4</td>\n",
              "      <td>2</td>\n",
              "    </tr>\n",
              "    <tr>\n",
              "      <th>262</th>\n",
              "      <td>2</td>\n",
              "      <td>9</td>\n",
              "      <td>38</td>\n",
              "      <td>88</td>\n",
              "      <td>28</td>\n",
              "      <td>2</td>\n",
              "      <td>2</td>\n",
              "      <td>1</td>\n",
              "    </tr>\n",
              "    <tr>\n",
              "      <th>275</th>\n",
              "      <td>1</td>\n",
              "      <td>9</td>\n",
              "      <td>38</td>\n",
              "      <td>150</td>\n",
              "      <td>50</td>\n",
              "      <td>1</td>\n",
              "      <td>5</td>\n",
              "      <td>2</td>\n",
              "    </tr>\n",
              "    <tr>\n",
              "      <th>287</th>\n",
              "      <td>2</td>\n",
              "      <td>9</td>\n",
              "      <td>39</td>\n",
              "      <td>84</td>\n",
              "      <td>30</td>\n",
              "      <td>2</td>\n",
              "      <td>2</td>\n",
              "      <td>1</td>\n",
              "    </tr>\n",
              "  </tbody>\n",
              "</table>\n",
              "</div>"
            ],
            "text/plain": [
              "    operation  age  rectal_temp  pulse  resp_rate  limb_temp  pain result\n",
              "3           1    9           39    164         84          4     2      2\n",
              "9           2    9           38     90         22          1     5      1\n",
              "13          2    9           38     92         28          1     1      2\n",
              "16          1    9           38    128         36          3     4      2\n",
              "23          1    9           38    130         60          2     2      1\n",
              "39          1    9           39    146         96          2     2      2\n",
              "41          2    9           39    150         72          2     2      1\n",
              "55          1    9           38    160         20          3     3      2\n",
              "74          1    9           38     60         22          2     2      2\n",
              "75          1    9           39    100         22          3     2      3\n",
              "82          1    9           38    100         80          3     3      1\n",
              "103         1    9           38    140         68          1     3      1\n",
              "109         1    9           38     84         40          3     3      2\n",
              "135         1    9           38    136         48          3     5      2\n",
              "191         2    9           38    100         44          2     4      1\n",
              "212         1    9           38    120         30          1     3      1\n",
              "227         1    9           38     60         22          2     2      1\n",
              "229         1    9           38    120         70          2     2      1\n",
              "244         1    9           38    124         88          1     2      1\n",
              "252         1    9           38    124         36          3     2      2\n",
              "255         1    9           38    184         84          1     4      2\n",
              "262         2    9           38     88         28          2     2      1\n",
              "275         1    9           38    150         50          1     5      2\n",
              "287         2    9           39     84         30          2     2      1"
            ]
          },
          "metadata": {
            "tags": []
          },
          "execution_count": 50
        }
      ]
    },
    {
      "cell_type": "markdown",
      "metadata": {
        "id": "AWFli8aM7gMA"
      },
      "source": [
        ""
      ]
    }
  ]
}