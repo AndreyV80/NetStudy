{
  "nbformat": 4,
  "nbformat_minor": 0,
  "metadata": {
    "colab": {
      "name": "NumPyProjectWork",
      "provenance": [],
      "collapsed_sections": [],
      "authorship_tag": "ABX9TyP0SpAFuVKw2nOviX5PguGU",
      "include_colab_link": true
    },
    "kernelspec": {
      "name": "python3",
      "display_name": "Python 3"
    },
    "language_info": {
      "name": "python"
    }
  },
  "cells": [
    {
      "cell_type": "markdown",
      "metadata": {
        "id": "view-in-github",
        "colab_type": "text"
      },
      "source": [
        "<a href=\"https://colab.research.google.com/github/AndreyV80/NetStudy/blob/main/NumPyProjectWork.ipynb\" target=\"_parent\"><img src=\"https://colab.research.google.com/assets/colab-badge.svg\" alt=\"Open In Colab\"/></a>"
      ]
    },
    {
      "cell_type": "markdown",
      "metadata": {
        "id": "iuk8ClnmZ4Ne"
      },
      "source": [
        "**Задание 1**\n",
        "Создайте numpy array с элементами от числа N до 0 (например, для N = 10 это будет array([9, 8, 7, 6, 5, 4, 3, 2, 1, 0]))."
      ]
    },
    {
      "cell_type": "code",
      "metadata": {
        "id": "SfkOQ7G_Z8Iy"
      },
      "source": [
        "import numpy as np"
      ],
      "execution_count": 1,
      "outputs": []
    },
    {
      "cell_type": "code",
      "metadata": {
        "id": "H1E19QVCafPI",
        "colab": {
          "base_uri": "https://localhost:8080/"
        },
        "outputId": "8dca1903-e39b-4a2a-df80-bc51f9ab2a00"
      },
      "source": [
        "n = 10\n",
        "x = np.arange(n)\n",
        "x[::-1]      # 2-й вариант\n",
        "# 1-й вариант, изначально представленный как решение\n",
        "#sx = np.sort(x)[::-1]\n",
        "#sx"
      ],
      "execution_count": null,
      "outputs": [
        {
          "output_type": "execute_result",
          "data": {
            "text/plain": [
              "array([9, 8, 7, 6, 5, 4, 3, 2, 1, 0])"
            ]
          },
          "metadata": {
            "tags": []
          },
          "execution_count": 2
        }
      ]
    },
    {
      "cell_type": "markdown",
      "metadata": {
        "id": "cOOC3sJaZ8o6"
      },
      "source": [
        "**Задание 2**\n",
        "Создайте диагональную матрицу с элементами от N до 0. Посчитайте сумму ее значений на диагонали."
      ]
    },
    {
      "cell_type": "code",
      "metadata": {
        "colab": {
          "base_uri": "https://localhost:8080/"
        },
        "id": "0QEEpisfZphV",
        "outputId": "6b1aa85c-d29b-4a53-b1a2-d3765e641eb4"
      },
      "source": [
        "n = 10\n",
        "x = np.arange(n)\n",
        "diag_x = np.diag(x[::-1], k=0)\n",
        "diag_x\n",
        "#np.trace(diag_x)   \n"
      ],
      "execution_count": 2,
      "outputs": [
        {
          "output_type": "execute_result",
          "data": {
            "text/plain": [
              "array([[9, 0, 0, 0, 0, 0, 0, 0, 0, 0],\n",
              "       [0, 8, 0, 0, 0, 0, 0, 0, 0, 0],\n",
              "       [0, 0, 7, 0, 0, 0, 0, 0, 0, 0],\n",
              "       [0, 0, 0, 6, 0, 0, 0, 0, 0, 0],\n",
              "       [0, 0, 0, 0, 5, 0, 0, 0, 0, 0],\n",
              "       [0, 0, 0, 0, 0, 4, 0, 0, 0, 0],\n",
              "       [0, 0, 0, 0, 0, 0, 3, 0, 0, 0],\n",
              "       [0, 0, 0, 0, 0, 0, 0, 2, 0, 0],\n",
              "       [0, 0, 0, 0, 0, 0, 0, 0, 1, 0],\n",
              "       [0, 0, 0, 0, 0, 0, 0, 0, 0, 0]])"
            ]
          },
          "metadata": {
            "tags": []
          },
          "execution_count": 2
        }
      ]
    },
    {
      "cell_type": "code",
      "metadata": {
        "colab": {
          "base_uri": "https://localhost:8080/"
        },
        "id": "YgDQKcz9Xoy1",
        "outputId": "d6422257-afbb-4b16-e096-75d76b307530"
      },
      "source": [
        " # первоначальный вариант: после опытов со срезами матрицы, решил через цикл вывести значения диагоналей.\n",
        "sum_x_diag_x = 0               \n",
        "for i in range(n):\n",
        "    sum_x_diag_x += diag_x[i][i]\n",
        "print(sum_x_diag_x)\n",
        "   "
      ],
      "execution_count": 3,
      "outputs": [
        {
          "output_type": "stream",
          "text": [
            "45\n"
          ],
          "name": "stdout"
        }
      ]
    },
    {
      "cell_type": "code",
      "metadata": {
        "colab": {
          "base_uri": "https://localhost:8080/"
        },
        "id": "-4oYLK3x9C_i",
        "outputId": "7c97cc42-4f5c-412d-962b-ae375e69b527"
      },
      "source": [
        "# по-гуглил немного -https://physics.susu.ru/vorontsov/language/numpy.html\n",
        "np.trace(diag_x)          "
      ],
      "execution_count": 4,
      "outputs": [
        {
          "output_type": "execute_result",
          "data": {
            "text/plain": [
              "45"
            ]
          },
          "metadata": {
            "tags": []
          },
          "execution_count": 4
        }
      ]
    },
    {
      "cell_type": "markdown",
      "metadata": {
        "id": "MT1dkNRAaC1J"
      },
      "source": [
        "**Задание 3**\n",
        "Решите систему уравнений:\n",
        "4x + 2y + z = 4; \n",
        "x + 3y = 12; \n",
        "5y + 4z = -3."
      ]
    },
    {
      "cell_type": "code",
      "metadata": {
        "id": "xuucFcP-c8Lb"
      },
      "source": [
        "from numpy import linalg"
      ],
      "execution_count": 5,
      "outputs": []
    },
    {
      "cell_type": "code",
      "metadata": {
        "id": "h3v6P-WYaGjU"
      },
      "source": [
        "a1 = np.array([[4, 2, 1], [1, 3, 0], [0, 5, 4]])\n",
        "b1 = np.array([4, 12, -3])"
      ],
      "execution_count": 6,
      "outputs": []
    },
    {
      "cell_type": "code",
      "metadata": {
        "colab": {
          "base_uri": "https://localhost:8080/"
        },
        "id": "y9cnQxoJc5mE",
        "outputId": "db8a57ec-0d55-4fc1-9155-acf39236e6ca"
      },
      "source": [
        "linalg.solve(a1, b1)"
      ],
      "execution_count": 7,
      "outputs": [
        {
          "output_type": "execute_result",
          "data": {
            "text/plain": [
              "array([ 0.46666667,  3.84444444, -5.55555556])"
            ]
          },
          "metadata": {
            "tags": []
          },
          "execution_count": 7
        }
      ]
    },
    {
      "cell_type": "code",
      "metadata": {
        "colab": {
          "base_uri": "https://localhost:8080/"
        },
        "id": "JHJAMXcHc_nK",
        "outputId": "3b8f95d5-eb99-40fa-ea71-887b48f12c70"
      },
      "source": [
        "np.allclose( np.dot(a1, linalg.solve(a1, b1)), b1 )"
      ],
      "execution_count": 8,
      "outputs": [
        {
          "output_type": "execute_result",
          "data": {
            "text/plain": [
              "True"
            ]
          },
          "metadata": {
            "tags": []
          },
          "execution_count": 8
        }
      ]
    },
    {
      "cell_type": "markdown",
      "metadata": {
        "id": "QHS3VPr9bAqa"
      },
      "source": [
        ""
      ]
    },
    {
      "cell_type": "markdown",
      "metadata": {
        "id": "3kdXI6YOaHBM"
      },
      "source": [
        "**Задание 4**\n",
        "В материалах занятия раздел “Задача 4 домашнего задания”"
      ]
    },
    {
      "cell_type": "markdown",
      "metadata": {
        "id": "X9qhww32a8-j"
      },
      "source": [
        "Имеется матрица покупок в интернет-магазине. Столбец А - ID пользователя. Остальные столбцы - количество покупок категорий товаров этим пользователем:"
      ]
    },
    {
      "cell_type": "code",
      "metadata": {
        "id": "U0EEvwjhaLfU",
        "colab": {
          "base_uri": "https://localhost:8080/",
          "height": 34
        },
        "outputId": "50573612-5b53-4d02-afed-367b0b4849b6"
      },
      "source": [
        "from IPython.display import Image\n",
        "Image(\"user_matrix.JPG\")"
      ],
      "execution_count": null,
      "outputs": [
        {
          "output_type": "execute_result",
          "data": {
            "image/png": "user_matrix.JPG",
            "text/plain": [
              "<IPython.core.display.Image object>"
            ]
          },
          "metadata": {
            "tags": []
          },
          "execution_count": 1
        }
      ]
    },
    {
      "cell_type": "markdown",
      "metadata": {
        "id": "2Tx7QP3gbAGq"
      },
      "source": [
        "Матрица в виде numpy array"
      ]
    },
    {
      "cell_type": "code",
      "metadata": {
        "id": "zhUe--i5aiVR"
      },
      "source": [
        "users_stats = np.array(\n",
        "    [\n",
        "        [2, 1, 0, 0, 0, 0],\n",
        "        [1, 1, 2, 1, 0, 0],\n",
        "        [2, 0, 1, 0, 0, 0],\n",
        "        [1, 1, 2, 1, 0, 1],\n",
        "        [0, 0, 1, 2, 0, 0],\n",
        "        [0, 0, 0, 0, 0, 5],\n",
        "        [1, 0, 0, 0, 0, 0],\n",
        "        [0, 1, 1, 0, 0, 0],\n",
        "        [0, 0, 0, 1, 1, 3],\n",
        "        [1, 0, 0, 2, 1, 4]\n",
        "    ], \n",
        "    np.int32\n",
        ")"
      ],
      "execution_count": 10,
      "outputs": []
    },
    {
      "cell_type": "markdown",
      "metadata": {
        "id": "BWA6VJb6a0Yg"
      },
      "source": [
        "На сайт заходит очередной посетитель, о покупках которого известно следующее:"
      ]
    },
    {
      "cell_type": "code",
      "metadata": {
        "id": "6dxgRJsXargf"
      },
      "source": [
        "next_user_stats = np.array([0, 1, 2, 0, 0, 0])"
      ],
      "execution_count": 11,
      "outputs": []
    },
    {
      "cell_type": "markdown",
      "metadata": {
        "id": "6bEvg7nhauvV"
      },
      "source": [
        "Найдите самого похожего пользователя. Т. е. посчитайте косинусное сходство между этим пользователем и всеми пользователями из массива user_stats"
      ]
    },
    {
      "cell_type": "code",
      "metadata": {
        "colab": {
          "base_uri": "https://localhost:8080/"
        },
        "id": "hRZra9g_lCas",
        "outputId": "1d0d0518-0866-41f2-b04f-9d42e0476eaa"
      },
      "source": [
        "qwerty = {}\n",
        "id = 0\n",
        "for i in users_stats:\n",
        "    \"\"\" Расчет косинусного сходства нового клиента с клинтами из списка.\n",
        "        Установление счетчика \"id\" для формирования словаря \"qwerty\".\n",
        "        Вывод номера клиента и значения наиболее приближенного к новому клиенту\n",
        "    \"\"\"\n",
        "    aLength = np.sqrt( (i*i).sum() )\n",
        "    bLength = np.sqrt( (next_user_stats*next_user_stats).sum() )\n",
        "    np.dot( i, next_user_stats ) / ( aLength * bLength ) \n",
        "    id += 1\n",
        "    qwerty[id] = np.dot( i, next_user_stats ) / ( aLength * bLength )\n",
        "for k_, v in qwerty.items():\n",
        "     if v == max(qwerty.values()):\n",
        "         print('ID - ', k_,';', 'Value - ', v)"
      ],
      "execution_count": 14,
      "outputs": [
        {
          "output_type": "stream",
          "text": [
            "ID -  8 ; Value -  0.9486832980505138\n"
          ],
          "name": "stdout"
        }
      ]
    },
    {
      "cell_type": "code",
      "metadata": {
        "id": "WPPz7vrQn85h",
        "colab": {
          "base_uri": "https://localhost:8080/"
        },
        "outputId": "78099a17-a5ee-48cc-a97c-1229ec12ea3c"
      },
      "source": [
        "qwerty            # для проверки"
      ],
      "execution_count": 15,
      "outputs": [
        {
          "output_type": "execute_result",
          "data": {
            "text/plain": [
              "{1: 0.19999999999999996,\n",
              " 2: 0.8451542547285165,\n",
              " 3: 0.3999999999999999,\n",
              " 4: 0.7905694150420948,\n",
              " 5: 0.3999999999999999,\n",
              " 6: 0.0,\n",
              " 7: 0.0,\n",
              " 8: 0.9486832980505138,\n",
              " 9: 0.0,\n",
              " 10: 0.0}"
            ]
          },
          "metadata": {
            "tags": []
          },
          "execution_count": 15
        }
      ]
    }
  ]
}