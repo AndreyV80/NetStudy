{
  "nbformat": 4,
  "nbformat_minor": 0,
  "metadata": {
    "colab": {
      "name": "PandasProjectWork",
      "provenance": [],
      "collapsed_sections": [],
      "authorship_tag": "ABX9TyMsJ8w4hu5VqGnWAfj6xIYc",
      "include_colab_link": true
    },
    "kernelspec": {
      "name": "python3",
      "display_name": "Python 3"
    },
    "language_info": {
      "name": "python"
    }
  },
  "cells": [
    {
      "cell_type": "markdown",
      "metadata": {
        "id": "view-in-github",
        "colab_type": "text"
      },
      "source": [
        "<a href=\"https://colab.research.google.com/github/AndreyV80/NetStudy/blob/main/PandasProjectWork.ipynb\" target=\"_parent\"><img src=\"https://colab.research.google.com/assets/colab-badge.svg\" alt=\"Open In Colab\"/></a>"
      ]
    },
    {
      "cell_type": "markdown",
      "metadata": {
        "id": "CgQQWFW9q-R9"
      },
      "source": [
        "**Задание 1**\n",
        "Скачайте с сайта https://grouplens.org/datasets/movielens/ датасет любого размера. Определите какому фильму было выставлено больше всего оценок 5."
      ]
    },
    {
      "cell_type": "code",
      "metadata": {
        "id": "-dn2LrHmqye2"
      },
      "source": [
        "import pandas as pd\n",
        "import numpy as np\n",
        "\n",
        "\n",
        "import os, time\n",
        "from google.colab import drive"
      ],
      "execution_count": 16,
      "outputs": []
    },
    {
      "cell_type": "code",
      "metadata": {
        "colab": {
          "base_uri": "https://localhost:8080/"
        },
        "id": "kZJ9DkdwKIJ8",
        "outputId": "f9cd4b62-c696-4405-bce7-c7b2a79aad5b"
      },
      "source": [
        "drive.mount('/content/drive')               # подключение к google disk, куда загружены файла с  https://grouplens.org/datasets/movielens/ "
      ],
      "execution_count": null,
      "outputs": [
        {
          "output_type": "stream",
          "text": [
            "Drive already mounted at /content/drive; to attempt to forcibly remount, call drive.mount(\"/content/drive\", force_remount=True).\n"
          ],
          "name": "stdout"
        }
      ]
    },
    {
      "cell_type": "code",
      "metadata": {
        "colab": {
          "base_uri": "https://localhost:8080/",
          "height": 204
        },
        "id": "xb3pKznKrF_q",
        "outputId": "c04ed10c-20e4-4d86-9a1d-f1237d1eb7da"
      },
      "source": [
        "movies = pd.read_csv('/content/drive/My Drive/movies.csv')        # загуржаем файл с фильмами\n",
        "movies.head()"
      ],
      "execution_count": null,
      "outputs": [
        {
          "output_type": "execute_result",
          "data": {
            "text/html": [
              "<div>\n",
              "<style scoped>\n",
              "    .dataframe tbody tr th:only-of-type {\n",
              "        vertical-align: middle;\n",
              "    }\n",
              "\n",
              "    .dataframe tbody tr th {\n",
              "        vertical-align: top;\n",
              "    }\n",
              "\n",
              "    .dataframe thead th {\n",
              "        text-align: right;\n",
              "    }\n",
              "</style>\n",
              "<table border=\"1\" class=\"dataframe\">\n",
              "  <thead>\n",
              "    <tr style=\"text-align: right;\">\n",
              "      <th></th>\n",
              "      <th>movieId</th>\n",
              "      <th>title</th>\n",
              "      <th>genres</th>\n",
              "    </tr>\n",
              "  </thead>\n",
              "  <tbody>\n",
              "    <tr>\n",
              "      <th>0</th>\n",
              "      <td>1</td>\n",
              "      <td>Toy Story (1995)</td>\n",
              "      <td>Adventure|Animation|Children|Comedy|Fantasy</td>\n",
              "    </tr>\n",
              "    <tr>\n",
              "      <th>1</th>\n",
              "      <td>2</td>\n",
              "      <td>Jumanji (1995)</td>\n",
              "      <td>Adventure|Children|Fantasy</td>\n",
              "    </tr>\n",
              "    <tr>\n",
              "      <th>2</th>\n",
              "      <td>3</td>\n",
              "      <td>Grumpier Old Men (1995)</td>\n",
              "      <td>Comedy|Romance</td>\n",
              "    </tr>\n",
              "    <tr>\n",
              "      <th>3</th>\n",
              "      <td>4</td>\n",
              "      <td>Waiting to Exhale (1995)</td>\n",
              "      <td>Comedy|Drama|Romance</td>\n",
              "    </tr>\n",
              "    <tr>\n",
              "      <th>4</th>\n",
              "      <td>5</td>\n",
              "      <td>Father of the Bride Part II (1995)</td>\n",
              "      <td>Comedy</td>\n",
              "    </tr>\n",
              "  </tbody>\n",
              "</table>\n",
              "</div>"
            ],
            "text/plain": [
              "   movieId  ...                                       genres\n",
              "0        1  ...  Adventure|Animation|Children|Comedy|Fantasy\n",
              "1        2  ...                   Adventure|Children|Fantasy\n",
              "2        3  ...                               Comedy|Romance\n",
              "3        4  ...                         Comedy|Drama|Romance\n",
              "4        5  ...                                       Comedy\n",
              "\n",
              "[5 rows x 3 columns]"
            ]
          },
          "metadata": {
            "tags": []
          },
          "execution_count": 3
        }
      ]
    },
    {
      "cell_type": "code",
      "metadata": {
        "colab": {
          "base_uri": "https://localhost:8080/",
          "height": 204
        },
        "id": "tkfLTIjOLs8z",
        "outputId": "a1e63bb1-e431-44d0-bef4-df1c1e62843f"
      },
      "source": [
        "ratings = pd.read_csv('/content/drive/My Drive/ratings.csv') # загружаем файл с рейтигом\n",
        "ratings.head()"
      ],
      "execution_count": null,
      "outputs": [
        {
          "output_type": "execute_result",
          "data": {
            "text/html": [
              "<div>\n",
              "<style scoped>\n",
              "    .dataframe tbody tr th:only-of-type {\n",
              "        vertical-align: middle;\n",
              "    }\n",
              "\n",
              "    .dataframe tbody tr th {\n",
              "        vertical-align: top;\n",
              "    }\n",
              "\n",
              "    .dataframe thead th {\n",
              "        text-align: right;\n",
              "    }\n",
              "</style>\n",
              "<table border=\"1\" class=\"dataframe\">\n",
              "  <thead>\n",
              "    <tr style=\"text-align: right;\">\n",
              "      <th></th>\n",
              "      <th>userId</th>\n",
              "      <th>movieId</th>\n",
              "      <th>rating</th>\n",
              "      <th>timestamp</th>\n",
              "    </tr>\n",
              "  </thead>\n",
              "  <tbody>\n",
              "    <tr>\n",
              "      <th>0</th>\n",
              "      <td>1</td>\n",
              "      <td>1</td>\n",
              "      <td>4.0</td>\n",
              "      <td>964982703</td>\n",
              "    </tr>\n",
              "    <tr>\n",
              "      <th>1</th>\n",
              "      <td>1</td>\n",
              "      <td>3</td>\n",
              "      <td>4.0</td>\n",
              "      <td>964981247</td>\n",
              "    </tr>\n",
              "    <tr>\n",
              "      <th>2</th>\n",
              "      <td>1</td>\n",
              "      <td>6</td>\n",
              "      <td>4.0</td>\n",
              "      <td>964982224</td>\n",
              "    </tr>\n",
              "    <tr>\n",
              "      <th>3</th>\n",
              "      <td>1</td>\n",
              "      <td>47</td>\n",
              "      <td>5.0</td>\n",
              "      <td>964983815</td>\n",
              "    </tr>\n",
              "    <tr>\n",
              "      <th>4</th>\n",
              "      <td>1</td>\n",
              "      <td>50</td>\n",
              "      <td>5.0</td>\n",
              "      <td>964982931</td>\n",
              "    </tr>\n",
              "  </tbody>\n",
              "</table>\n",
              "</div>"
            ],
            "text/plain": [
              "   userId  movieId  rating  timestamp\n",
              "0       1        1     4.0  964982703\n",
              "1       1        3     4.0  964981247\n",
              "2       1        6     4.0  964982224\n",
              "3       1       47     5.0  964983815\n",
              "4       1       50     5.0  964982931"
            ]
          },
          "metadata": {
            "tags": []
          },
          "execution_count": 4
        }
      ]
    },
    {
      "cell_type": "code",
      "metadata": {
        "colab": {
          "base_uri": "https://localhost:8080/",
          "height": 204
        },
        "id": "UkqH-3gwtcI4",
        "outputId": "cdddb558-d8a1-4766-940a-8553e8ae1ba0"
      },
      "source": [
        "movies_ratings = movies.merge(ratings, left_on='movieId', right_on='movieId', how='inner') # объединяем файлы\n",
        "movies_ratings.head()"
      ],
      "execution_count": null,
      "outputs": [
        {
          "output_type": "execute_result",
          "data": {
            "text/html": [
              "<div>\n",
              "<style scoped>\n",
              "    .dataframe tbody tr th:only-of-type {\n",
              "        vertical-align: middle;\n",
              "    }\n",
              "\n",
              "    .dataframe tbody tr th {\n",
              "        vertical-align: top;\n",
              "    }\n",
              "\n",
              "    .dataframe thead th {\n",
              "        text-align: right;\n",
              "    }\n",
              "</style>\n",
              "<table border=\"1\" class=\"dataframe\">\n",
              "  <thead>\n",
              "    <tr style=\"text-align: right;\">\n",
              "      <th></th>\n",
              "      <th>movieId</th>\n",
              "      <th>title</th>\n",
              "      <th>genres</th>\n",
              "      <th>userId</th>\n",
              "      <th>rating</th>\n",
              "      <th>timestamp</th>\n",
              "    </tr>\n",
              "  </thead>\n",
              "  <tbody>\n",
              "    <tr>\n",
              "      <th>0</th>\n",
              "      <td>1</td>\n",
              "      <td>Toy Story (1995)</td>\n",
              "      <td>Adventure|Animation|Children|Comedy|Fantasy</td>\n",
              "      <td>1</td>\n",
              "      <td>4.0</td>\n",
              "      <td>964982703</td>\n",
              "    </tr>\n",
              "    <tr>\n",
              "      <th>1</th>\n",
              "      <td>1</td>\n",
              "      <td>Toy Story (1995)</td>\n",
              "      <td>Adventure|Animation|Children|Comedy|Fantasy</td>\n",
              "      <td>5</td>\n",
              "      <td>4.0</td>\n",
              "      <td>847434962</td>\n",
              "    </tr>\n",
              "    <tr>\n",
              "      <th>2</th>\n",
              "      <td>1</td>\n",
              "      <td>Toy Story (1995)</td>\n",
              "      <td>Adventure|Animation|Children|Comedy|Fantasy</td>\n",
              "      <td>7</td>\n",
              "      <td>4.5</td>\n",
              "      <td>1106635946</td>\n",
              "    </tr>\n",
              "    <tr>\n",
              "      <th>3</th>\n",
              "      <td>1</td>\n",
              "      <td>Toy Story (1995)</td>\n",
              "      <td>Adventure|Animation|Children|Comedy|Fantasy</td>\n",
              "      <td>15</td>\n",
              "      <td>2.5</td>\n",
              "      <td>1510577970</td>\n",
              "    </tr>\n",
              "    <tr>\n",
              "      <th>4</th>\n",
              "      <td>1</td>\n",
              "      <td>Toy Story (1995)</td>\n",
              "      <td>Adventure|Animation|Children|Comedy|Fantasy</td>\n",
              "      <td>17</td>\n",
              "      <td>4.5</td>\n",
              "      <td>1305696483</td>\n",
              "    </tr>\n",
              "  </tbody>\n",
              "</table>\n",
              "</div>"
            ],
            "text/plain": [
              "   movieId             title  ... rating   timestamp\n",
              "0        1  Toy Story (1995)  ...    4.0   964982703\n",
              "1        1  Toy Story (1995)  ...    4.0   847434962\n",
              "2        1  Toy Story (1995)  ...    4.5  1106635946\n",
              "3        1  Toy Story (1995)  ...    2.5  1510577970\n",
              "4        1  Toy Story (1995)  ...    4.5  1305696483\n",
              "\n",
              "[5 rows x 6 columns]"
            ]
          },
          "metadata": {
            "tags": []
          },
          "execution_count": 5
        }
      ]
    },
    {
      "cell_type": "code",
      "metadata": {
        "colab": {
          "base_uri": "https://localhost:8080/",
          "height": 204
        },
        "id": "7oVPZckHziW-",
        "outputId": "33b116f5-ae95-48a5-c8ca-5f8551898589"
      },
      "source": [
        "movies_balls = movies_ratings.query('rating == 5.0')      # сортируем файлы по максимальному баллу\n",
        "movies_balls.head()"
      ],
      "execution_count": null,
      "outputs": [
        {
          "output_type": "execute_result",
          "data": {
            "text/html": [
              "<div>\n",
              "<style scoped>\n",
              "    .dataframe tbody tr th:only-of-type {\n",
              "        vertical-align: middle;\n",
              "    }\n",
              "\n",
              "    .dataframe tbody tr th {\n",
              "        vertical-align: top;\n",
              "    }\n",
              "\n",
              "    .dataframe thead th {\n",
              "        text-align: right;\n",
              "    }\n",
              "</style>\n",
              "<table border=\"1\" class=\"dataframe\">\n",
              "  <thead>\n",
              "    <tr style=\"text-align: right;\">\n",
              "      <th></th>\n",
              "      <th>movieId</th>\n",
              "      <th>title</th>\n",
              "      <th>genres</th>\n",
              "      <th>userId</th>\n",
              "      <th>rating</th>\n",
              "      <th>timestamp</th>\n",
              "    </tr>\n",
              "  </thead>\n",
              "  <tbody>\n",
              "    <tr>\n",
              "      <th>9</th>\n",
              "      <td>1</td>\n",
              "      <td>Toy Story (1995)</td>\n",
              "      <td>Adventure|Animation|Children|Comedy|Fantasy</td>\n",
              "      <td>31</td>\n",
              "      <td>5.0</td>\n",
              "      <td>850466616</td>\n",
              "    </tr>\n",
              "    <tr>\n",
              "      <th>12</th>\n",
              "      <td>1</td>\n",
              "      <td>Toy Story (1995)</td>\n",
              "      <td>Adventure|Animation|Children|Comedy|Fantasy</td>\n",
              "      <td>40</td>\n",
              "      <td>5.0</td>\n",
              "      <td>832058959</td>\n",
              "    </tr>\n",
              "    <tr>\n",
              "      <th>13</th>\n",
              "      <td>1</td>\n",
              "      <td>Toy Story (1995)</td>\n",
              "      <td>Adventure|Animation|Children|Comedy|Fantasy</td>\n",
              "      <td>43</td>\n",
              "      <td>5.0</td>\n",
              "      <td>848993983</td>\n",
              "    </tr>\n",
              "    <tr>\n",
              "      <th>16</th>\n",
              "      <td>1</td>\n",
              "      <td>Toy Story (1995)</td>\n",
              "      <td>Adventure|Animation|Children|Comedy|Fantasy</td>\n",
              "      <td>46</td>\n",
              "      <td>5.0</td>\n",
              "      <td>834787906</td>\n",
              "    </tr>\n",
              "    <tr>\n",
              "      <th>19</th>\n",
              "      <td>1</td>\n",
              "      <td>Toy Story (1995)</td>\n",
              "      <td>Adventure|Animation|Children|Comedy|Fantasy</td>\n",
              "      <td>57</td>\n",
              "      <td>5.0</td>\n",
              "      <td>965796031</td>\n",
              "    </tr>\n",
              "  </tbody>\n",
              "</table>\n",
              "</div>"
            ],
            "text/plain": [
              "    movieId             title  ... rating  timestamp\n",
              "9         1  Toy Story (1995)  ...    5.0  850466616\n",
              "12        1  Toy Story (1995)  ...    5.0  832058959\n",
              "13        1  Toy Story (1995)  ...    5.0  848993983\n",
              "16        1  Toy Story (1995)  ...    5.0  834787906\n",
              "19        1  Toy Story (1995)  ...    5.0  965796031\n",
              "\n",
              "[5 rows x 6 columns]"
            ]
          },
          "metadata": {
            "tags": []
          },
          "execution_count": 6
        }
      ]
    },
    {
      "cell_type": "code",
      "metadata": {
        "id": "GeY5Weef2chX",
        "colab": {
          "base_uri": "https://localhost:8080/"
        },
        "outputId": "94260e67-43b8-4aa8-b519-1fbde866a295"
      },
      "source": [
        "movies_balls['title'].unique()"
      ],
      "execution_count": null,
      "outputs": [
        {
          "output_type": "execute_result",
          "data": {
            "text/plain": [
              "array(['Toy Story (1995)', 'Jumanji (1995)', 'Grumpier Old Men (1995)',\n",
              "       ..., 'Deadpool 2 (2018)', 'Solo: A Star Wars Story (2018)',\n",
              "       \"Won't You Be My Neighbor? (2018)\"], dtype=object)"
            ]
          },
          "metadata": {
            "tags": []
          },
          "execution_count": 12
        }
      ]
    },
    {
      "cell_type": "code",
      "metadata": {
        "colab": {
          "base_uri": "https://localhost:8080/",
          "height": 204
        },
        "id": "WtjBGbOzT6-6",
        "outputId": "6e1cda48-0ce7-48c2-aff3-fe6047dc1edf"
      },
      "source": [
        "movies_balls.sort_values('rating', ascending=False).head()"
      ],
      "execution_count": null,
      "outputs": [
        {
          "output_type": "execute_result",
          "data": {
            "text/html": [
              "<div>\n",
              "<style scoped>\n",
              "    .dataframe tbody tr th:only-of-type {\n",
              "        vertical-align: middle;\n",
              "    }\n",
              "\n",
              "    .dataframe tbody tr th {\n",
              "        vertical-align: top;\n",
              "    }\n",
              "\n",
              "    .dataframe thead th {\n",
              "        text-align: right;\n",
              "    }\n",
              "</style>\n",
              "<table border=\"1\" class=\"dataframe\">\n",
              "  <thead>\n",
              "    <tr style=\"text-align: right;\">\n",
              "      <th></th>\n",
              "      <th>movieId</th>\n",
              "      <th>title</th>\n",
              "      <th>genres</th>\n",
              "      <th>userId</th>\n",
              "      <th>rating</th>\n",
              "      <th>timestamp</th>\n",
              "    </tr>\n",
              "  </thead>\n",
              "  <tbody>\n",
              "    <tr>\n",
              "      <th>9</th>\n",
              "      <td>1</td>\n",
              "      <td>Toy Story (1995)</td>\n",
              "      <td>Adventure|Animation|Children|Comedy|Fantasy</td>\n",
              "      <td>31</td>\n",
              "      <td>5.0</td>\n",
              "      <td>850466616</td>\n",
              "    </tr>\n",
              "    <tr>\n",
              "      <th>55288</th>\n",
              "      <td>3543</td>\n",
              "      <td>Diner (1982)</td>\n",
              "      <td>Comedy|Drama</td>\n",
              "      <td>216</td>\n",
              "      <td>5.0</td>\n",
              "      <td>975212259</td>\n",
              "    </tr>\n",
              "    <tr>\n",
              "      <th>55217</th>\n",
              "      <td>3535</td>\n",
              "      <td>American Psycho (2000)</td>\n",
              "      <td>Crime|Horror|Mystery|Thriller</td>\n",
              "      <td>274</td>\n",
              "      <td>5.0</td>\n",
              "      <td>1172008077</td>\n",
              "    </tr>\n",
              "    <tr>\n",
              "      <th>55220</th>\n",
              "      <td>3535</td>\n",
              "      <td>American Psycho (2000)</td>\n",
              "      <td>Crime|Horror|Mystery|Thriller</td>\n",
              "      <td>305</td>\n",
              "      <td>5.0</td>\n",
              "      <td>1518768059</td>\n",
              "    </tr>\n",
              "    <tr>\n",
              "      <th>55221</th>\n",
              "      <td>3535</td>\n",
              "      <td>American Psycho (2000)</td>\n",
              "      <td>Crime|Horror|Mystery|Thriller</td>\n",
              "      <td>307</td>\n",
              "      <td>5.0</td>\n",
              "      <td>1186084915</td>\n",
              "    </tr>\n",
              "  </tbody>\n",
              "</table>\n",
              "</div>"
            ],
            "text/plain": [
              "       movieId                   title  ... rating   timestamp\n",
              "9            1        Toy Story (1995)  ...    5.0   850466616\n",
              "55288     3543            Diner (1982)  ...    5.0   975212259\n",
              "55217     3535  American Psycho (2000)  ...    5.0  1172008077\n",
              "55220     3535  American Psycho (2000)  ...    5.0  1518768059\n",
              "55221     3535  American Psycho (2000)  ...    5.0  1186084915\n",
              "\n",
              "[5 rows x 6 columns]"
            ]
          },
          "metadata": {
            "tags": []
          },
          "execution_count": 7
        }
      ]
    },
    {
      "cell_type": "code",
      "metadata": {
        "colab": {
          "base_uri": "https://localhost:8080/"
        },
        "id": "JbOVwcEZZGqP",
        "outputId": "e7d0b437-d745-429d-ad3f-fbce7f87f447"
      },
      "source": [
        "result = movies_balls['title'].value_counts()   # определяем максимальное вхождение элементов по столбцу 'title', выводим первую строчку таблицы с фильмом с максимальным количеством 5-балльных оценок.\n",
        "result.head(1)"
      ],
      "execution_count": null,
      "outputs": [
        {
          "output_type": "execute_result",
          "data": {
            "text/plain": [
              "Shawshank Redemption, The (1994)    153\n",
              "Name: title, dtype: int64"
            ]
          },
          "metadata": {
            "tags": []
          },
          "execution_count": 45
        }
      ]
    },
    {
      "cell_type": "code",
      "metadata": {
        "colab": {
          "base_uri": "https://localhost:8080/",
          "height": 35
        },
        "id": "lNVCDAKCiO0Q",
        "outputId": "1c15627a-f7d5-4421-a6f7-df927d9b7fde"
      },
      "source": [
        "result.idxmax() # или так..."
      ],
      "execution_count": null,
      "outputs": [
        {
          "output_type": "execute_result",
          "data": {
            "application/vnd.google.colaboratory.intrinsic+json": {
              "type": "string"
            },
            "text/plain": [
              "'Shawshank Redemption, The (1994)'"
            ]
          },
          "metadata": {
            "tags": []
          },
          "execution_count": 46
        }
      ]
    },
    {
      "cell_type": "markdown",
      "metadata": {
        "id": "-JPtwvpWvuyd"
      },
      "source": [
        "**Задание 2**\n",
        "По данным файла power.csv посчитайте суммарное потребление стран Прибалтики (Латвия, Литва и Эстония) категорий 4, 12 и 21 за период с 2005 по 2010 года. Не учитывайте в расчетах отрицательные значения quantity."
      ]
    },
    {
      "cell_type": "code",
      "metadata": {
        "colab": {
          "base_uri": "https://localhost:8080/",
          "height": 204
        },
        "id": "nGyG7H0NvwYA",
        "outputId": "8818bff3-985d-470a-98df-2140356a8b2c"
      },
      "source": [
        "power = pd.read_csv('/content/drive/My Drive/power.csv') # загрузка данных\n",
        "power.head()"
      ],
      "execution_count": null,
      "outputs": [
        {
          "output_type": "execute_result",
          "data": {
            "text/html": [
              "<div>\n",
              "<style scoped>\n",
              "    .dataframe tbody tr th:only-of-type {\n",
              "        vertical-align: middle;\n",
              "    }\n",
              "\n",
              "    .dataframe tbody tr th {\n",
              "        vertical-align: top;\n",
              "    }\n",
              "\n",
              "    .dataframe thead th {\n",
              "        text-align: right;\n",
              "    }\n",
              "</style>\n",
              "<table border=\"1\" class=\"dataframe\">\n",
              "  <thead>\n",
              "    <tr style=\"text-align: right;\">\n",
              "      <th></th>\n",
              "      <th>country</th>\n",
              "      <th>year</th>\n",
              "      <th>quantity</th>\n",
              "      <th>category</th>\n",
              "    </tr>\n",
              "  </thead>\n",
              "  <tbody>\n",
              "    <tr>\n",
              "      <th>0</th>\n",
              "      <td>Austria</td>\n",
              "      <td>1996</td>\n",
              "      <td>5.0</td>\n",
              "      <td>1</td>\n",
              "    </tr>\n",
              "    <tr>\n",
              "      <th>1</th>\n",
              "      <td>Austria</td>\n",
              "      <td>1995</td>\n",
              "      <td>17.0</td>\n",
              "      <td>1</td>\n",
              "    </tr>\n",
              "    <tr>\n",
              "      <th>2</th>\n",
              "      <td>Belgium</td>\n",
              "      <td>2014</td>\n",
              "      <td>0.0</td>\n",
              "      <td>1</td>\n",
              "    </tr>\n",
              "    <tr>\n",
              "      <th>3</th>\n",
              "      <td>Belgium</td>\n",
              "      <td>2013</td>\n",
              "      <td>0.0</td>\n",
              "      <td>1</td>\n",
              "    </tr>\n",
              "    <tr>\n",
              "      <th>4</th>\n",
              "      <td>Belgium</td>\n",
              "      <td>2012</td>\n",
              "      <td>35.0</td>\n",
              "      <td>1</td>\n",
              "    </tr>\n",
              "  </tbody>\n",
              "</table>\n",
              "</div>"
            ],
            "text/plain": [
              "   country  year  quantity  category\n",
              "0  Austria  1996       5.0         1\n",
              "1  Austria  1995      17.0         1\n",
              "2  Belgium  2014       0.0         1\n",
              "3  Belgium  2013       0.0         1\n",
              "4  Belgium  2012      35.0         1"
            ]
          },
          "metadata": {
            "tags": []
          },
          "execution_count": 5
        }
      ]
    },
    {
      "cell_type": "code",
      "metadata": {
        "id": "ptD88M7VLoyd"
      },
      "source": [
        "power['country'].unique()                # просматриваем уникальные названия государств"
      ],
      "execution_count": null,
      "outputs": []
    },
    {
      "cell_type": "markdown",
      "metadata": {
        "id": "zzfQulHgMG8h"
      },
      "source": [
        "'Latvia'  'Lithuania'   'Estonia'"
      ]
    },
    {
      "cell_type": "code",
      "metadata": {
        "colab": {
          "base_uri": "https://localhost:8080/"
        },
        "id": "OO5nXlIGL633",
        "outputId": "7d5028ad-a8d6-4f4c-9458-120262498f47"
      },
      "source": [
        "power[ power['country'].str.contains('Esto' and 'Lat', case=False) ]['country'].unique()"
      ],
      "execution_count": null,
      "outputs": [
        {
          "output_type": "execute_result",
          "data": {
            "text/plain": [
              "array(['Latvia'], dtype=object)"
            ]
          },
          "metadata": {
            "tags": []
          },
          "execution_count": 13
        }
      ]
    },
    {
      "cell_type": "code",
      "metadata": {
        "id": "gqOob1VoyoH5",
        "colab": {
          "base_uri": "https://localhost:8080/",
          "height": 204
        },
        "outputId": "7e1b19ba-a3b4-4402-9159-8b9cf7fa3d5c"
      },
      "source": [
        "countries = power[((power['country']=='Latvia') | (power['country'] == 'Lithuania') | (power['country'] == 'Estonia')) & ((power['quantity'] >= 0))]\n",
        "countries.head()\n",
        "# фильтр на страны Прибалтики, quantity не отрицательное"
      ],
      "execution_count": null,
      "outputs": [
        {
          "output_type": "execute_result",
          "data": {
            "text/html": [
              "<div>\n",
              "<style scoped>\n",
              "    .dataframe tbody tr th:only-of-type {\n",
              "        vertical-align: middle;\n",
              "    }\n",
              "\n",
              "    .dataframe tbody tr th {\n",
              "        vertical-align: top;\n",
              "    }\n",
              "\n",
              "    .dataframe thead th {\n",
              "        text-align: right;\n",
              "    }\n",
              "</style>\n",
              "<table border=\"1\" class=\"dataframe\">\n",
              "  <thead>\n",
              "    <tr style=\"text-align: right;\">\n",
              "      <th></th>\n",
              "      <th>country</th>\n",
              "      <th>year</th>\n",
              "      <th>quantity</th>\n",
              "      <th>category</th>\n",
              "    </tr>\n",
              "  </thead>\n",
              "  <tbody>\n",
              "    <tr>\n",
              "      <th>373</th>\n",
              "      <td>Lithuania</td>\n",
              "      <td>2014</td>\n",
              "      <td>39.0</td>\n",
              "      <td>1</td>\n",
              "    </tr>\n",
              "    <tr>\n",
              "      <th>374</th>\n",
              "      <td>Lithuania</td>\n",
              "      <td>2013</td>\n",
              "      <td>192.0</td>\n",
              "      <td>1</td>\n",
              "    </tr>\n",
              "    <tr>\n",
              "      <th>375</th>\n",
              "      <td>Lithuania</td>\n",
              "      <td>2012</td>\n",
              "      <td>196.0</td>\n",
              "      <td>1</td>\n",
              "    </tr>\n",
              "    <tr>\n",
              "      <th>376</th>\n",
              "      <td>Lithuania</td>\n",
              "      <td>2011</td>\n",
              "      <td>171.0</td>\n",
              "      <td>1</td>\n",
              "    </tr>\n",
              "    <tr>\n",
              "      <th>377</th>\n",
              "      <td>Lithuania</td>\n",
              "      <td>2010</td>\n",
              "      <td>158.0</td>\n",
              "      <td>1</td>\n",
              "    </tr>\n",
              "  </tbody>\n",
              "</table>\n",
              "</div>"
            ],
            "text/plain": [
              "       country  year  quantity  category\n",
              "373  Lithuania  2014      39.0         1\n",
              "374  Lithuania  2013     192.0         1\n",
              "375  Lithuania  2012     196.0         1\n",
              "376  Lithuania  2011     171.0         1\n",
              "377  Lithuania  2010     158.0         1"
            ]
          },
          "metadata": {
            "tags": []
          },
          "execution_count": 8
        }
      ]
    },
    {
      "cell_type": "code",
      "metadata": {
        "colab": {
          "base_uri": "https://localhost:8080/",
          "height": 238
        },
        "id": "xVMwzdj8gBZ0",
        "outputId": "127fdbde-9686-4cb7-d0f7-7360d08e1786"
      },
      "source": [
        "countries_categ = countries[(countries['category'] == 4) | (power['category'] == 12) | (power['category'] == 21)]\n",
        "countries_categ.head()\n",
        "# фильтруем по заявленным категориям"
      ],
      "execution_count": null,
      "outputs": [
        {
          "output_type": "stream",
          "text": [
            "/usr/local/lib/python3.7/dist-packages/ipykernel_launcher.py:1: UserWarning: Boolean Series key will be reindexed to match DataFrame index.\n",
            "  \"\"\"Entry point for launching an IPython kernel.\n"
          ],
          "name": "stderr"
        },
        {
          "output_type": "execute_result",
          "data": {
            "text/html": [
              "<div>\n",
              "<style scoped>\n",
              "    .dataframe tbody tr th:only-of-type {\n",
              "        vertical-align: middle;\n",
              "    }\n",
              "\n",
              "    .dataframe tbody tr th {\n",
              "        vertical-align: top;\n",
              "    }\n",
              "\n",
              "    .dataframe thead th {\n",
              "        text-align: right;\n",
              "    }\n",
              "</style>\n",
              "<table border=\"1\" class=\"dataframe\">\n",
              "  <thead>\n",
              "    <tr style=\"text-align: right;\">\n",
              "      <th></th>\n",
              "      <th>country</th>\n",
              "      <th>year</th>\n",
              "      <th>quantity</th>\n",
              "      <th>category</th>\n",
              "    </tr>\n",
              "  </thead>\n",
              "  <tbody>\n",
              "    <tr>\n",
              "      <th>10617</th>\n",
              "      <td>Estonia</td>\n",
              "      <td>2008</td>\n",
              "      <td>1.0</td>\n",
              "      <td>4</td>\n",
              "    </tr>\n",
              "    <tr>\n",
              "      <th>10618</th>\n",
              "      <td>Estonia</td>\n",
              "      <td>2007</td>\n",
              "      <td>0.0</td>\n",
              "      <td>4</td>\n",
              "    </tr>\n",
              "    <tr>\n",
              "      <th>10619</th>\n",
              "      <td>Estonia</td>\n",
              "      <td>2006</td>\n",
              "      <td>0.0</td>\n",
              "      <td>4</td>\n",
              "    </tr>\n",
              "    <tr>\n",
              "      <th>10620</th>\n",
              "      <td>Estonia</td>\n",
              "      <td>2005</td>\n",
              "      <td>1.0</td>\n",
              "      <td>4</td>\n",
              "    </tr>\n",
              "    <tr>\n",
              "      <th>10621</th>\n",
              "      <td>Estonia</td>\n",
              "      <td>2004</td>\n",
              "      <td>1.0</td>\n",
              "      <td>4</td>\n",
              "    </tr>\n",
              "  </tbody>\n",
              "</table>\n",
              "</div>"
            ],
            "text/plain": [
              "       country  year  quantity  category\n",
              "10617  Estonia  2008       1.0         4\n",
              "10618  Estonia  2007       0.0         4\n",
              "10619  Estonia  2006       0.0         4\n",
              "10620  Estonia  2005       1.0         4\n",
              "10621  Estonia  2004       1.0         4"
            ]
          },
          "metadata": {
            "tags": []
          },
          "execution_count": 7
        }
      ]
    },
    {
      "cell_type": "code",
      "metadata": {
        "colab": {
          "base_uri": "https://localhost:8080/"
        },
        "id": "-8kf_BEsYdC1",
        "outputId": "c2852f42-a503-4d2a-82a6-f892748cdc28"
      },
      "source": [
        "# фильтруем по заявленным годам\n",
        "countries_year = countries_categ[(countries_categ['year'] >= 2005) & (countries_categ['year'] <= 2010)]\n",
        "countries_year.head()\n",
        "# Выводи данные по странам Прибалтики (общие и отдельно для проверки)\n",
        "print(countries_year.groupby('country')['quantity'].sum(), '\\n' + 'Общий размер потребления энергии странами Прибалтики: ', countries_year['quantity'].sum())"
      ],
      "execution_count": null,
      "outputs": [
        {
          "output_type": "stream",
          "text": [
            "country\n",
            "Estonia       63440.0\n",
            "Latvia        54844.0\n",
            "Lithuania    122296.0\n",
            "Name: quantity, dtype: float64 \n",
            "Общий размер потребления энергии странами Прибалтики:  240580.0\n"
          ],
          "name": "stdout"
        }
      ]
    },
    {
      "cell_type": "markdown",
      "metadata": {
        "id": "kVzWPtRvvw-9"
      },
      "source": [
        "**Задание 3**\n",
        "Выберите страницу любого сайта с табличными данными. Импортируйте таблицы в pandas dataframe.\n",
        "Примеры страниц (необязательно брать именно эти):\n",
        "https://fortrader.org/quotes\n",
        "https://www.finanz.ru/valyuty/v-realnom-vremeni"
      ]
    },
    {
      "cell_type": "markdown",
      "metadata": {
        "id": "nHnLckmvqBCG"
      },
      "source": [
        "https://covid-stat.com/ru/"
      ]
    },
    {
      "cell_type": "code",
      "metadata": {
        "colab": {
          "base_uri": "https://localhost:8080/",
          "height": 204
        },
        "id": "-PsEGMz72xfc",
        "outputId": "615efc22-f0bd-4f0b-f7a3-1cdc97d7ec55"
      },
      "source": [
        "\n",
        "tables = pd.read_html('https://covid-stat.com/ru', encoding='utf-8')     # получается тип list - ?\n",
        "tables[0].head()\n"
      ],
      "execution_count": 47,
      "outputs": [
        {
          "output_type": "execute_result",
          "data": {
            "text/html": [
              "<div>\n",
              "<style scoped>\n",
              "    .dataframe tbody tr th:only-of-type {\n",
              "        vertical-align: middle;\n",
              "    }\n",
              "\n",
              "    .dataframe tbody tr th {\n",
              "        vertical-align: top;\n",
              "    }\n",
              "\n",
              "    .dataframe thead th {\n",
              "        text-align: right;\n",
              "    }\n",
              "</style>\n",
              "<table border=\"1\" class=\"dataframe\">\n",
              "  <thead>\n",
              "    <tr style=\"text-align: right;\">\n",
              "      <th></th>\n",
              "      <th>Страны и территории</th>\n",
              "      <th>Всего случаев</th>\n",
              "      <th>13.04</th>\n",
              "      <th>Зараженные</th>\n",
              "      <th>13.04.1</th>\n",
              "      <th>Вылечилось</th>\n",
              "      <th>13.04.2</th>\n",
              "      <th>Вылечилось (%)</th>\n",
              "      <th>Умерло</th>\n",
              "      <th>13.04.3</th>\n",
              "      <th>Умерло (%)</th>\n",
              "      <th>Количество тестов</th>\n",
              "    </tr>\n",
              "  </thead>\n",
              "  <tbody>\n",
              "    <tr>\n",
              "      <th>0</th>\n",
              "      <td>США</td>\n",
              "      <td>31990143</td>\n",
              "      <td>21542.0</td>\n",
              "      <td>6852989</td>\n",
              "      <td>139.0</td>\n",
              "      <td>24560856</td>\n",
              "      <td>21275.0</td>\n",
              "      <td>76.8%</td>\n",
              "      <td>576298</td>\n",
              "      <td>128.0</td>\n",
              "      <td>1.8%</td>\n",
              "      <td>420822699</td>\n",
              "    </tr>\n",
              "    <tr>\n",
              "      <th>1</th>\n",
              "      <td>Индия</td>\n",
              "      <td>13689453</td>\n",
              "      <td>3380.0</td>\n",
              "      <td>1264667</td>\n",
              "      <td>123.0</td>\n",
              "      <td>12253697</td>\n",
              "      <td>3257.0</td>\n",
              "      <td>89.5%</td>\n",
              "      <td>171089</td>\n",
              "      <td>NaN</td>\n",
              "      <td>1.2%</td>\n",
              "      <td>259207108</td>\n",
              "    </tr>\n",
              "    <tr>\n",
              "      <th>2</th>\n",
              "      <td>Бразилия</td>\n",
              "      <td>13521409</td>\n",
              "      <td>38866.0</td>\n",
              "      <td>1209310</td>\n",
              "      <td>-39137.0</td>\n",
              "      <td>11957068</td>\n",
              "      <td>76265.0</td>\n",
              "      <td>88.4%</td>\n",
              "      <td>355031</td>\n",
              "      <td>1738.0</td>\n",
              "      <td>2.6%</td>\n",
              "      <td>28600000</td>\n",
              "    </tr>\n",
              "    <tr>\n",
              "      <th>3</th>\n",
              "      <td>Франция</td>\n",
              "      <td>5067216</td>\n",
              "      <td>NaN</td>\n",
              "      <td>4657147</td>\n",
              "      <td>NaN</td>\n",
              "      <td>310934</td>\n",
              "      <td>NaN</td>\n",
              "      <td>6.1%</td>\n",
              "      <td>99135</td>\n",
              "      <td>NaN</td>\n",
              "      <td>2%</td>\n",
              "      <td>70140847</td>\n",
              "    </tr>\n",
              "    <tr>\n",
              "      <th>4</th>\n",
              "      <td>Россия</td>\n",
              "      <td>4657883</td>\n",
              "      <td>8173.0</td>\n",
              "      <td>272506</td>\n",
              "      <td>-1776.0</td>\n",
              "      <td>4281776</td>\n",
              "      <td>9611.0</td>\n",
              "      <td>91.9%</td>\n",
              "      <td>103601</td>\n",
              "      <td>338.0</td>\n",
              "      <td>2.2%</td>\n",
              "      <td>124100000</td>\n",
              "    </tr>\n",
              "  </tbody>\n",
              "</table>\n",
              "</div>"
            ],
            "text/plain": [
              "  Страны и территории  Всего случаев  ...  Умерло (%)  Количество тестов\n",
              "0                 США       31990143  ...        1.8%          420822699\n",
              "1               Индия       13689453  ...        1.2%          259207108\n",
              "2            Бразилия       13521409  ...        2.6%           28600000\n",
              "3             Франция        5067216  ...          2%           70140847\n",
              "4              Россия        4657883  ...        2.2%          124100000\n",
              "\n",
              "[5 rows x 12 columns]"
            ]
          },
          "metadata": {
            "tags": []
          },
          "execution_count": 47
        }
      ]
    },
    {
      "cell_type": "code",
      "metadata": {
        "id": "RF_u1wJThA2T"
      },
      "source": [
        "nf_tables = tables[0]         # nf_tables, как видно ниже получает тип DataFrame, почему так - не уловил."
      ],
      "execution_count": 54,
      "outputs": []
    },
    {
      "cell_type": "code",
      "metadata": {
        "colab": {
          "base_uri": "https://localhost:8080/"
        },
        "id": "YLUzWyz9hLzo",
        "outputId": "bb8297e4-7504-44ee-dfa5-c437a6e55639"
      },
      "source": [
        "nf_tables.info()"
      ],
      "execution_count": 56,
      "outputs": [
        {
          "output_type": "stream",
          "text": [
            "<class 'pandas.core.frame.DataFrame'>\n",
            "RangeIndex: 215 entries, 0 to 214\n",
            "Data columns (total 12 columns):\n",
            " #   Column               Non-Null Count  Dtype  \n",
            "---  ------               --------------  -----  \n",
            " 0   Страны и территории  215 non-null    object \n",
            " 1   Всего случаев        215 non-null    int64  \n",
            " 2   13.04                76 non-null     float64\n",
            " 3   Зараженные           215 non-null    int64  \n",
            " 4   13.04.1              79 non-null     float64\n",
            " 5   Вылечилось           215 non-null    int64  \n",
            " 6   13.04.2              65 non-null     float64\n",
            " 7   Вылечилось (%)       215 non-null    object \n",
            " 8   Умерло               215 non-null    int64  \n",
            " 9   13.04.3              51 non-null     float64\n",
            " 10  Умерло (%)           215 non-null    object \n",
            " 11  Количество тестов    215 non-null    int64  \n",
            "dtypes: float64(4), int64(5), object(3)\n",
            "memory usage: 20.3+ KB\n"
          ],
          "name": "stdout"
        }
      ]
    }
  ]
}