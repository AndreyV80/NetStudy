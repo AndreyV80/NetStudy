{
  "nbformat": 4,
  "nbformat_minor": 0,
  "metadata": {
    "colab": {
      "name": "RegexpProjectWorkFinal",
      "provenance": [],
      "collapsed_sections": [],
      "authorship_tag": "ABX9TyOHCdeNGbI9WtkWnfvQeTl8",
      "include_colab_link": true
    },
    "kernelspec": {
      "name": "python3",
      "display_name": "Python 3"
    },
    "language_info": {
      "name": "python"
    }
  },
  "cells": [
    {
      "cell_type": "markdown",
      "metadata": {
        "id": "view-in-github",
        "colab_type": "text"
      },
      "source": [
        "<a href=\"https://colab.research.google.com/github/AndreyV80/NetStudy/blob/main/RegexpProjectWorkFinal.ipynb\" target=\"_parent\"><img src=\"https://colab.research.google.com/assets/colab-badge.svg\" alt=\"Open In Colab\"/></a>"
      ]
    },
    {
      "cell_type": "code",
      "metadata": {
        "id": "Epe84KAqX2pc"
      },
      "source": [
        "Домашнее задание к лекции \"Регулярные выражения\"\n",
        "\n",
        "Файл к домашней работе можно найти здесь https://github.com/obulygin/pyda_homeworks/blob/master/regex/regex.ipynb\n",
        "\n",
        "Внимание! При реализации всех заданий необходимо использовать именно функционал регулярных выражений для обработки текста."
      ],
      "execution_count": null,
      "outputs": []
    },
    {
      "cell_type": "markdown",
      "metadata": {
        "id": "ZDGknru7YCE2"
      },
      "source": [
        "**Задание 1**\n",
        "Напишите функцию, которая принимает на вход строку и проверяет является ли она валидным транспортным номером (1 буква, 3 цифры, 2 буквы, 2-3 цифры). Обратите внимание, что не все буквы кириллического алфавита используются в транспортных номерах.\n",
        "\n",
        "Если номер валиден, то функция должна возвращать отдельно номер и регион.\n",
        "\n",
        "Примеры работы программы:\n",
        "\n",
        "car_id = 'АВ222С96’\n",
        "Результат: Номер АВ222С валиден. Регион: 96\n",
        "\n",
        "car_id = 'АБ22ВВ193’\n",
        "Результат: Номер не валиден"
      ]
    },
    {
      "cell_type": "code",
      "metadata": {
        "id": "8SDviw7xYA9R"
      },
      "source": [
        "import re"
      ],
      "execution_count": null,
      "outputs": []
    },
    {
      "cell_type": "code",
      "metadata": {
        "id": "REFTbLwxZ3Pa",
        "colab": {
          "base_uri": "https://localhost:8080/"
        },
        "outputId": "5236f496-ae3e-4ac9-e9cb-b42bdb97c45a"
      },
      "source": [
        "car_id = input('Введите номер авто: ')\n",
        "number_car(car_id)"
      ],
      "execution_count": null,
      "outputs": [
        {
          "output_type": "stream",
          "text": [
            "Введите номер авто: АВ222С96\n",
            "Номер АВ222С96 валиден. Регион: 96\n"
          ],
          "name": "stdout"
        }
      ]
    },
    {
      "cell_type": "code",
      "metadata": {
        "id": "RvOHaiEQaB5V"
      },
      "source": [
        "def number_car(car_id):\n",
        "    \"\"\" Формируем шаблон для установленного варианта автономера.\n",
        "        Формируем шаблон для поиска номера региона. Условием\n",
        "        проверяем номер на соответствие шаблону, выводим номер региона при True/\n",
        "    \"\"\"\n",
        "    result = re.findall(r'(^(?:[АВЕКМНОРСТУХ|A-Z]{2})\\d{3}[АВЕКМНОРСТУХ|A-Z](?:\\d{2}|\\d{3})$)',car_id)\n",
        "    result_search = re.search(r'((?:\\d{2}|\\d{3})$)',car_id)\n",
        "    if result:\n",
        "        print ('Номер', result[0], 'валиден. Регион:', result_search.group(0))\n",
        "   \n",
        "        #print ('Номер', ','.join(result), 'валиден. Регион:', result_search.group(0))\n",
        "    else:\n",
        "        print('Номер не валиден')\n",
        "        return\n",
        "\n",
        "    \n",
        "    "
      ],
      "execution_count": null,
      "outputs": []
    },
    {
      "cell_type": "markdown",
      "metadata": {
        "id": "0w35OL2Zui6N"
      },
      "source": [
        "**Задание 2**\n",
        "Напишите **функцию**, которая будет **удалять** все последовательные повторы слов из заданной строки при помощи регулярных выражений.\n",
        "\n",
        "Пример работы программы:\n",
        "\n",
        "some_string = \"Напишите **функцию функцию**, которая **будет будет будет будет** удалять **все все все все** последовательные повторы слов **из из из из **заданной **строки строки** при помощи регулярных выражений\"\n",
        "\n",
        "**Результат**: Напишите функцию, которая будет удалять все последовательные повторы слов из заданной строки при помощи регулярных выражений."
      ]
    },
    {
      "cell_type": "code",
      "metadata": {
        "colab": {
          "base_uri": "https://localhost:8080/"
        },
        "id": "k_cVUV9CvQGC",
        "outputId": "ef0ddee9-c33a-47c6-c3ab-ad1d2cc5a321"
      },
      "source": [
        "some_string = \"Напишите функцию функцию, которая будет будет будет будет удалять все все все все последовательные повторы слов из из из из заданной строки строки при помощи регулярных выражений\"\n",
        "repeat_clear(some_string)"
      ],
      "execution_count": null,
      "outputs": [
        {
          "output_type": "stream",
          "text": [
            "Напишите функцию которая будет удалять все последовательные повторы слов из заданной строки при помощи регулярных выражений\n"
          ],
          "name": "stdout"
        }
      ]
    },
    {
      "cell_type": "code",
      "metadata": {
        "id": "U-I-0CVvvH7d"
      },
      "source": [
        "def repeat_clear(some_string):\n",
        "    print( re.sub(r'\\b([^\\W\\d_]+)(\\s+\\1)+\\b', r'\\1', re.sub(r'\\W+', ' ', some_string).strip(), flags=re.I) )\n"
      ],
      "execution_count": null,
      "outputs": []
    },
    {
      "cell_type": "markdown",
      "metadata": {
        "id": "EYb-z2f4pE9n"
      },
      "source": [
        "**Задание 3**\n",
        "Напишите функцию, которая будет возвращать акроним по переданной в нее строке со словами.\n",
        "\n",
        "Примеры работы программы:\n",
        "\n",
        "some_words = 'Информационные технологии’\n",
        "Результат: ИТ\n",
        "\n",
        "some_words = 'Near Field Communication’\n",
        "Результат: NFC"
      ]
    },
    {
      "cell_type": "code",
      "metadata": {
        "id": "LaeJg02EqXhx",
        "colab": {
          "base_uri": "https://localhost:8080/"
        },
        "outputId": "c2d0b671-71bb-45ef-fe9b-78d74cb19832"
      },
      "source": [
        "some_words = \"Информационные технологии\"\n",
        "\n",
        "some_words_2 = \"Near Field Communication\"\n",
        "reduction(some_words_2)"
      ],
      "execution_count": null,
      "outputs": [
        {
          "output_type": "stream",
          "text": [
            "Результат: NFC\n"
          ],
          "name": "stdout"
        }
      ]
    },
    {
      "cell_type": "code",
      "metadata": {
        "id": "Gslw72OApMEN"
      },
      "source": [
        "def reduction(some_words_2):\n",
        "    text = re.findall(r'(\\w)\\w+', some_words_2)\n",
        "    tx = []\n",
        "    for i in text:\n",
        "        tx.append(i.capitalize())\n",
        "    return print('Результат:',''.join(tx))\n",
        "    "
      ],
      "execution_count": null,
      "outputs": []
    },
    {
      "cell_type": "markdown",
      "metadata": {
        "id": "ifdBZxmduWAt"
      },
      "source": [
        "**Задание 4**\n",
        "Напишите функцию, которая будет принимать на вход список email-адресов и выводить их распределение по доменным зонам.\n",
        "\n",
        "**Пример работы программы:**\n",
        "\n",
        "emails = [‘test@gmail.com, xyz@test.in, test@ya.ru, xyz@mail.ru, xyz@ya.ru’, xyz@gmail.com]\n",
        "\n",
        "**Результат:**\n",
        "\n",
        "gmail.com: 2\n",
        "test.in: 1\n",
        "ya.ru: 2\n",
        "mail.ru: 1"
      ]
    },
    {
      "cell_type": "code",
      "metadata": {
        "id": "Q3cxlSRiumCt"
      },
      "source": [
        "emails = ['test@gmail.com', 'xyz@test.in', 'test@ya.ru', 'xyz@mail.ru', 'xyz@ya.ru', 'xyz@gmail.com']"
      ],
      "execution_count": null,
      "outputs": []
    },
    {
      "cell_type": "code",
      "metadata": {
        "id": "G01chQSTGVEi"
      },
      "source": [
        "from collections import Counter"
      ],
      "execution_count": null,
      "outputs": []
    },
    {
      "cell_type": "code",
      "metadata": {
        "colab": {
          "base_uri": "https://localhost:8080/"
        },
        "id": "aKUmrAZkbkjt",
        "outputId": "bcb58a47-f9b9-4f32-ac57-cbae7b1ee832"
      },
      "source": [
        "list_email(emails)"
      ],
      "execution_count": 74,
      "outputs": [
        {
          "output_type": "stream",
          "text": [
            "@gmail.com : 2 @test.in : 1 @ya.ru : 2 @mail.ru : 1 "
          ],
          "name": "stdout"
        }
      ]
    },
    {
      "cell_type": "code",
      "metadata": {
        "id": "34fSEPpmVclJ"
      },
      "source": [
        "def list_email(emails):\n",
        "    list_ = []\n",
        "    for x in emails:\n",
        "        x = re.findall(r'@\\w+\\.\\w+', x)\n",
        "        list_.append(','.join(x))\n",
        "    c = Counter(list_)\n",
        "    for k, v in c.items():\n",
        "        print(k, ':', v, end=\" \")"
      ],
      "execution_count": 73,
      "outputs": []
    }
  ]
}