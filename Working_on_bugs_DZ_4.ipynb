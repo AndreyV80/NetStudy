{
 "cells": [
  {
   "cell_type": "markdown",
   "metadata": {
    "id": "g5BuMIZmLF07"
   },
   "source": [
    "**Задание 2.** Дана переменная, в которой хранится список поисковых запросов пользователя (пример структуры данных приведен ниже). Вам необходимо написать программу, которая выведет на экран распределение количества слов в запросах в требуемом виде"
   ]
  },
  {
   "cell_type": "markdown",
   "metadata": {
    "id": "5D_6XMEROQLG"
   },
   "source": [
    "Результат:\n",
    "Поисковых запросов, содержащих 2 слов(а): 42.86%\n",
    "Поисковых запросов, содержащих 3 слов(а): 57.14%"
   ]
  },
  {
   "cell_type": "code",
   "execution_count": 5,
   "metadata": {
    "id": "Z_7K1ay6LNpM"
   },
   "outputs": [],
   "source": [
    "queries = [\n",
    "'смотреть сериалы онлайн',\n",
    "'новости спорта',\n",
    "'афиша кино',\n",
    "'курс доллара',\n",
    "'сериалы этим летом',\n",
    "'курс по питону',\n",
    "'сериалы про спорт', \n",
    "'Ключами бы в нем были варианты количества слов в запросах',\n",
    "'', '', 'Ваша задача написать универсальный алгоритм, который будет корректно работать на любых данных аналогичной структуры', 'work'\n",
    "]"
   ]
  },
  {
   "cell_type": "code",
   "execution_count": null,
   "metadata": {
    "colab": {
     "base_uri": "https://localhost:8080/"
    },
    "id": "HopJLcvVOKT_",
    "outputId": "bb467530-522d-4ea9-bdaa-f8cadf96ea8d"
   },
   "outputs": [
    {
     "name": "stdout",
     "output_type": "stream",
     "text": [
      "Поисковых запросов, содержащих 2 слов(а): 42.86%\n",
      "Поисковых запросов, содержащих 3 слов(а): 57.14%\n"
     ]
    }
   ],
   "source": [
    "quantity_queries = len(queries) # общее кол-во элементов списка 'queries'\n",
    "word_3 = round([len(n.split()) for n in queries].count(3) / quantity_queries *100, 2) # процент запросов из 3 слов\n",
    "word_2 = round([len(n.split()) for n in queries].count(2) / quantity_queries *100, 2) # процент запросов из 2 слов\n",
    "print('Поисковых запросов, содержащих 2 слов(а):', str(word_2) + '%')\n",
    "print('Поисковых запросов, содержащих 3 слов(а):', str(word_3) + '%')"
   ]
  },
  {
   "cell_type": "markdown",
   "metadata": {},
   "source": [
    "Работа на ошибками"
   ]
  },
  {
   "cell_type": "markdown",
   "metadata": {},
   "source": [
    "Ваша задача написать универсальный алгоритм, который будет корректно работать на любых данных аналогичной структуры. А что если запросы будут состоять из любого количества слов от 1 до 1000? Вы же не будете вручную прописывать каждый случай (как сейчас). Я бы рекомендовал использовать в качестве результирующей переменной словарь. Ключами бы в нем были варианты количества слов в запросах, а значениями - количество таких запросов. Формировали бы его так же в цикле, проверяли бы наличие текущей длины в ключах, если есть, то наращиванием значение на 1. Просьба это поправить."
   ]
  },
  {
   "cell_type": "code",
   "execution_count": 7,
   "metadata": {
    "collapsed": true
   },
   "outputs": [
    {
     "name": "stdout",
     "output_type": "stream",
     "text": [
      "Поисковых запросов, содержащих 3  слов(а): 40.0%\n",
      "Поисковых запросов, содержащих 2  слов(а): 30.0%\n",
      "Поисковых запросов, содержащих 10  слов(а): 10.0%\n",
      "Поисковых запросов, содержащих 14  слов(а): 10.0%\n",
      "Поисковых запросов, содержащих 1  слов(а): 10.0%\n"
     ]
    }
   ],
   "source": [
    "# Подсчет запросов решил сделать за исключением пустых. В основной список добавлены контрольные строки.\n",
    "\n",
    "w = {len(n.split()):len(queries) for n in queries if len(n.split()) > 0}\n",
    "\n",
    "for s in w:                        #считаеть кол-во слов и %\n",
    "    word1 = round([len(n.split()) for n in queries].count(s) / (len(queries) - queries.count(''))  * 100, 2)\n",
    "    print('Поисковых запросов, содержащих', str(s),' слов(а):', str(word1) + '%')"
   ]
  },
  {
   "cell_type": "markdown",
   "metadata": {
    "id": "3nC-LR8IJNhs"
   },
   "source": [
    "**Задание 4**\n",
    "Дана переменная, в которой хранится статистика рекламных каналов по объемам продаж (пример структуры данных приведен ниже). Напишите программу, которая возвращает название канала с максимальным объемом продаж."
   ]
  },
  {
   "cell_type": "markdown",
   "metadata": {
    "id": "Xh6OuvawJOiq"
   },
   "source": [
    "Пример работы программы:\n",
    "stats = {‘facebook’: 55, ‘yandex’: 115, ‘vk’: 120, ‘google’: 99, ‘email’: 42, ‘ok’: 98}\n",
    "Результат: Максимальный объем продаж на рекламном канале: vk"
   ]
  },
  {
   "cell_type": "markdown",
   "metadata": {},
   "source": [
    "У 4 задачи так же есть более лаконичные способы решения, если будет интересно, можете почитать вот этот тред на stackoverflow: https://stackoverflow.com/questions/268272/getting-key-with-maximum-value-in-dictionary"
   ]
  },
  {
   "cell_type": "markdown",
   "metadata": {},
   "source": [
    "Интересное решение нашел. Мой исходный вариант мог вывести все ключи с одинаковым максимальным значением. По вашей рекомендации немного переработал код. В словаре добален контрольный показатель - 'pk': 120"
   ]
  },
  {
   "cell_type": "code",
   "execution_count": 12,
   "metadata": {
    "id": "zGxzUAcoJUi6"
   },
   "outputs": [],
   "source": [
    "stats = {'facebook': 55, 'yandex': 115, 'vk': 120, 'google': 99, 'email': 42, 'ok': 98, 'pk': 120}\n",
    " "
   ]
  },
  {
   "cell_type": "code",
   "execution_count": 13,
   "metadata": {},
   "outputs": [
    {
     "name": "stdout",
     "output_type": "stream",
     "text": [
      "Максимальный объем продаж на рекламном канале: vk, pk\n"
     ]
    }
   ],
   "source": [
    "max_val = [k for k, v in stats.items() if v == max(stats.values())]\n",
    "print('Максимальный объем продаж на рекламном канале:', ', '.join(max_val))"
   ]
  }
 ],
 "metadata": {
  "colab": {
   "collapsed_sections": [],
   "name": "DZ_3.ipynb",
   "provenance": []
  },
  "kernelspec": {
   "display_name": "Python 3",
   "language": "python",
   "name": "python3"
  },
  "language_info": {
   "codemirror_mode": {
    "name": "ipython",
    "version": 3
   },
   "file_extension": ".py",
   "mimetype": "text/x-python",
   "name": "python",
   "nbconvert_exporter": "python",
   "pygments_lexer": "ipython3",
   "version": "3.8.5"
  }
 },
 "nbformat": 4,
 "nbformat_minor": 1
}
