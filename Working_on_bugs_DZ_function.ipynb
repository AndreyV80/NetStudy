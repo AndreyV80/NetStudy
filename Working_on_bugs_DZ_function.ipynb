{
 "cells": [
  {
   "cell_type": "code",
   "execution_count": 1,
   "metadata": {
    "ExecuteTime": {
     "end_time": "2021-03-17T13:49:47.615973Z",
     "start_time": "2021-03-17T13:49:47.600972Z"
    }
   },
   "outputs": [],
   "source": [
    "documents = [\n",
    "{'type': 'passport', 'number': '2207 876234', 'name': 'Василий Гупкин'},\n",
    "{'type': 'invoice', 'number': '11-2', 'name': 'Геннадий Покемонов'},\n",
    "{'type': 'insurance', 'number': '10006', 'name': 'Аристарх Павлов'}\n",
    "]"
   ]
  },
  {
   "cell_type": "code",
   "execution_count": 2,
   "metadata": {
    "ExecuteTime": {
     "end_time": "2021-03-17T13:49:50.000110Z",
     "start_time": "2021-03-17T13:49:49.992109Z"
    }
   },
   "outputs": [],
   "source": [
    "directories = {\n",
    "'1': ['2207 876234', '11-2'],\n",
    "'2': ['10006'],\n",
    "'3': []\n",
    "}"
   ]
  },
  {
   "cell_type": "code",
   "execution_count": null,
   "metadata": {
    "ExecuteTime": {
     "start_time": "2021-03-17T13:54:25.304Z"
    }
   },
   "outputs": [
    {
     "name": "stdout",
     "output_type": "stream",
     "text": [
      "Введите команду: as\n",
      "Введите номер полки: 10\n",
      "Такая полка уже существует. Текущий перечень полок:  1, 2, 3, 10\n",
      "Введите команду: as\n",
      "Введите номер полки: 11\n",
      "Полка добавлена. Текущий перечень полок:  1, 2, 3, 10, 11\n",
      "Введите команду: ds\n",
      "Введите номер полки: 10\n",
      "Полка удалена. Текущий перечень полок:  1, 2, 3, 11\n",
      "Введите команду: ds\n",
      "Введите номер полки: 11\n",
      "Полка удалена. Текущий перечень полок:  1, 2, 3\n",
      "Введите команду: ds\n",
      "Введите номер полки: 10\n",
      "Такой полки не существует. Текущий перечень полок:  1, 2, 3\n"
     ]
    }
   ],
   "source": [
    "while True:\n",
    "    user_input = ['p', 's', 'l', 'as', 'ds', 'q']\n",
    "    us_input = input('Введите команду: ')\n",
    "    if us_input not in user_input or us_input == 'q':\n",
    "        break\n",
    "    if us_input == 'p':\n",
    "        owner_doc()\n",
    "    elif us_input == 's':\n",
    "        owner_dir()\n",
    "    elif us_input == 'l':\n",
    "        owner_dir_all()\n",
    "    elif us_input == 'as':\n",
    "        owner_dir_update()\n",
    "    elif us_input == 'ds':\n",
    "        owner_dir_del()"
   ]
  },
  {
   "cell_type": "code",
   "execution_count": 3,
   "metadata": {
    "ExecuteTime": {
     "end_time": "2021-03-17T13:49:53.765325Z",
     "start_time": "2021-03-17T13:49:53.745324Z"
    }
   },
   "outputs": [],
   "source": [
    "# command 'p'            '+'\n",
    "def owner_doc():\n",
    "    us_ent = input('Введите номер документа: ')\n",
    "    for d in documents:\n",
    "        if d['number'] == us_ent:            \n",
    "            return print('Владелец документа: ', d['name'])\n",
    "    print('Документ не найден в базе')\n",
    "    "
   ]
  },
  {
   "cell_type": "code",
   "execution_count": 4,
   "metadata": {
    "ExecuteTime": {
     "end_time": "2021-03-17T13:49:55.673434Z",
     "start_time": "2021-03-17T13:49:55.659433Z"
    }
   },
   "outputs": [],
   "source": [
    "# command 's'    '+'\n",
    "def owner_dir():\n",
    "    us_ent_dir = input('Введите номер документа: ') # в принципе задачу выполняет\n",
    "    for us_dir, dir_v in directories.items():\n",
    "        if us_ent_dir in dir_v:         # отредактировать вывод\n",
    "            return print('Документ хранится на полке: ', us_dir)\n",
    "            \n",
    "    print('Документ не найден в базе')   "
   ]
  },
  {
   "cell_type": "code",
   "execution_count": 52,
   "metadata": {
    "ExecuteTime": {
     "end_time": "2021-03-16T20:48:59.468441Z",
     "start_time": "2021-03-16T20:48:53.983127Z"
    }
   },
   "outputs": [
    {
     "name": "stdout",
     "output_type": "stream",
     "text": [
      "Введите номер документа: 10006\n",
      "Документ не найден в базе\n"
     ]
    }
   ],
   "source": [
    "us_ent_dir = input('Введите номер документа: ') # в принципе задачу выполняет\n",
    "for us_dir, dir_v in directories.items():\n",
    "    if us_ent_dir in dir_v:         # отредактировать вывод\n",
    "        print(us_dir)\n",
    "        break\n",
    "    if us_ent_dir not in dir_v:\n",
    "        print('Документ не найден в базе')\n",
    "        break\n",
    "  "
   ]
  },
  {
   "cell_type": "code",
   "execution_count": 5,
   "metadata": {
    "ExecuteTime": {
     "end_time": "2021-03-17T13:49:58.727609Z",
     "start_time": "2021-03-17T13:49:58.710608Z"
    }
   },
   "outputs": [],
   "source": [
    "# command 'l'      '+'\n",
    "def owner_dir_all():\n",
    "    for all_doc in documents:\n",
    "        for us_dir, dir_v in directories.items():\n",
    "            if all_doc['number'] in dir_v :        \n",
    "                print('Результат: №:' + all_doc['number'] + ', тип: ' + all_doc['type'] + ', пользователь: ' + all_doc['name'] + ', полка хранения: ' + us_dir)"
   ]
  },
  {
   "cell_type": "code",
   "execution_count": 6,
   "metadata": {
    "ExecuteTime": {
     "end_time": "2021-03-17T13:50:02.162805Z",
     "start_time": "2021-03-17T13:50:02.153805Z"
    }
   },
   "outputs": [],
   "source": [
    "# command 'as'      '+'\n",
    "def owner_dir_update(): \n",
    "    #shelf_ent_dir = input('Введите номер полки: ') # в принципе задачу выполняет\n",
    "   \n",
    "    shelf_ent = input('Введите номер полки: ') \n",
    "    if shelf_ent in directories:                     # проверяет наличие полки\n",
    "        print('Такая полка уже существует. Текущий перечень полок: ', \", \".join(list(directories))) #работает\n",
    "    else:\n",
    "        directories[shelf_ent] = []             # добавление новой полки, если она отсутствует\n",
    "        print('Полка добавлена. Текущий перечень полок: ', \", \".join(list(directories)))"
   ]
  },
  {
   "cell_type": "code",
   "execution_count": 9,
   "metadata": {
    "ExecuteTime": {
     "end_time": "2021-03-17T13:54:03.766624Z",
     "start_time": "2021-03-17T13:54:00.193420Z"
    }
   },
   "outputs": [
    {
     "name": "stdout",
     "output_type": "stream",
     "text": [
      "Введите номер полки: 10\n",
      "Полка добавлена. Текущий перечень полок:  1, 2, 3, 10\n"
     ]
    }
   ],
   "source": [
    "owner_dir_update()\n"
   ]
  },
  {
   "cell_type": "code",
   "execution_count": 7,
   "metadata": {
    "ExecuteTime": {
     "end_time": "2021-03-17T13:50:04.165920Z",
     "start_time": "2021-03-17T13:50:04.147919Z"
    }
   },
   "outputs": [],
   "source": [
    "# command 'ds'      '+'\n",
    "def owner_dir_del():\n",
    "    shelf_ent = input('Введите номер полки: ')\n",
    "    if shelf_ent in directories and directories[shelf_ent] == []:\n",
    "        del directories[shelf_ent]\n",
    "        print('Полка удалена. Текущий перечень полок: ', \", \".join(list(directories)))\n",
    "    elif shelf_ent in directories and directories[shelf_ent] != []:\n",
    "        print('На полке есть документы, удалите их перед удалением полки. Текущий перечень полок:', \", \".join(list(directories)))\n",
    "    else:\n",
    "        print('Такой полки не существует. Текущий перечень полок: ', \", \".join(list(directories)))\n",
    "    #return"
   ]
  }
 ],
 "metadata": {
  "kernelspec": {
   "display_name": "Python 3",
   "language": "python",
   "name": "python3"
  },
  "language_info": {
   "codemirror_mode": {
    "name": "ipython",
    "version": 3
   },
   "file_extension": ".py",
   "mimetype": "text/x-python",
   "name": "python",
   "nbconvert_exporter": "python",
   "pygments_lexer": "ipython3",
   "version": "3.8.5"
  },
  "varInspector": {
   "cols": {
    "lenName": 16,
    "lenType": 16,
    "lenVar": 40
   },
   "kernels_config": {
    "python": {
     "delete_cmd_postfix": "",
     "delete_cmd_prefix": "del ",
     "library": "var_list.py",
     "varRefreshCmd": "print(var_dic_list())"
    },
    "r": {
     "delete_cmd_postfix": ") ",
     "delete_cmd_prefix": "rm(",
     "library": "var_list.r",
     "varRefreshCmd": "cat(var_dic_list()) "
    }
   },
   "types_to_exclude": [
    "module",
    "function",
    "builtin_function_or_method",
    "instance",
    "_Feature"
   ],
   "window_display": false
  }
 },
 "nbformat": 4,
 "nbformat_minor": 4
}
