{
  "nbformat": 4,
  "nbformat_minor": 0,
  "metadata": {
    "kernelspec": {
      "display_name": "Python 3",
      "language": "python",
      "name": "python3"
    },
    "language_info": {
      "codemirror_mode": {
        "name": "ipython",
        "version": 3
      },
      "file_extension": ".py",
      "mimetype": "text/x-python",
      "name": "python",
      "nbconvert_exporter": "python",
      "pygments_lexer": "ipython3",
      "version": "3.8.5"
    },
    "nbTranslate": {
      "displayLangs": [
        "*"
      ],
      "hotkey": "alt-t",
      "langInMainMenu": true,
      "sourceLang": "en",
      "targetLang": "fr",
      "useGoogleTranslate": true
    },
    "varInspector": {
      "cols": {
        "lenName": 16,
        "lenType": 16,
        "lenVar": 40
      },
      "kernels_config": {
        "python": {
          "delete_cmd_postfix": "",
          "delete_cmd_prefix": "del ",
          "library": "var_list.py",
          "varRefreshCmd": "print(var_dic_list())"
        },
        "r": {
          "delete_cmd_postfix": ") ",
          "delete_cmd_prefix": "rm(",
          "library": "var_list.r",
          "varRefreshCmd": "cat(var_dic_list()) "
        }
      },
      "types_to_exclude": [
        "module",
        "function",
        "builtin_function_or_method",
        "instance",
        "_Feature"
      ],
      "window_display": false
    },
    "colab": {
      "name": "Дипломная работа. Этап 1.ipynb",
      "provenance": [],
      "include_colab_link": true
    }
  },
  "cells": [
    {
      "cell_type": "markdown",
      "metadata": {
        "id": "view-in-github",
        "colab_type": "text"
      },
      "source": [
        "<a href=\"https://colab.research.google.com/github/AndreyV80/NetStudy/blob/main/%D0%94%D0%B8%D0%BF%D0%BB%D0%BE%D0%BC%D0%BD%D0%B0%D1%8F_%D1%80%D0%B0%D0%B1%D0%BE%D1%82%D0%B0_%D0%AD%D1%82%D0%B0%D0%BF_1.ipynb\" target=\"_parent\"><img src=\"https://colab.research.google.com/assets/colab-badge.svg\" alt=\"Open In Colab\"/></a>"
      ]
    },
    {
      "cell_type": "code",
      "metadata": {
        "ExecuteTime": {
          "end_time": "2021-09-30T12:47:36.525824Z",
          "start_time": "2021-09-30T12:47:35.874787Z"
        },
        "id": "Aiu1OGwNzQjQ"
      },
      "source": [
        "import pandas as pd\n",
        "import datetime as dt\n",
        "import numpy as np\n"
      ],
      "execution_count": null,
      "outputs": []
    },
    {
      "cell_type": "markdown",
      "metadata": {
        "id": "iS9Nk4wyzQjW"
      },
      "source": [
        "Загрузка данных о динамике заболевания COVID-19 в Ивановской области"
      ]
    },
    {
      "cell_type": "code",
      "metadata": {
        "ExecuteTime": {
          "end_time": "2021-09-30T12:47:36.564827Z",
          "start_time": "2021-09-30T12:47:36.529825Z"
        },
        "id": "thc5vnTlzQje",
        "outputId": "cae1f3d2-c271-4ccf-c56a-4161a189c0f7"
      },
      "source": [
        "DynamicIvDay = pd.read_csv('C:/Users/IT/Desktop/Netology/DynamicIvDay_2021-09-24_15-44.csv', sep=';')\n",
        "DynamicIvDay.head(2)"
      ],
      "execution_count": null,
      "outputs": [
        {
          "data": {
            "text/html": [
              "<div>\n",
              "<style scoped>\n",
              "    .dataframe tbody tr th:only-of-type {\n",
              "        vertical-align: middle;\n",
              "    }\n",
              "\n",
              "    .dataframe tbody tr th {\n",
              "        vertical-align: top;\n",
              "    }\n",
              "\n",
              "    .dataframe thead th {\n",
              "        text-align: right;\n",
              "    }\n",
              "</style>\n",
              "<table border=\"1\" class=\"dataframe\">\n",
              "  <thead>\n",
              "    <tr style=\"text-align: right;\">\n",
              "      <th></th>\n",
              "      <th>DateTime</th>\n",
              "      <th>Ивановская обл.</th>\n",
              "    </tr>\n",
              "  </thead>\n",
              "  <tbody>\n",
              "    <tr>\n",
              "      <th>0</th>\n",
              "      <td>2020-03-12 00:00:00</td>\n",
              "      <td>0</td>\n",
              "    </tr>\n",
              "    <tr>\n",
              "      <th>1</th>\n",
              "      <td>2020-03-13 00:00:00</td>\n",
              "      <td>0</td>\n",
              "    </tr>\n",
              "  </tbody>\n",
              "</table>\n",
              "</div>"
            ],
            "text/plain": [
              "              DateTime  Ивановская обл.\n",
              "0  2020-03-12 00:00:00                0\n",
              "1  2020-03-13 00:00:00                0"
            ]
          },
          "execution_count": 3,
          "metadata": {},
          "output_type": "execute_result"
        }
      ]
    },
    {
      "cell_type": "code",
      "metadata": {
        "ExecuteTime": {
          "end_time": "2021-09-30T12:47:36.688834Z",
          "start_time": "2021-09-30T12:47:36.569827Z"
        },
        "id": "5GYafecnzQjl",
        "outputId": "6991da9a-fdd7-4ba7-a5fc-478b0b5328d0"
      },
      "source": [
        "DynamicIvDay.info()"
      ],
      "execution_count": null,
      "outputs": [
        {
          "name": "stdout",
          "output_type": "stream",
          "text": [
            "<class 'pandas.core.frame.DataFrame'>\n",
            "RangeIndex: 562 entries, 0 to 561\n",
            "Data columns (total 2 columns):\n",
            " #   Column           Non-Null Count  Dtype \n",
            "---  ------           --------------  ----- \n",
            " 0   DateTime         562 non-null    object\n",
            " 1   Ивановская обл.  562 non-null    int64 \n",
            "dtypes: int64(1), object(1)\n",
            "memory usage: 8.9+ KB\n"
          ]
        }
      ]
    },
    {
      "cell_type": "code",
      "metadata": {
        "ExecuteTime": {
          "end_time": "2021-09-30T12:47:36.840842Z",
          "start_time": "2021-09-30T12:47:36.693834Z"
        },
        "id": "wCZ_zzDYzQjo",
        "outputId": "5c6fb5f1-5421-4d4c-cec1-195bafc15dc0"
      },
      "source": [
        "# Как видим столбец с датами в датафрейме имеет тип object, преобразуем его данные\n",
        "DynamicIvDay['DateTime'] = pd.to_datetime(DynamicIvDay['DateTime'])\n",
        "DynamicIvDay.info()"
      ],
      "execution_count": null,
      "outputs": [
        {
          "name": "stdout",
          "output_type": "stream",
          "text": [
            "<class 'pandas.core.frame.DataFrame'>\n",
            "RangeIndex: 562 entries, 0 to 561\n",
            "Data columns (total 2 columns):\n",
            " #   Column           Non-Null Count  Dtype         \n",
            "---  ------           --------------  -----         \n",
            " 0   DateTime         562 non-null    datetime64[ns]\n",
            " 1   Ивановская обл.  562 non-null    int64         \n",
            "dtypes: datetime64[ns](1), int64(1)\n",
            "memory usage: 8.9 KB\n"
          ]
        }
      ]
    },
    {
      "cell_type": "markdown",
      "metadata": {
        "id": "c-xS8aG9zQjq"
      },
      "source": [
        "Загрузка данных о динамике заболевания COVID-19 в России"
      ]
    },
    {
      "cell_type": "code",
      "metadata": {
        "ExecuteTime": {
          "end_time": "2021-09-30T12:47:37.112858Z",
          "start_time": "2021-09-30T12:47:36.950849Z"
        },
        "id": "fmDjonLCzQjr",
        "outputId": "5fc4ee42-f455-46ad-b647-ff55a60638c1"
      },
      "source": [
        "DynamicRussiaDay = pd.read_csv('C:/Users/IT/Desktop/Netology/DynamicRussiaDay2021-09-24_15-45.csv', sep=';')\n",
        "DynamicRussiaDay['DateTime'] = pd.to_datetime(DynamicRussiaDay['DateTime'])\n",
        "DynamicRussiaDay.head(2)"
      ],
      "execution_count": null,
      "outputs": [
        {
          "data": {
            "text/html": [
              "<div>\n",
              "<style scoped>\n",
              "    .dataframe tbody tr th:only-of-type {\n",
              "        vertical-align: middle;\n",
              "    }\n",
              "\n",
              "    .dataframe tbody tr th {\n",
              "        vertical-align: top;\n",
              "    }\n",
              "\n",
              "    .dataframe thead th {\n",
              "        text-align: right;\n",
              "    }\n",
              "</style>\n",
              "<table border=\"1\" class=\"dataframe\">\n",
              "  <thead>\n",
              "    <tr style=\"text-align: right;\">\n",
              "      <th></th>\n",
              "      <th>DateTime</th>\n",
              "      <th>Заражений за день</th>\n",
              "      <th>Выздоровлений за день</th>\n",
              "      <th>Смертей за день</th>\n",
              "    </tr>\n",
              "  </thead>\n",
              "  <tbody>\n",
              "    <tr>\n",
              "      <th>0</th>\n",
              "      <td>2020-03-12</td>\n",
              "      <td>34</td>\n",
              "      <td>0</td>\n",
              "      <td>0</td>\n",
              "    </tr>\n",
              "    <tr>\n",
              "      <th>1</th>\n",
              "      <td>2020-03-13</td>\n",
              "      <td>11</td>\n",
              "      <td>0</td>\n",
              "      <td>0</td>\n",
              "    </tr>\n",
              "  </tbody>\n",
              "</table>\n",
              "</div>"
            ],
            "text/plain": [
              "    DateTime  Заражений за день  Выздоровлений за день  Смертей за день\n",
              "0 2020-03-12                 34                      0                0\n",
              "1 2020-03-13                 11                      0                0"
            ]
          },
          "execution_count": 7,
          "metadata": {},
          "output_type": "execute_result"
        }
      ]
    },
    {
      "cell_type": "code",
      "metadata": {
        "ExecuteTime": {
          "end_time": "2021-09-30T12:47:37.201863Z",
          "start_time": "2021-09-30T12:47:37.120858Z"
        },
        "id": "Az-0FHoXzQjs",
        "outputId": "7d40b745-7e25-4663-d6c4-c3ba051ef87a"
      },
      "source": [
        "DynamicRussiaDay.info()"
      ],
      "execution_count": null,
      "outputs": [
        {
          "name": "stdout",
          "output_type": "stream",
          "text": [
            "<class 'pandas.core.frame.DataFrame'>\n",
            "RangeIndex: 562 entries, 0 to 561\n",
            "Data columns (total 4 columns):\n",
            " #   Column                 Non-Null Count  Dtype         \n",
            "---  ------                 --------------  -----         \n",
            " 0   DateTime               562 non-null    datetime64[ns]\n",
            " 1   Заражений за день      562 non-null    int64         \n",
            " 2   Выздоровлений за день  562 non-null    int64         \n",
            " 3   Смертей за день        562 non-null    int64         \n",
            "dtypes: datetime64[ns](1), int64(3)\n",
            "memory usage: 17.7 KB\n"
          ]
        }
      ]
    },
    {
      "cell_type": "markdown",
      "metadata": {
        "id": "kf62paz5zQjt"
      },
      "source": [
        "Загрузка данных о динамике заболеваний COVID-19 медицинских работников в Ивановской области"
      ]
    },
    {
      "cell_type": "code",
      "metadata": {
        "ExecuteTime": {
          "end_time": "2021-09-30T12:47:38.801955Z",
          "start_time": "2021-09-30T12:47:37.208863Z"
        },
        "scrolled": true,
        "id": "uJB4xThNzQju",
        "outputId": "6326182e-2820-4464-9611-1129a9d08632"
      },
      "source": [
        "MedicIv = pd.read_excel('C:/Users/IT/Desktop/Netology/14 _статистика.xlsx')\n",
        "MedicIv.head(2)"
      ],
      "execution_count": null,
      "outputs": [
        {
          "data": {
            "text/html": [
              "<div>\n",
              "<style scoped>\n",
              "    .dataframe tbody tr th:only-of-type {\n",
              "        vertical-align: middle;\n",
              "    }\n",
              "\n",
              "    .dataframe tbody tr th {\n",
              "        vertical-align: top;\n",
              "    }\n",
              "\n",
              "    .dataframe thead th {\n",
              "        text-align: right;\n",
              "    }\n",
              "</style>\n",
              "<table border=\"1\" class=\"dataframe\">\n",
              "  <thead>\n",
              "    <tr style=\"text-align: right;\">\n",
              "      <th></th>\n",
              "      <th>УНРЗ</th>\n",
              "      <th>Субъект РФ</th>\n",
              "      <th>Медицинская организация (лечение)</th>\n",
              "      <th>Диагноз</th>\n",
              "      <th>Нозология</th>\n",
              "      <th>Дата включения</th>\n",
              "      <th>Дата исключения</th>\n",
              "      <th>Причина исключения</th>\n",
              "      <th>Должность</th>\n",
              "      <th>Медицинская организация (место работы)</th>\n",
              "    </tr>\n",
              "  </thead>\n",
              "  <tbody>\n",
              "    <tr>\n",
              "      <th>0</th>\n",
              "      <td>371062001250494</td>\n",
              "      <td>Ивановская область</td>\n",
              "      <td>ОБУЗ \"Гаврилово - Посадская ЦРБ\"</td>\n",
              "      <td>U07.1</td>\n",
              "      <td>COVID</td>\n",
              "      <td>2020-05-31</td>\n",
              "      <td>2020-06-23</td>\n",
              "      <td>Выздоровление</td>\n",
              "      <td>санитар</td>\n",
              "      <td>ГБУЗ ВО \"Суздальская РБ\"</td>\n",
              "    </tr>\n",
              "    <tr>\n",
              "      <th>1</th>\n",
              "      <td>371052001242053</td>\n",
              "      <td>Ивановская область</td>\n",
              "      <td>ОБУЗ \"ГКБ №4\"</td>\n",
              "      <td>U07.2</td>\n",
              "      <td>COVID</td>\n",
              "      <td>2020-05-09</td>\n",
              "      <td>2020-05-21</td>\n",
              "      <td>Выздоровление</td>\n",
              "      <td>рентгенолаборант</td>\n",
              "      <td>ОБУЗ \"Гаврилово - Посадская ЦРБ\"</td>\n",
              "    </tr>\n",
              "  </tbody>\n",
              "</table>\n",
              "</div>"
            ],
            "text/plain": [
              "              УНРЗ          Субъект РФ Медицинская организация (лечение)  \\\n",
              "0  371062001250494  Ивановская область  ОБУЗ \"Гаврилово - Посадская ЦРБ\"   \n",
              "1  371052001242053  Ивановская область                     ОБУЗ \"ГКБ №4\"   \n",
              "\n",
              "  Диагноз Нозология Дата включения Дата исключения Причина исключения  \\\n",
              "0   U07.1     COVID     2020-05-31      2020-06-23      Выздоровление   \n",
              "1   U07.2     COVID     2020-05-09      2020-05-21      Выздоровление   \n",
              "\n",
              "          Должность Медицинская организация (место работы)  \n",
              "0           санитар               ГБУЗ ВО \"Суздальская РБ\"  \n",
              "1  рентгенолаборант       ОБУЗ \"Гаврилово - Посадская ЦРБ\"  "
            ]
          },
          "execution_count": 9,
          "metadata": {},
          "output_type": "execute_result"
        }
      ]
    },
    {
      "cell_type": "code",
      "metadata": {
        "ExecuteTime": {
          "end_time": "2021-09-30T12:47:38.826956Z",
          "start_time": "2021-09-30T12:47:38.805955Z"
        },
        "id": "Ron_GAbhzQjv",
        "outputId": "5e74cc82-3959-462c-89c4-410e08807936"
      },
      "source": [
        "MedicIv.info()"
      ],
      "execution_count": null,
      "outputs": [
        {
          "name": "stdout",
          "output_type": "stream",
          "text": [
            "<class 'pandas.core.frame.DataFrame'>\n",
            "RangeIndex: 3597 entries, 0 to 3596\n",
            "Data columns (total 10 columns):\n",
            " #   Column                                  Non-Null Count  Dtype         \n",
            "---  ------                                  --------------  -----         \n",
            " 0   УНРЗ                                    3597 non-null   int64         \n",
            " 1   Субъект РФ                              3597 non-null   object        \n",
            " 2   Медицинская организация (лечение)       3597 non-null   object        \n",
            " 3   Диагноз                                 3597 non-null   object        \n",
            " 4   Нозология                               3597 non-null   object        \n",
            " 5   Дата включения                          3597 non-null   datetime64[ns]\n",
            " 6   Дата исключения                         3439 non-null   datetime64[ns]\n",
            " 7   Причина исключения                      3439 non-null   object        \n",
            " 8   Должность                               3597 non-null   object        \n",
            " 9   Медицинская организация (место работы)  3597 non-null   object        \n",
            "dtypes: datetime64[ns](2), int64(1), object(7)\n",
            "memory usage: 281.1+ KB\n"
          ]
        }
      ]
    },
    {
      "cell_type": "code",
      "metadata": {
        "ExecuteTime": {
          "end_time": "2021-09-30T12:47:38.916961Z",
          "start_time": "2021-09-30T12:47:38.830956Z"
        },
        "id": "-C8XosVEzQjw"
      },
      "source": [
        "MedicIv_COVID = MedicIv[MedicIv['Диагноз'] == 'U07.1'] #отобрали данные, где диагноз подтвержден"
      ],
      "execution_count": null,
      "outputs": []
    },
    {
      "cell_type": "markdown",
      "metadata": {
        "id": "IpZi5k7PzQjx"
      },
      "source": [
        "!!! Необходимо рассмотреть применение .loc"
      ]
    },
    {
      "cell_type": "code",
      "metadata": {
        "ExecuteTime": {
          "end_time": "2021-09-30T12:47:39.178976Z",
          "start_time": "2021-09-30T12:47:39.055969Z"
        },
        "id": "ZfT7gaNyzQjy",
        "outputId": "4d605f02-0c96-4e0a-c141-e31570613d5d"
      },
      "source": [
        "# MedicIv_COVID['ts'] = pd.to_timestamp(MedicIv_COVID['Дата включения'])\n",
        "MedicIv_COVID['ts3'] = MedicIv_COVID['Дата включения']"
      ],
      "execution_count": null,
      "outputs": [
        {
          "name": "stderr",
          "output_type": "stream",
          "text": [
            "<ipython-input-13-d3de88e37c27>:2: SettingWithCopyWarning: \n",
            "A value is trying to be set on a copy of a slice from a DataFrame.\n",
            "Try using .loc[row_indexer,col_indexer] = value instead\n",
            "\n",
            "See the caveats in the documentation: https://pandas.pydata.org/pandas-docs/stable/user_guide/indexing.html#returning-a-view-versus-a-copy\n",
            "  MedicIv_COVID['ts3'] = MedicIv_COVID['Дата включения']\n"
          ]
        }
      ]
    },
    {
      "cell_type": "code",
      "metadata": {
        "ExecuteTime": {
          "end_time": "2021-09-30T12:47:39.328985Z",
          "start_time": "2021-09-30T12:47:39.182976Z"
        },
        "id": "RZ2qqcVjzQjy",
        "outputId": "022d0e1d-d4ee-4445-e596-90e82518dc13"
      },
      "source": [
        "MedicIv_COVID['ts'] = MedicIv_COVID['ts3'].astype(np.int64) # формируем столбец с датой в формате Unix\n",
        "MedicIv_COVID.head()"
      ],
      "execution_count": null,
      "outputs": [
        {
          "name": "stderr",
          "output_type": "stream",
          "text": [
            "<ipython-input-14-57d336031d73>:1: SettingWithCopyWarning: \n",
            "A value is trying to be set on a copy of a slice from a DataFrame.\n",
            "Try using .loc[row_indexer,col_indexer] = value instead\n",
            "\n",
            "See the caveats in the documentation: https://pandas.pydata.org/pandas-docs/stable/user_guide/indexing.html#returning-a-view-versus-a-copy\n",
            "  MedicIv_COVID['ts'] = MedicIv_COVID['ts3'].astype(np.int64)\n"
          ]
        },
        {
          "data": {
            "text/html": [
              "<div>\n",
              "<style scoped>\n",
              "    .dataframe tbody tr th:only-of-type {\n",
              "        vertical-align: middle;\n",
              "    }\n",
              "\n",
              "    .dataframe tbody tr th {\n",
              "        vertical-align: top;\n",
              "    }\n",
              "\n",
              "    .dataframe thead th {\n",
              "        text-align: right;\n",
              "    }\n",
              "</style>\n",
              "<table border=\"1\" class=\"dataframe\">\n",
              "  <thead>\n",
              "    <tr style=\"text-align: right;\">\n",
              "      <th></th>\n",
              "      <th>УНРЗ</th>\n",
              "      <th>Субъект РФ</th>\n",
              "      <th>Медицинская организация (лечение)</th>\n",
              "      <th>Диагноз</th>\n",
              "      <th>Нозология</th>\n",
              "      <th>Дата включения</th>\n",
              "      <th>Дата исключения</th>\n",
              "      <th>Причина исключения</th>\n",
              "      <th>Должность</th>\n",
              "      <th>Медицинская организация (место работы)</th>\n",
              "      <th>ts3</th>\n",
              "      <th>ts</th>\n",
              "    </tr>\n",
              "  </thead>\n",
              "  <tbody>\n",
              "    <tr>\n",
              "      <th>0</th>\n",
              "      <td>371062001250494</td>\n",
              "      <td>Ивановская область</td>\n",
              "      <td>ОБУЗ \"Гаврилово - Посадская ЦРБ\"</td>\n",
              "      <td>U07.1</td>\n",
              "      <td>COVID</td>\n",
              "      <td>2020-05-31</td>\n",
              "      <td>2020-06-23</td>\n",
              "      <td>Выздоровление</td>\n",
              "      <td>санитар</td>\n",
              "      <td>ГБУЗ ВО \"Суздальская РБ\"</td>\n",
              "      <td>2020-05-31</td>\n",
              "      <td>1590883200000000000</td>\n",
              "    </tr>\n",
              "    <tr>\n",
              "      <th>2</th>\n",
              "      <td>371062001835706</td>\n",
              "      <td>Ивановская область</td>\n",
              "      <td>ОБУЗ \"Кохомская городская больница\"</td>\n",
              "      <td>U07.1</td>\n",
              "      <td>COVID</td>\n",
              "      <td>2020-06-17</td>\n",
              "      <td>2020-07-06</td>\n",
              "      <td>Выздоровление</td>\n",
              "      <td>фельдшер скорой медицинской помощи</td>\n",
              "      <td>СС и НМП им. А.С. Пучкова</td>\n",
              "      <td>2020-06-17</td>\n",
              "      <td>1592352000000000000</td>\n",
              "    </tr>\n",
              "    <tr>\n",
              "      <th>3</th>\n",
              "      <td>371102011051298</td>\n",
              "      <td>Ивановская область</td>\n",
              "      <td>ОБУЗ ГКБ № 7</td>\n",
              "      <td>U07.1</td>\n",
              "      <td>COVID</td>\n",
              "      <td>2020-10-26</td>\n",
              "      <td>2020-10-29</td>\n",
              "      <td>Выздоровление</td>\n",
              "      <td>медицинская сестра врача общей практики (семей...</td>\n",
              "      <td>ОБУЗ ГКБ № 7</td>\n",
              "      <td>2020-10-26</td>\n",
              "      <td>1603670400000000000</td>\n",
              "    </tr>\n",
              "    <tr>\n",
              "      <th>4</th>\n",
              "      <td>371042000211091</td>\n",
              "      <td>Ивановская область</td>\n",
              "      <td>ОБУЗ ИКБ им. Куваевых</td>\n",
              "      <td>U07.1</td>\n",
              "      <td>COVID</td>\n",
              "      <td>2020-04-27</td>\n",
              "      <td>2020-05-04</td>\n",
              "      <td>Выздоровление</td>\n",
              "      <td>врач-стоматолог</td>\n",
              "      <td>ОБУЗ \"Южская ЦРБ\"</td>\n",
              "      <td>2020-04-27</td>\n",
              "      <td>1587945600000000000</td>\n",
              "    </tr>\n",
              "    <tr>\n",
              "      <th>6</th>\n",
              "      <td>371062001485729</td>\n",
              "      <td>Ивановская область</td>\n",
              "      <td>ОБУЗ \"Гаврилово - Посадская ЦРБ\"</td>\n",
              "      <td>U07.1</td>\n",
              "      <td>COVID</td>\n",
              "      <td>2020-06-04</td>\n",
              "      <td>2020-06-17</td>\n",
              "      <td>Выздоровление</td>\n",
              "      <td>фельдшер скорой медицинской помощи</td>\n",
              "      <td>ОБУЗ \"Гаврилово - Посадская ЦРБ\"</td>\n",
              "      <td>2020-06-04</td>\n",
              "      <td>1591228800000000000</td>\n",
              "    </tr>\n",
              "  </tbody>\n",
              "</table>\n",
              "</div>"
            ],
            "text/plain": [
              "              УНРЗ          Субъект РФ    Медицинская организация (лечение)  \\\n",
              "0  371062001250494  Ивановская область     ОБУЗ \"Гаврилово - Посадская ЦРБ\"   \n",
              "2  371062001835706  Ивановская область  ОБУЗ \"Кохомская городская больница\"   \n",
              "3  371102011051298  Ивановская область                         ОБУЗ ГКБ № 7   \n",
              "4  371042000211091  Ивановская область                ОБУЗ ИКБ им. Куваевых   \n",
              "6  371062001485729  Ивановская область     ОБУЗ \"Гаврилово - Посадская ЦРБ\"   \n",
              "\n",
              "  Диагноз Нозология Дата включения Дата исключения Причина исключения  \\\n",
              "0   U07.1     COVID     2020-05-31      2020-06-23      Выздоровление   \n",
              "2   U07.1     COVID     2020-06-17      2020-07-06      Выздоровление   \n",
              "3   U07.1     COVID     2020-10-26      2020-10-29      Выздоровление   \n",
              "4   U07.1     COVID     2020-04-27      2020-05-04      Выздоровление   \n",
              "6   U07.1     COVID     2020-06-04      2020-06-17      Выздоровление   \n",
              "\n",
              "                                           Должность  \\\n",
              "0                                            санитар   \n",
              "2                 фельдшер скорой медицинской помощи   \n",
              "3  медицинская сестра врача общей практики (семей...   \n",
              "4                                    врач-стоматолог   \n",
              "6                 фельдшер скорой медицинской помощи   \n",
              "\n",
              "  Медицинская организация (место работы)        ts3                   ts  \n",
              "0               ГБУЗ ВО \"Суздальская РБ\" 2020-05-31  1590883200000000000  \n",
              "2              СС и НМП им. А.С. Пучкова 2020-06-17  1592352000000000000  \n",
              "3                           ОБУЗ ГКБ № 7 2020-10-26  1603670400000000000  \n",
              "4                      ОБУЗ \"Южская ЦРБ\" 2020-04-27  1587945600000000000  \n",
              "6       ОБУЗ \"Гаврилово - Посадская ЦРБ\" 2020-06-04  1591228800000000000  "
            ]
          },
          "execution_count": 14,
          "metadata": {},
          "output_type": "execute_result"
        }
      ]
    },
    {
      "cell_type": "code",
      "metadata": {
        "ExecuteTime": {
          "end_time": "2021-09-30T12:47:39.438991Z",
          "start_time": "2021-09-30T12:47:39.331985Z"
        },
        "id": "5EWLTE1SzQj0",
        "outputId": "7919af06-ed0b-409e-f39a-33e377be784c"
      },
      "source": [
        "MedicIv_COVID['ts']"
      ],
      "execution_count": null,
      "outputs": [
        {
          "data": {
            "text/plain": [
              "0       1590883200000000000\n",
              "2       1592352000000000000\n",
              "3       1603670400000000000\n",
              "4       1587945600000000000\n",
              "6       1591228800000000000\n",
              "               ...         \n",
              "3592    1631059200000000000\n",
              "3593    1629676800000000000\n",
              "3594    1631145600000000000\n",
              "3595    1631491200000000000\n",
              "3596    1631491200000000000\n",
              "Name: ts, Length: 3098, dtype: int64"
            ]
          },
          "execution_count": 15,
          "metadata": {},
          "output_type": "execute_result"
        }
      ]
    },
    {
      "cell_type": "markdown",
      "metadata": {
        "id": "mb5XKyv-zQj1"
      },
      "source": [
        "Перевод даты позволил создать сводную таблицу с уникальными записями и с первичной датой включения в реестр - приблеженно соответствующий дате заболевания"
      ]
    },
    {
      "cell_type": "code",
      "metadata": {
        "ExecuteTime": {
          "end_time": "2021-09-30T12:47:39.574999Z",
          "start_time": "2021-09-30T12:47:39.454992Z"
        },
        "id": "nZO4dp5bzQj2"
      },
      "source": [
        "MedicIv_COVID_pivot = MedicIv_COVID.pivot_table('ts', index=['УНРЗ'], aggfunc='min')"
      ],
      "execution_count": null,
      "outputs": []
    },
    {
      "cell_type": "code",
      "metadata": {
        "ExecuteTime": {
          "end_time": "2021-09-30T12:47:39.679005Z",
          "start_time": "2021-09-30T12:47:39.579999Z"
        },
        "id": "U1TVLssNzQj2",
        "outputId": "cf27ea5b-b440-430b-861f-491ffa14f62e"
      },
      "source": [
        "MedicIv_COVID_pivot.head(2)"
      ],
      "execution_count": null,
      "outputs": [
        {
          "data": {
            "text/html": [
              "<div>\n",
              "<style scoped>\n",
              "    .dataframe tbody tr th:only-of-type {\n",
              "        vertical-align: middle;\n",
              "    }\n",
              "\n",
              "    .dataframe tbody tr th {\n",
              "        vertical-align: top;\n",
              "    }\n",
              "\n",
              "    .dataframe thead th {\n",
              "        text-align: right;\n",
              "    }\n",
              "</style>\n",
              "<table border=\"1\" class=\"dataframe\">\n",
              "  <thead>\n",
              "    <tr style=\"text-align: right;\">\n",
              "      <th></th>\n",
              "      <th>ts</th>\n",
              "    </tr>\n",
              "    <tr>\n",
              "      <th>УНРЗ</th>\n",
              "      <th></th>\n",
              "    </tr>\n",
              "  </thead>\n",
              "  <tbody>\n",
              "    <tr>\n",
              "      <th>371012112600248</th>\n",
              "      <td>1609459200000000000</td>\n",
              "    </tr>\n",
              "    <tr>\n",
              "      <th>371012112732980</th>\n",
              "      <td>1609545600000000000</td>\n",
              "    </tr>\n",
              "  </tbody>\n",
              "</table>\n",
              "</div>"
            ],
            "text/plain": [
              "                                  ts\n",
              "УНРЗ                                \n",
              "371012112600248  1609459200000000000\n",
              "371012112732980  1609545600000000000"
            ]
          },
          "execution_count": 17,
          "metadata": {},
          "output_type": "execute_result"
        }
      ]
    },
    {
      "cell_type": "code",
      "metadata": {
        "ExecuteTime": {
          "end_time": "2021-09-30T12:47:39.827013Z",
          "start_time": "2021-09-30T12:47:39.687005Z"
        },
        "id": "YdO_YtuNzQj3",
        "outputId": "cf83a307-17ad-4ebb-f7a9-a55e2af8c396"
      },
      "source": [
        "MedicIv_COVID_pivot.info()"
      ],
      "execution_count": null,
      "outputs": [
        {
          "name": "stdout",
          "output_type": "stream",
          "text": [
            "<class 'pandas.core.frame.DataFrame'>\n",
            "Int64Index: 2671 entries, 371012112600248 to 521112009388494\n",
            "Data columns (total 1 columns):\n",
            " #   Column  Non-Null Count  Dtype\n",
            "---  ------  --------------  -----\n",
            " 0   ts      2671 non-null   int64\n",
            "dtypes: int64(1)\n",
            "memory usage: 41.7 KB\n"
          ]
        }
      ]
    },
    {
      "cell_type": "markdown",
      "metadata": {
        "id": "R1sLTcLyzQj4"
      },
      "source": [
        "Сводная таблица сформировала уникальные записи заболевания с его начальной датой (внесение в реестр). Для широты данных объединим с MedicIv_COVID по признаку совпадения id записи и даты внесения в реестр. Нам будут необходимы данные о диагнозе, должности, дате заболевания, возможно работодатель. Необходимо сформировать данные по категориям должностей"
      ]
    },
    {
      "cell_type": "code",
      "metadata": {
        "ExecuteTime": {
          "end_time": "2021-09-30T12:47:39.973022Z",
          "start_time": "2021-09-30T12:47:39.833014Z"
        },
        "id": "7DV_w9hQzQj5"
      },
      "source": [
        "MedicIv_COVID_merge = MedicIv_COVID_pivot.merge(MedicIv_COVID, how = 'inner', left_on=('УНРЗ', 'ts'), right_on=('УНРЗ', 'ts'))"
      ],
      "execution_count": null,
      "outputs": []
    },
    {
      "cell_type": "code",
      "metadata": {
        "ExecuteTime": {
          "end_time": "2021-09-30T12:47:40.120030Z",
          "start_time": "2021-09-30T12:47:39.980022Z"
        },
        "id": "CzeYkTMwzQj6",
        "outputId": "edd57052-f2aa-4174-8cc0-58f513e08a5c"
      },
      "source": [
        "MedicIv_COVID_merge.head(2)"
      ],
      "execution_count": null,
      "outputs": [
        {
          "data": {
            "text/html": [
              "<div>\n",
              "<style scoped>\n",
              "    .dataframe tbody tr th:only-of-type {\n",
              "        vertical-align: middle;\n",
              "    }\n",
              "\n",
              "    .dataframe tbody tr th {\n",
              "        vertical-align: top;\n",
              "    }\n",
              "\n",
              "    .dataframe thead th {\n",
              "        text-align: right;\n",
              "    }\n",
              "</style>\n",
              "<table border=\"1\" class=\"dataframe\">\n",
              "  <thead>\n",
              "    <tr style=\"text-align: right;\">\n",
              "      <th></th>\n",
              "      <th>УНРЗ</th>\n",
              "      <th>ts</th>\n",
              "      <th>Субъект РФ</th>\n",
              "      <th>Медицинская организация (лечение)</th>\n",
              "      <th>Диагноз</th>\n",
              "      <th>Нозология</th>\n",
              "      <th>Дата включения</th>\n",
              "      <th>Дата исключения</th>\n",
              "      <th>Причина исключения</th>\n",
              "      <th>Должность</th>\n",
              "      <th>Медицинская организация (место работы)</th>\n",
              "      <th>ts3</th>\n",
              "    </tr>\n",
              "  </thead>\n",
              "  <tbody>\n",
              "    <tr>\n",
              "      <th>0</th>\n",
              "      <td>371012112600248</td>\n",
              "      <td>1609459200000000000</td>\n",
              "      <td>Ивановская область</td>\n",
              "      <td>ОБУЗ Вичугская ЦРБ</td>\n",
              "      <td>U07.1</td>\n",
              "      <td>COVID</td>\n",
              "      <td>2021-01-01</td>\n",
              "      <td>2021-01-06</td>\n",
              "      <td>Перевод пациента в другую МО</td>\n",
              "      <td>медицинская сестра</td>\n",
              "      <td>ОБУЗ Вичугская ЦРБ</td>\n",
              "      <td>2021-01-01</td>\n",
              "    </tr>\n",
              "    <tr>\n",
              "      <th>1</th>\n",
              "      <td>371012112732980</td>\n",
              "      <td>1609545600000000000</td>\n",
              "      <td>Ивановская область</td>\n",
              "      <td>ОБУЗ Фурмановская ЦРБ</td>\n",
              "      <td>U07.1</td>\n",
              "      <td>COVID</td>\n",
              "      <td>2021-01-02</td>\n",
              "      <td>2021-01-25</td>\n",
              "      <td>Выздоровление</td>\n",
              "      <td>врач клинической лабораторной диагностики</td>\n",
              "      <td>ОБУЗ Фурмановская ЦРБ</td>\n",
              "      <td>2021-01-02</td>\n",
              "    </tr>\n",
              "  </tbody>\n",
              "</table>\n",
              "</div>"
            ],
            "text/plain": [
              "              УНРЗ                   ts          Субъект РФ  \\\n",
              "0  371012112600248  1609459200000000000  Ивановская область   \n",
              "1  371012112732980  1609545600000000000  Ивановская область   \n",
              "\n",
              "  Медицинская организация (лечение) Диагноз Нозология Дата включения  \\\n",
              "0                ОБУЗ Вичугская ЦРБ   U07.1     COVID     2021-01-01   \n",
              "1             ОБУЗ Фурмановская ЦРБ   U07.1     COVID     2021-01-02   \n",
              "\n",
              "  Дата исключения            Причина исключения  \\\n",
              "0      2021-01-06  Перевод пациента в другую МО   \n",
              "1      2021-01-25                 Выздоровление   \n",
              "\n",
              "                                   Должность  \\\n",
              "0                         медицинская сестра   \n",
              "1  врач клинической лабораторной диагностики   \n",
              "\n",
              "  Медицинская организация (место работы)        ts3  \n",
              "0                     ОБУЗ Вичугская ЦРБ 2021-01-01  \n",
              "1                  ОБУЗ Фурмановская ЦРБ 2021-01-02  "
            ]
          },
          "execution_count": 20,
          "metadata": {},
          "output_type": "execute_result"
        }
      ]
    },
    {
      "cell_type": "code",
      "metadata": {
        "ExecuteTime": {
          "end_time": "2021-09-30T12:47:40.230036Z",
          "start_time": "2021-09-30T12:47:40.131031Z"
        },
        "id": "rL57juLhzQj7"
      },
      "source": [
        " MedicIv_COVID_end = MedicIv_COVID_merge.sort_values(by = ['ts'], ascending = True) #сортируем данные по возрастанию"
      ],
      "execution_count": null,
      "outputs": []
    },
    {
      "cell_type": "code",
      "metadata": {
        "ExecuteTime": {
          "end_time": "2021-09-30T12:47:40.343043Z",
          "start_time": "2021-09-30T12:47:40.235037Z"
        },
        "id": "lxDyh2q6zQj8"
      },
      "source": [
        "MedicIv_COVID_end1 = MedicIv_COVID_end.set_index('УНРЗ') # индексируем столбец с номером записи\n"
      ],
      "execution_count": null,
      "outputs": []
    },
    {
      "cell_type": "code",
      "metadata": {
        "ExecuteTime": {
          "end_time": "2021-09-30T12:47:40.521053Z",
          "start_time": "2021-09-30T12:47:40.347043Z"
        },
        "id": "JIyXFcxyzQj8",
        "outputId": "f3a6b6db-77a2-4453-a6dd-5ee190100106"
      },
      "source": [
        "MedicIv_COVID_end1.head()"
      ],
      "execution_count": null,
      "outputs": [
        {
          "data": {
            "text/html": [
              "<div>\n",
              "<style scoped>\n",
              "    .dataframe tbody tr th:only-of-type {\n",
              "        vertical-align: middle;\n",
              "    }\n",
              "\n",
              "    .dataframe tbody tr th {\n",
              "        vertical-align: top;\n",
              "    }\n",
              "\n",
              "    .dataframe thead th {\n",
              "        text-align: right;\n",
              "    }\n",
              "</style>\n",
              "<table border=\"1\" class=\"dataframe\">\n",
              "  <thead>\n",
              "    <tr style=\"text-align: right;\">\n",
              "      <th></th>\n",
              "      <th>ts</th>\n",
              "      <th>Субъект РФ</th>\n",
              "      <th>Медицинская организация (лечение)</th>\n",
              "      <th>Диагноз</th>\n",
              "      <th>Нозология</th>\n",
              "      <th>Дата включения</th>\n",
              "      <th>Дата исключения</th>\n",
              "      <th>Причина исключения</th>\n",
              "      <th>Должность</th>\n",
              "      <th>Медицинская организация (место работы)</th>\n",
              "      <th>ts3</th>\n",
              "    </tr>\n",
              "    <tr>\n",
              "      <th>УНРЗ</th>\n",
              "      <th></th>\n",
              "      <th></th>\n",
              "      <th></th>\n",
              "      <th></th>\n",
              "      <th></th>\n",
              "      <th></th>\n",
              "      <th></th>\n",
              "      <th></th>\n",
              "      <th></th>\n",
              "      <th></th>\n",
              "      <th></th>\n",
              "    </tr>\n",
              "  </thead>\n",
              "  <tbody>\n",
              "    <tr>\n",
              "      <th>371032000003314</th>\n",
              "      <td>1584835200000000000</td>\n",
              "      <td>Ивановская область</td>\n",
              "      <td>ОБУЗ 1 ГКБ</td>\n",
              "      <td>U07.1</td>\n",
              "      <td>COVID</td>\n",
              "      <td>2020-03-22</td>\n",
              "      <td>2020-04-03</td>\n",
              "      <td>Выздоровление</td>\n",
              "      <td>врач-нейрохирург</td>\n",
              "      <td>ОБУЗ \"ИвОКБ\"</td>\n",
              "      <td>2020-03-22</td>\n",
              "    </tr>\n",
              "    <tr>\n",
              "      <th>371032000002940</th>\n",
              "      <td>1585008000000000000</td>\n",
              "      <td>Ивановская область</td>\n",
              "      <td>ОБУЗ 1 ГКБ</td>\n",
              "      <td>U07.1</td>\n",
              "      <td>COVID</td>\n",
              "      <td>2020-03-24</td>\n",
              "      <td>2020-04-06</td>\n",
              "      <td>Выздоровление</td>\n",
              "      <td>врач-нейрохирург</td>\n",
              "      <td>ОБУЗ \"ИвОКБ\"</td>\n",
              "      <td>2020-03-24</td>\n",
              "    </tr>\n",
              "    <tr>\n",
              "      <th>371032000196749</th>\n",
              "      <td>1585612800000000000</td>\n",
              "      <td>Ивановская область</td>\n",
              "      <td>ОБУЗ 1 ГКБ</td>\n",
              "      <td>U07.1</td>\n",
              "      <td>COVID</td>\n",
              "      <td>2020-03-31</td>\n",
              "      <td>2020-04-20</td>\n",
              "      <td>Выздоровление</td>\n",
              "      <td>врач-хирург</td>\n",
              "      <td>ОБУЗ 1 ГКБ</td>\n",
              "      <td>2020-03-31</td>\n",
              "    </tr>\n",
              "    <tr>\n",
              "      <th>371042000006545</th>\n",
              "      <td>1585785600000000000</td>\n",
              "      <td>Ивановская область</td>\n",
              "      <td>ОБУЗ Ильинская ЦРБ</td>\n",
              "      <td>U07.1</td>\n",
              "      <td>COVID</td>\n",
              "      <td>2020-04-02</td>\n",
              "      <td>2020-04-19</td>\n",
              "      <td>Выздоровление</td>\n",
              "      <td>врач-невролог</td>\n",
              "      <td>ОБУЗ ИКБ им. Куваевых</td>\n",
              "      <td>2020-04-02</td>\n",
              "    </tr>\n",
              "    <tr>\n",
              "      <th>371032000006783</th>\n",
              "      <td>1585785600000000000</td>\n",
              "      <td>Ивановская область</td>\n",
              "      <td>ОБУЗ \"Шуйская ЦРБ\"</td>\n",
              "      <td>U07.1</td>\n",
              "      <td>COVID</td>\n",
              "      <td>2020-04-02</td>\n",
              "      <td>2020-04-04</td>\n",
              "      <td>Выздоровление</td>\n",
              "      <td>медицинская сестра палатная (постовая)</td>\n",
              "      <td>ОБУЗ \"ИвОКБ\"</td>\n",
              "      <td>2020-04-02</td>\n",
              "    </tr>\n",
              "  </tbody>\n",
              "</table>\n",
              "</div>"
            ],
            "text/plain": [
              "                                  ts          Субъект РФ  \\\n",
              "УНРЗ                                                       \n",
              "371032000003314  1584835200000000000  Ивановская область   \n",
              "371032000002940  1585008000000000000  Ивановская область   \n",
              "371032000196749  1585612800000000000  Ивановская область   \n",
              "371042000006545  1585785600000000000  Ивановская область   \n",
              "371032000006783  1585785600000000000  Ивановская область   \n",
              "\n",
              "                Медицинская организация (лечение) Диагноз Нозология  \\\n",
              "УНРЗ                                                                  \n",
              "371032000003314                        ОБУЗ 1 ГКБ   U07.1     COVID   \n",
              "371032000002940                        ОБУЗ 1 ГКБ   U07.1     COVID   \n",
              "371032000196749                        ОБУЗ 1 ГКБ   U07.1     COVID   \n",
              "371042000006545                ОБУЗ Ильинская ЦРБ   U07.1     COVID   \n",
              "371032000006783                ОБУЗ \"Шуйская ЦРБ\"   U07.1     COVID   \n",
              "\n",
              "                Дата включения Дата исключения Причина исключения  \\\n",
              "УНРЗ                                                                \n",
              "371032000003314     2020-03-22      2020-04-03      Выздоровление   \n",
              "371032000002940     2020-03-24      2020-04-06      Выздоровление   \n",
              "371032000196749     2020-03-31      2020-04-20      Выздоровление   \n",
              "371042000006545     2020-04-02      2020-04-19      Выздоровление   \n",
              "371032000006783     2020-04-02      2020-04-04      Выздоровление   \n",
              "\n",
              "                                              Должность  \\\n",
              "УНРЗ                                                      \n",
              "371032000003314                        врач-нейрохирург   \n",
              "371032000002940                        врач-нейрохирург   \n",
              "371032000196749                             врач-хирург   \n",
              "371042000006545                           врач-невролог   \n",
              "371032000006783  медицинская сестра палатная (постовая)   \n",
              "\n",
              "                Медицинская организация (место работы)        ts3  \n",
              "УНРЗ                                                               \n",
              "371032000003314                           ОБУЗ \"ИвОКБ\" 2020-03-22  \n",
              "371032000002940                           ОБУЗ \"ИвОКБ\" 2020-03-24  \n",
              "371032000196749                             ОБУЗ 1 ГКБ 2020-03-31  \n",
              "371042000006545                  ОБУЗ ИКБ им. Куваевых 2020-04-02  \n",
              "371032000006783                           ОБУЗ \"ИвОКБ\" 2020-04-02  "
            ]
          },
          "execution_count": 23,
          "metadata": {},
          "output_type": "execute_result"
        }
      ]
    },
    {
      "cell_type": "code",
      "metadata": {
        "ExecuteTime": {
          "end_time": "2021-09-30T12:47:40.654060Z",
          "start_time": "2021-09-30T12:47:40.546054Z"
        },
        "id": "xR-HcXaOzQj9",
        "outputId": "d0fad02b-7053-4721-b263-aa7238df5c93"
      },
      "source": [
        "copy = MedicIv_COVID_end1.copy()    #убираем не нужный уже столбец\n",
        "MedicIv_COVID_end2 = copy.drop('ts3', axis=1)\n",
        "MedicIv_COVID_end2.head(2)"
      ],
      "execution_count": null,
      "outputs": [
        {
          "data": {
            "text/html": [
              "<div>\n",
              "<style scoped>\n",
              "    .dataframe tbody tr th:only-of-type {\n",
              "        vertical-align: middle;\n",
              "    }\n",
              "\n",
              "    .dataframe tbody tr th {\n",
              "        vertical-align: top;\n",
              "    }\n",
              "\n",
              "    .dataframe thead th {\n",
              "        text-align: right;\n",
              "    }\n",
              "</style>\n",
              "<table border=\"1\" class=\"dataframe\">\n",
              "  <thead>\n",
              "    <tr style=\"text-align: right;\">\n",
              "      <th></th>\n",
              "      <th>ts</th>\n",
              "      <th>Субъект РФ</th>\n",
              "      <th>Медицинская организация (лечение)</th>\n",
              "      <th>Диагноз</th>\n",
              "      <th>Нозология</th>\n",
              "      <th>Дата включения</th>\n",
              "      <th>Дата исключения</th>\n",
              "      <th>Причина исключения</th>\n",
              "      <th>Должность</th>\n",
              "      <th>Медицинская организация (место работы)</th>\n",
              "    </tr>\n",
              "    <tr>\n",
              "      <th>УНРЗ</th>\n",
              "      <th></th>\n",
              "      <th></th>\n",
              "      <th></th>\n",
              "      <th></th>\n",
              "      <th></th>\n",
              "      <th></th>\n",
              "      <th></th>\n",
              "      <th></th>\n",
              "      <th></th>\n",
              "      <th></th>\n",
              "    </tr>\n",
              "  </thead>\n",
              "  <tbody>\n",
              "    <tr>\n",
              "      <th>371032000003314</th>\n",
              "      <td>1584835200000000000</td>\n",
              "      <td>Ивановская область</td>\n",
              "      <td>ОБУЗ 1 ГКБ</td>\n",
              "      <td>U07.1</td>\n",
              "      <td>COVID</td>\n",
              "      <td>2020-03-22</td>\n",
              "      <td>2020-04-03</td>\n",
              "      <td>Выздоровление</td>\n",
              "      <td>врач-нейрохирург</td>\n",
              "      <td>ОБУЗ \"ИвОКБ\"</td>\n",
              "    </tr>\n",
              "    <tr>\n",
              "      <th>371032000002940</th>\n",
              "      <td>1585008000000000000</td>\n",
              "      <td>Ивановская область</td>\n",
              "      <td>ОБУЗ 1 ГКБ</td>\n",
              "      <td>U07.1</td>\n",
              "      <td>COVID</td>\n",
              "      <td>2020-03-24</td>\n",
              "      <td>2020-04-06</td>\n",
              "      <td>Выздоровление</td>\n",
              "      <td>врач-нейрохирург</td>\n",
              "      <td>ОБУЗ \"ИвОКБ\"</td>\n",
              "    </tr>\n",
              "  </tbody>\n",
              "</table>\n",
              "</div>"
            ],
            "text/plain": [
              "                                  ts          Субъект РФ  \\\n",
              "УНРЗ                                                       \n",
              "371032000003314  1584835200000000000  Ивановская область   \n",
              "371032000002940  1585008000000000000  Ивановская область   \n",
              "\n",
              "                Медицинская организация (лечение) Диагноз Нозология  \\\n",
              "УНРЗ                                                                  \n",
              "371032000003314                        ОБУЗ 1 ГКБ   U07.1     COVID   \n",
              "371032000002940                        ОБУЗ 1 ГКБ   U07.1     COVID   \n",
              "\n",
              "                Дата включения Дата исключения Причина исключения  \\\n",
              "УНРЗ                                                                \n",
              "371032000003314     2020-03-22      2020-04-03      Выздоровление   \n",
              "371032000002940     2020-03-24      2020-04-06      Выздоровление   \n",
              "\n",
              "                        Должность Медицинская организация (место работы)  \n",
              "УНРЗ                                                                      \n",
              "371032000003314  врач-нейрохирург                           ОБУЗ \"ИвОКБ\"  \n",
              "371032000002940  врач-нейрохирург                           ОБУЗ \"ИвОКБ\"  "
            ]
          },
          "execution_count": 24,
          "metadata": {},
          "output_type": "execute_result"
        }
      ]
    },
    {
      "cell_type": "markdown",
      "metadata": {
        "id": "VcRSl1_KzQj-"
      },
      "source": [
        "??? Необходимо сформировать новый столбец с категориями должностей для возможного анализа в разрезе\n",
        "??? посредством .loc и регулярных выражений\n",
        "??? не разобрался."
      ]
    },
    {
      "cell_type": "code",
      "metadata": {
        "ExecuteTime": {
          "end_time": "2021-09-30T12:47:40.769067Z",
          "start_time": "2021-09-30T12:47:40.663061Z"
        },
        "id": "gK0HTWDjzQj_"
      },
      "source": [
        "# test = MedicIv_COVID_end2.copy()"
      ],
      "execution_count": null,
      "outputs": []
    },
    {
      "cell_type": "markdown",
      "metadata": {
        "id": "daAH_XNOzQkA"
      },
      "source": [
        "Загрузка данных о профессиональных заболеваниях COVID-19 медицинских работников в Ивановской области"
      ]
    },
    {
      "cell_type": "code",
      "metadata": {
        "ExecuteTime": {
          "end_time": "2021-09-30T12:47:41.901132Z",
          "start_time": "2021-09-30T12:47:40.922076Z"
        },
        "id": "97HtrfXMzQkB",
        "outputId": "47cafe9f-bff4-454e-ee32-a90a9569a98b"
      },
      "source": [
        "Occupational_disease = pd.read_excel('C:/Users/IT/Desktop/Netology/Social_payment.xlsx')\n",
        "Occupational_disease.head(2)"
      ],
      "execution_count": null,
      "outputs": [
        {
          "data": {
            "text/html": [
              "<div>\n",
              "<style scoped>\n",
              "    .dataframe tbody tr th:only-of-type {\n",
              "        vertical-align: middle;\n",
              "    }\n",
              "\n",
              "    .dataframe tbody tr th {\n",
              "        vertical-align: top;\n",
              "    }\n",
              "\n",
              "    .dataframe thead th {\n",
              "        text-align: right;\n",
              "    }\n",
              "</style>\n",
              "<table border=\"1\" class=\"dataframe\">\n",
              "  <thead>\n",
              "    <tr style=\"text-align: right;\">\n",
              "      <th></th>\n",
              "      <th>Category_medic</th>\n",
              "      <th>Official_Position</th>\n",
              "      <th>id_medic</th>\n",
              "      <th>id_disease</th>\n",
              "      <th>date_start</th>\n",
              "      <th>date_ending</th>\n",
              "      <th>date_payment</th>\n",
              "      <th>sum_payment</th>\n",
              "    </tr>\n",
              "  </thead>\n",
              "  <tbody>\n",
              "    <tr>\n",
              "      <th>0</th>\n",
              "      <td>врач</td>\n",
              "      <td>Врач-педиатр участковый</td>\n",
              "      <td>4501876642</td>\n",
              "      <td>910026060274</td>\n",
              "      <td>2020-02-01</td>\n",
              "      <td>2020-05-08</td>\n",
              "      <td>2020-05-26</td>\n",
              "      <td>68811</td>\n",
              "    </tr>\n",
              "    <tr>\n",
              "      <th>1</th>\n",
              "      <td>СМП</td>\n",
              "      <td>медицинская сестра процедурной</td>\n",
              "      <td>3346680854</td>\n",
              "      <td>910025033642</td>\n",
              "      <td>2020-04-03</td>\n",
              "      <td>2020-04-21</td>\n",
              "      <td>2020-06-10</td>\n",
              "      <td>68811</td>\n",
              "    </tr>\n",
              "  </tbody>\n",
              "</table>\n",
              "</div>"
            ],
            "text/plain": [
              "  Category_medic               Official_Position    id_medic    id_disease  \\\n",
              "0           врач         Врач-педиатр участковый  4501876642  910026060274   \n",
              "1            СМП  медицинская сестра процедурной  3346680854  910025033642   \n",
              "\n",
              "  date_start date_ending date_payment  sum_payment  \n",
              "0 2020-02-01  2020-05-08   2020-05-26        68811  \n",
              "1 2020-04-03  2020-04-21   2020-06-10        68811  "
            ]
          },
          "execution_count": 27,
          "metadata": {},
          "output_type": "execute_result"
        }
      ]
    },
    {
      "cell_type": "code",
      "metadata": {
        "ExecuteTime": {
          "end_time": "2021-09-30T12:47:41.925133Z",
          "start_time": "2021-09-30T12:47:41.909132Z"
        },
        "id": "w9OVPULozQkC",
        "outputId": "d2213bbe-495f-46b9-a86b-c7aa6ce8cd64"
      },
      "source": [
        "Occupational_disease.info()"
      ],
      "execution_count": null,
      "outputs": [
        {
          "name": "stdout",
          "output_type": "stream",
          "text": [
            "<class 'pandas.core.frame.DataFrame'>\n",
            "RangeIndex: 2389 entries, 0 to 2388\n",
            "Data columns (total 8 columns):\n",
            " #   Column             Non-Null Count  Dtype         \n",
            "---  ------             --------------  -----         \n",
            " 0   Category_medic     2389 non-null   object        \n",
            " 1   Official_Position  2389 non-null   object        \n",
            " 2   id_medic           2389 non-null   int64         \n",
            " 3   id_disease         2389 non-null   object        \n",
            " 4   date_start         2389 non-null   datetime64[ns]\n",
            " 5   date_ending        2389 non-null   datetime64[ns]\n",
            " 6   date_payment       2389 non-null   datetime64[ns]\n",
            " 7   sum_payment        2389 non-null   int64         \n",
            "dtypes: datetime64[ns](3), int64(2), object(3)\n",
            "memory usage: 149.4+ KB\n"
          ]
        }
      ]
    }
  ]
}