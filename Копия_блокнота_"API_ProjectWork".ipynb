{
  "nbformat": 4,
  "nbformat_minor": 0,
  "metadata": {
    "colab": {
      "name": "Копия блокнота \"API_ProjectWork\"",
      "provenance": [],
      "collapsed_sections": [],
      "authorship_tag": "ABX9TyPtUVSnWsCuwEd8EtFQ0nuC",
      "include_colab_link": true
    },
    "kernelspec": {
      "name": "python3",
      "display_name": "Python 3"
    },
    "language_info": {
      "name": "python"
    }
  },
  "cells": [
    {
      "cell_type": "markdown",
      "metadata": {
        "id": "view-in-github",
        "colab_type": "text"
      },
      "source": [
        "<a href=\"https://colab.research.google.com/github/AndreyV80/NetStudy/blob/main/%D0%9A%D0%BE%D0%BF%D0%B8%D1%8F_%D0%B1%D0%BB%D0%BE%D0%BA%D0%BD%D0%BE%D1%82%D0%B0_%22API_ProjectWork%22.ipynb\" target=\"_parent\"><img src=\"https://colab.research.google.com/assets/colab-badge.svg\" alt=\"Open In Colab\"/></a>"
      ]
    },
    {
      "cell_type": "markdown",
      "metadata": {
        "id": "n-nhUHXk5_yj"
      },
      "source": [
        "**Задание 1.**\n",
        "Обязательная часть\n",
        "Будем парсить страницу со свежеми новостям на habr.com/ru/all/.\n",
        "\n",
        "Вам необходимо собирать только те статьи, в которых встречается хотя бы одно требуемое ключевое слово. Эти слова определяем в начале кода в переменной, например:\n",
        "\n",
        "KEYWORDS = ['python', 'парсинг']\n",
        "\n",
        "Поиск вести по всей доступной preview-информации (это информация, доступная непосредственно с текущей страницы).\n",
        "\n",
        "В итоге должен формироваться датафрейм вида: <дата> - <заголовок> - <ссылка>"
      ]
    },
    {
      "cell_type": "code",
      "metadata": {
        "id": "Rj4NjigW6EHb"
      },
      "source": [
        "import requests\n",
        "from bs4 import BeautifulSoup\n",
        "import pandas as pd\n",
        "from re import search"
      ],
      "execution_count": 1,
      "outputs": []
    },
    {
      "cell_type": "code",
      "metadata": {
        "colab": {
          "base_uri": "https://localhost:8080/"
        },
        "id": "tsBG2rcS2LHg",
        "outputId": "89d54de2-644b-452b-d25f-1df79469a366"
      },
      "source": [
        "res = requests.get('https://habr.com/ru/all/')\n",
        "res"
      ],
      "execution_count": 57,
      "outputs": [
        {
          "output_type": "execute_result",
          "data": {
            "text/plain": [
              "<Response [200]>"
            ]
          },
          "metadata": {
            "tags": []
          },
          "execution_count": 57
        }
      ]
    },
    {
      "cell_type": "markdown",
      "metadata": {
        "id": "1ZTHMDn_Wviu"
      },
      "source": [
        "Поскольку на текущей странице искомых слов не было, добавил для проверки имеющиеся"
      ]
    },
    {
      "cell_type": "code",
      "metadata": {
        "id": "KpoOpqng20Sl"
      },
      "source": [
        "KEYWORDS = ['python', 'парсинг', 'alfa Battle Camp', 'Visualize']\n"
      ],
      "execution_count": 58,
      "outputs": []
    },
    {
      "cell_type": "code",
      "metadata": {
        "id": "YrVJJfZB49It"
      },
      "source": [
        "req = requests.get('https://habr.com/ru/all/')\n",
        "soup = BeautifulSoup(req.text, 'html.parser')"
      ],
      "execution_count": 59,
      "outputs": []
    },
    {
      "cell_type": "code",
      "metadata": {
        "id": "m4zJwkeX6D09"
      },
      "source": [
        "posts = soup.find_all('article', class_='post')\n",
        "# posts"
      ],
      "execution_count": 60,
      "outputs": []
    },
    {
      "cell_type": "code",
      "metadata": {
        "id": "cTkarzR-96fJ"
      },
      "source": [
        "# добираемся до блоков с новостями\n",
        "news_blocks = soup.find_all('h2', class_='post__title')\n",
        "news_blocks\n",
        "# print(news_blocks.text)"
      ],
      "execution_count": null,
      "outputs": []
    },
    {
      "cell_type": "code",
      "metadata": {
        "id": "wpBw9txdBnh0",
        "colab": {
          "base_uri": "https://localhost:8080/"
        },
        "outputId": "1f070bf6-2b97-41e8-aedb-968e025941c4"
      },
      "source": [
        "\n",
        "news_blocks2 = soup.find_all('article',class_= 'post__time') \n",
        "##, class_=\"post__time\")\n",
        "type(news_blocks2)\n",
        "news_blocks2"
      ],
      "execution_count": 62,
      "outputs": [
        {
          "output_type": "execute_result",
          "data": {
            "text/plain": [
              "[]"
            ]
          },
          "metadata": {
            "tags": []
          },
          "execution_count": 62
        }
      ]
    },
    {
      "cell_type": "markdown",
      "metadata": {
        "id": "ykJbLm1cXCKa"
      },
      "source": [
        "Согласно лекции нашел в каких классах имеется необходимая информация. Циклом вытащил исходную информацию текущей страницы. Согласно комментарию преподавателя добавил условие для поиска. Сложность в обновлении информации, на момент кода искомых слов не было."
      ]
    },
    {
      "cell_type": "code",
      "metadata": {
        "colab": {
          "base_uri": "https://localhost:8080/",
          "height": 80
        },
        "id": "tnx9vjzHSi2F",
        "outputId": "cd7f2952-cbfe-4fcf-c4bf-d86a8e0ef236"
      },
      "source": [
        "url_habr = []       #список ссылок\n",
        "text_habr = []      #список заголовков\n",
        "time_habr = []\n",
        "for test in posts:\n",
        "    for a in test.find_all('a', class_='post__title_link'):\n",
        "        #print(a.text)\n",
        "        for k in KEYWORDS:\n",
        "           # print(k)\n",
        "            if search(k.lower(),a.text.lower()): #преобразуем к одному регистру\n",
        "                text_habr.append(a.text)\n",
        "                url_habr.append(a.get('href'))\n",
        "                for link2 in test.find_all('span', class_='post__time'):\n",
        "                     time_habr.append(link2.text)          \n",
        "date = {'time_habr' : time_habr,'text_habr' : text_habr, 'news': url_habr}\n",
        "date_pd = pd.DataFrame(date)\n",
        "date_pd"
      ],
      "execution_count": 63,
      "outputs": [
        {
          "output_type": "execute_result",
          "data": {
            "text/html": [
              "<div>\n",
              "<style scoped>\n",
              "    .dataframe tbody tr th:only-of-type {\n",
              "        vertical-align: middle;\n",
              "    }\n",
              "\n",
              "    .dataframe tbody tr th {\n",
              "        vertical-align: top;\n",
              "    }\n",
              "\n",
              "    .dataframe thead th {\n",
              "        text-align: right;\n",
              "    }\n",
              "</style>\n",
              "<table border=\"1\" class=\"dataframe\">\n",
              "  <thead>\n",
              "    <tr style=\"text-align: right;\">\n",
              "      <th></th>\n",
              "      <th>time_habr</th>\n",
              "      <th>text_habr</th>\n",
              "      <th>news</th>\n",
              "    </tr>\n",
              "  </thead>\n",
              "  <tbody>\n",
              "    <tr>\n",
              "      <th>0</th>\n",
              "      <td>вчера в 18:40</td>\n",
              "      <td>Топ 6 библиотек Python для визуализации: какую...</td>\n",
              "      <td>https://habr.com/ru/company/otus/blog/558478/</td>\n",
              "    </tr>\n",
              "  </tbody>\n",
              "</table>\n",
              "</div>"
            ],
            "text/plain": [
              "       time_habr  ...                                           news\n",
              "0  вчера в 18:40  ...  https://habr.com/ru/company/otus/blog/558478/\n",
              "\n",
              "[1 rows x 3 columns]"
            ]
          },
          "metadata": {
            "tags": []
          },
          "execution_count": 63
        }
      ]
    },
    {
      "cell_type": "markdown",
      "metadata": {
        "id": "4HqGikmW6NkK"
      },
      "source": [
        "**Задание 2.**\n",
        "Обязательная часть\n",
        "Написать скрипт, который будет проверять список e-mail адресов на утечку при помощи сервиса Avast Hack Ckeck. Список email-ов задаем переменной в начале кода:\n",
        "EMAIL = [xxx@x.ru, yyy@y.com]\n",
        "\n",
        "В итоге должен формироваться датафрейм со столбцами: <дата утечки> - <источник утечки> - <описание утечки>\n",
        "\n",
        "Подсказка: сервис работает при помощи \"скрытого\" API. Внимательно изучите post-запросы."
      ]
    },
    {
      "cell_type": "code",
      "metadata": {
        "id": "MSKwAQ5r6PGC"
      },
      "source": [
        "emails2 = {'emailAddresses':['xxx@x.ru', 'yyy@y.com']}"
      ],
      "execution_count": 2,
      "outputs": []
    },
    {
      "cell_type": "code",
      "metadata": {
        "id": "9LaJQVCwAkgF"
      },
      "source": [
        "URL = 'https://identityprotection.avast.com/v1/web/query/site-breaches/unauthorized-data'"
      ],
      "execution_count": 3,
      "outputs": []
    },
    {
      "cell_type": "code",
      "metadata": {
        "id": "N7fvq1dKm_cS"
      },
      "source": [
        "HEADERS2 = {\n",
        "    'Vaar-Version':'0', 'User-Agent':'Mozilla/5.0 (Windows NT 6.1; Win64; x64) AppleWebKit/537.36 (KHTML, like Gecko) Chrome/90.0.4430.212 Safari/537.36', 'emailAddresses': 'xxx@x.ru'}"
      ],
      "execution_count": null,
      "outputs": []
    },
    {
      "cell_type": "code",
      "metadata": {
        "id": "WQ412tgTuSOY"
      },
      "source": [
        "HEADERS3 = {\n",
        "    'Vaar-Version': '0',\n",
        "    'Vaar-Header-App-Product-Name': 'hackcheck-web-avast',\n",
        "    'Vaar-Header-App-Build-Version': '1.0.0',\n",
        "}"
      ],
      "execution_count": 4,
      "outputs": []
    },
    {
      "cell_type": "code",
      "metadata": {
        "id": "0rWMqkLK_cL0"
      },
      "source": [
        "reg2 = requests.post(URL, json=emails2, headers=HEADERS3)"
      ],
      "execution_count": 5,
      "outputs": []
    },
    {
      "cell_type": "code",
      "metadata": {
        "colab": {
          "base_uri": "https://localhost:8080/"
        },
        "id": "fwi-uIeHutLk",
        "outputId": "aecbed9b-1107-45ca-c0d1-13bb2e1669af"
      },
      "source": [
        "reg2"
      ],
      "execution_count": null,
      "outputs": [
        {
          "output_type": "execute_result",
          "data": {
            "text/plain": [
              "<Response [200]>"
            ]
          },
          "metadata": {
            "tags": []
          },
          "execution_count": 25
        }
      ]
    },
    {
      "cell_type": "code",
      "metadata": {
        "colab": {
          "base_uri": "https://localhost:8080/"
        },
        "id": "5smC6a5MzHeq",
        "outputId": "ed2df8c8-b71d-43b8-88e7-cb3bed53b675"
      },
      "source": [
        "print(reg2.json())"
      ],
      "execution_count": 6,
      "outputs": [
        {
          "output_type": "stream",
          "text": [
            "{'breaches': {'17110': {'breachId': 17110, 'site': 'azcentral.com', 'recordsCount': 705538, 'description': 'At an unconfirmed date, online Arizona newspaper \"AZ Central\" was allegedly breached. The stolen data contains passwords and email addresses. This breach is being publicly shared on the internet.', 'publishDate': '2020-01-03T00:00:00Z', 'statistics': {'usernames': 0, 'passwords': 702971, 'emails': 705538}}, '17670': {'breachId': 17670, 'site': 'wishbone.io', 'recordsCount': 37475476, 'description': 'In January 2020, the online poll website Wishbone was allegedly breached. The stolen data contains usernames, passwords, email addresses and additional personal information. This breach is being privately shared on the internet.', 'publishDate': '2020-05-28T00:00:00Z', 'statistics': {'usernames': 31111127, 'passwords': 10648734, 'emails': 10234249}}, '13094': {'breachId': 13094, 'site': 'myheritage.com', 'recordsCount': 110041653, 'description': 'In October 2017, a customer database belonging to online genealogy platform MyHeritage was breached. The stolen records included email addresses and SHA-1 hashed passwords, as well as sensitive PII. The data has been sold on at least one dark web market and is also being privately shared amongst several criminal groups.', 'publishDate': '2017-11-04T00:00:00Z', 'statistics': {'usernames': 0, 'passwords': 110041647, 'emails': 110041653}}, '37177': {'breachId': 37177, 'site': 'forums.vkmonline.com', 'recordsCount': 825654, 'description': 'At an unconfirmed date, the Russian-language music forum VKM was allegedly breached. The stolen data contains passwords, IPs, email addresses, usernames and additional personal information. This breach is being privately shared on the internet.', 'publishDate': '2021-02-11T00:00:00Z', 'statistics': {'usernames': 825566, 'passwords': 825654, 'emails': 824936}}, '16768': {'breachId': 16768, 'site': 'canva.com', 'recordsCount': 137434010, 'description': \"In May 2019, graphic-design site Canva's database was allegedly breached. The stolen data contains usernames, passwords, email addresses and additional personal information. This breach is being privately shared on the internet.\", 'publishDate': '2019-06-13T00:00:00Z', 'statistics': {'usernames': 137304104, 'passwords': 61348974, 'emails': 137402835}}, '3176': {'breachId': 3176, 'site': 'parapa.mail.ru', 'recordsCount': 5029003, 'description': \"In July and August 2016, two criminals executed attacks against three separate forums hosted by Mail.ru including the Russian forum Parapa. Shortly after the breach occurred, the contents of Parapa's database were leaked publicly. The database contains usernames, email addresses, and hashed passwords for around 5 million users.\", 'publishDate': '2017-02-14T00:00:00Z', 'statistics': {'usernames': 5029000, 'passwords': 5029003, 'emails': 4941344}}, '41': {'breachId': 41, 'site': 'dropbox.com', 'recordsCount': 68591031, 'description': \"Cloud storage company Dropbox suffered a major data breach in 2012. Criminals leveraged stolen employee login credentials to access a project document containing user email addresses and hashed passwords. Thanks to employees' passwords reuse between work and personal accounts, several matches were exploited, which ultimately lead to the full scope of the breach. It wasn't until August 2016 that Dropbox confirmed over 68 million user credentials had been breached in 2012. In response, DropBox enforced a password reset for its users. \", 'publishDate': '2016-10-24T00:00:00Z', 'statistics': {'usernames': 0, 'passwords': 68591031, 'emails': 68591031}}, '2': {'breachId': 2, 'site': 'linkedin.com', 'recordsCount': 158591429, 'description': \"In 2012, online professional networking platform LinkedIn fell victim to a breach of its members' passwords. Four years later, 117 million email and password combinations from that breach appeared for sale on a dark web marketplace. \\n\\nThe leaked passwords had only been protected by unsalted SHA-1 cryptographic hashing, which prompted LinkedIn to enforce salted hashing after the breach. Russian national Yevgeniy Nikulin was accused of the breach and was extradited from the Czech Republic to the United States as of March 2018.\", 'publishDate': '2016-10-21T00:00:00Z', 'statistics': {'usernames': 0, 'passwords': 111975337, 'emails': 158591429}}, '3587': {'breachId': 3587, 'site': 'rayli.com.cn', 'recordsCount': 4844179, 'description': \"On an unconfirmed date, Chinese gossip site Rayli's user database was allegedly breached. The stolen data contains over 4,850,000 records including email addresses, usernames, passwords, and salts. The compromised data is being shared privately among closed and trusted groups.\", 'publishDate': '2017-03-01T00:00:00Z', 'statistics': {'usernames': 4841886, 'passwords': 4833694, 'emails': 4803135}}, '17009': {'breachId': 17009, 'site': 'zynga.com', 'recordsCount': 216159495, 'description': 'In September 2019, the game developer Zynga was allegedly breached. The stolen data contains usernames, passwords, salts, email addresses and additional personal information. This breach is being privately shared on the internet.', 'publishDate': '2019-10-17T00:00:00Z', 'statistics': {'usernames': 214648143, 'passwords': 134762791, 'emails': 159032663}}, '12': {'breachId': 12, 'site': 'vk.com', 'recordsCount': 110121799, 'description': \"Popular Russian social networking platform VKontakte was breached in late 2012. Over 100 million clear-text passwords were compromised in the breach. Breached credential sets included victims' e-mail addresses, passwords, dates of birth, phone numbers and location details. The credential set was advertised on a dark web marketplace as of June 2016 for a price of one bitcoin. \", 'publishDate': '2016-10-29T00:00:00Z', 'statistics': {'usernames': 0, 'passwords': 107425364, 'emails': 104247327}}, '3': {'breachId': 3, 'site': 'adobe.com', 'recordsCount': 152046506, 'description': \"In October of 2013, criminals penetrated Adobe's corporate network and the stole source code for several of its software products. The affected products included Adobe's ColdFusion web application platform as well as the Acrobat suite of products. Adobe asserts that criminals also accessed nearly three-million customer credit card records and stole login data for an undisclosed number of Adobe user accounts.\", 'publishDate': '2016-10-21T00:00:00Z', 'statistics': {'usernames': 0, 'passwords': 129430596, 'emails': 152046506}}, '13662': {'breachId': 13662, 'site': 'netlog.com', 'recordsCount': 52904632, 'description': 'Netlog (formerly known as Facebox and Bingbox) was a Belgian social networking website specifically targeted at the global youth demographic. On Netlog, members could create their own web page, meet new people, chat, play games, share videos and post blogs.\\r\\n\\r\\nIn July 2018, Netlog sent out an email informing users registered before December 2012 that there was a security breach of their user database.', 'publishDate': '2018-02-18T00:00:00Z', 'statistics': {'usernames': 0, 'passwords': 52902665, 'emails': 52904632}}, '3520': {'breachId': 3520, 'site': 'globalreach.eu', 'recordsCount': 921298, 'description': \"In 2016, Global Reach Technology's database was allegedly breached. The stolen records are being shared among private cirlces on the darknet.\", 'publishDate': '2017-03-15T00:00:00Z', 'statistics': {'usernames': 13492, 'passwords': 921298, 'emails': 907696}}, '3164': {'breachId': 3164, 'site': 'cfire.mail.ru', 'recordsCount': 12880232, 'description': \"In July and August of 2016, two criminals carried out attacks on three separate forums hosted by Mail.ru, including CFire. The hackers used known SQL injection vulnerabilities found in older vBulletin forum software to obtain access to the databases. Shortly after the breach itself, the contents of CFire's database were leaked publicly. The database contains usernames, email addresses, and MD5 hashed passwords for just under 13 million users.\", 'publishDate': '2017-02-14T00:00:00Z', 'statistics': {'usernames': 12880232, 'passwords': 12880222, 'emails': 12845820}}, '2961': {'breachId': 2961, 'site': 'cdprojektred.com', 'recordsCount': 1871459, 'description': \"In March 2016, CDProjektRed.com.com's forum database was breached. The attacker may have exploited a vulnerability in vBulletin. The stolen data contains over 1,870,000 user records including associated usernames, email addresses, hashed passwords, and salts. The leaked credentials are being shared and sold privately on the dark web.\", 'publishDate': '2017-01-31T00:00:00Z', 'statistics': {'usernames': 1871410, 'passwords': 1871457, 'emails': 1871289}}, '15': {'breachId': 15, 'site': 'imesh.com', 'recordsCount': 50913222, 'description': 'In June 2016, a cache of over 51 million user credentials from the online sharing service iMesh appeared for sale on a dark web marketplace.  The database contained user email addresses, usernames, passwords, IP addresses and location.', 'publishDate': '2016-10-23T00:00:00Z', 'statistics': {'usernames': 50909015, 'passwords': 50913222, 'emails': 50913222}}, '3669': {'breachId': 3669, 'site': 'youku.com', 'recordsCount': 94244880, 'description': 'Youku is a large Chinese video content company whose user database was allegedly breached in 2016. The compromised data later appeared for sale on a dark web marketplace April 2017. The dark web listing advertised the sale of 100M user accounts.', 'publishDate': '2017-03-24T00:00:00Z', 'statistics': {'usernames': 0, 'passwords': 94238535, 'emails': 94244880}}}, 'data': {'parapa.mail.ru': {'xxx@x.ru': [{'breachId': 3176, 'usernameBreached': True, 'passwordBreached': True}]}, 'adobe.com': {'xxx@x.ru': [{'breachId': 3, 'usernameBreached': True, 'passwordBreached': True}], 'yyy@y.com': [{'breachId': 3, 'usernameBreached': True, 'passwordBreached': True}]}, 'cdprojektred.com': {'xxx@x.ru': [{'breachId': 2961, 'usernameBreached': True, 'passwordBreached': True}]}, 'azcentral.com': {'yyy@y.com': [{'breachId': 17110, 'usernameBreached': True, 'passwordBreached': True}]}, 'linkedin.com': {'yyy@y.com': [{'breachId': 2, 'usernameBreached': True, 'passwordBreached': True}]}, 'dropbox.com': {'yyy@y.com': [{'breachId': 41, 'usernameBreached': True, 'passwordBreached': True}]}, 'wishbone.io': {'yyy@y.com': [{'breachId': 17670, 'usernameBreached': True, 'passwordBreached': True}]}, 'youku.com': {'yyy@y.com': [{'breachId': 3669, 'usernameBreached': True, 'passwordBreached': True}]}, 'myheritage.com': {'yyy@y.com': [{'breachId': 13094, 'usernameBreached': True, 'passwordBreached': True}]}, 'rayli.com.cn': {'yyy@y.com': [{'breachId': 3587, 'usernameBreached': True, 'passwordBreached': True}]}, 'canva.com': {'yyy@y.com': [{'breachId': 16768, 'usernameBreached': True, 'passwordBreached': True}]}, 'globalreach.eu': {'yyy@y.com': [{'breachId': 3520, 'usernameBreached': True, 'passwordBreached': True}]}, 'cfire.mail.ru': {'xxx@x.ru': [{'breachId': 3164, 'usernameBreached': True, 'passwordBreached': True}]}, 'vk.com': {'xxx@x.ru': [{'breachId': 12, 'usernameBreached': True, 'passwordBreached': True}]}, 'forums.vkmonline.com': {'yyy@y.com': [{'breachId': 37177, 'usernameBreached': True, 'passwordBreached': True}]}, 'netlog.com': {'yyy@y.com': [{'breachId': 13662, 'usernameBreached': True, 'passwordBreached': True}]}, 'imesh.com': {'xxx@x.ru': [{'breachId': 15, 'usernameBreached': True, 'passwordBreached': True}], 'yyy@y.com': [{'breachId': 15, 'usernameBreached': True, 'passwordBreached': True}]}, 'zynga.com': {'yyy@y.com': [{'breachId': 17009, 'usernameBreached': True, 'passwordBreached': True}]}}, 'summary': {'xxx@x.ru': {'breaches': [3176, 12, 3, 3164, 2961, 15]}, 'yyy@y.com': {'breaches': [17110, 17670, 13094, 37177, 16768, 41, 2, 3587, 17009, 3, 13662, 3520, 15, 3669]}}}\n"
          ],
          "name": "stdout"
        }
      ]
    },
    {
      "cell_type": "code",
      "metadata": {
        "id": "aay5dAu29XlI"
      },
      "source": [
        "regj = reg2.json()"
      ],
      "execution_count": 10,
      "outputs": []
    },
    {
      "cell_type": "code",
      "metadata": {
        "colab": {
          "base_uri": "https://localhost:8080/"
        },
        "id": "sErvYaAG_gac",
        "outputId": "bedb8eeb-18a8-4e92-cb33-f13b8602939b"
      },
      "source": [
        "type(regj)"
      ],
      "execution_count": 21,
      "outputs": [
        {
          "output_type": "execute_result",
          "data": {
            "text/plain": [
              "dict"
            ]
          },
          "metadata": {
            "tags": []
          },
          "execution_count": 21
        }
      ]
    },
    {
      "cell_type": "code",
      "metadata": {
        "id": "Z5-ZI7oACe_y"
      },
      "source": [
        "regj['breaches']"
      ],
      "execution_count": null,
      "outputs": []
    },
    {
      "cell_type": "markdown",
      "metadata": {
        "id": "OYNNKevxDcEy"
      },
      "source": [
        "description - описание; \n",
        "publishDate - дата публикации; \n",
        "site - место утечки"
      ]
    },
    {
      "cell_type": "code",
      "metadata": {
        "id": "QZOU-w_7-9RO"
      },
      "source": [
        "list_dict= []\n",
        "for breaches in regj['breaches'].values():\n",
        "    \n",
        "    list_dict.append(breaches)"
      ],
      "execution_count": 43,
      "outputs": []
    },
    {
      "cell_type": "code",
      "metadata": {
        "id": "_87LScSV8u1r"
      },
      "source": [
        "data = pd.DataFrame(list_dict)"
      ],
      "execution_count": 45,
      "outputs": []
    },
    {
      "cell_type": "code",
      "metadata": {
        "colab": {
          "base_uri": "https://localhost:8080/",
          "height": 80
        },
        "id": "ZQnAepJc9IH5",
        "outputId": "1ae762ec-8eb1-4d70-ea3c-6838a27f1ddf"
      },
      "source": [
        "data.head(1)"
      ],
      "execution_count": 50,
      "outputs": [
        {
          "output_type": "execute_result",
          "data": {
            "text/html": [
              "<div>\n",
              "<style scoped>\n",
              "    .dataframe tbody tr th:only-of-type {\n",
              "        vertical-align: middle;\n",
              "    }\n",
              "\n",
              "    .dataframe tbody tr th {\n",
              "        vertical-align: top;\n",
              "    }\n",
              "\n",
              "    .dataframe thead th {\n",
              "        text-align: right;\n",
              "    }\n",
              "</style>\n",
              "<table border=\"1\" class=\"dataframe\">\n",
              "  <thead>\n",
              "    <tr style=\"text-align: right;\">\n",
              "      <th></th>\n",
              "      <th>breachId</th>\n",
              "      <th>site</th>\n",
              "      <th>recordsCount</th>\n",
              "      <th>description</th>\n",
              "      <th>publishDate</th>\n",
              "      <th>statistics</th>\n",
              "    </tr>\n",
              "  </thead>\n",
              "  <tbody>\n",
              "    <tr>\n",
              "      <th>0</th>\n",
              "      <td>17110</td>\n",
              "      <td>azcentral.com</td>\n",
              "      <td>705538</td>\n",
              "      <td>At an unconfirmed date, online Arizona newspap...</td>\n",
              "      <td>2020-01-03T00:00:00Z</td>\n",
              "      <td>{'usernames': 0, 'passwords': 702971, 'emails'...</td>\n",
              "    </tr>\n",
              "  </tbody>\n",
              "</table>\n",
              "</div>"
            ],
            "text/plain": [
              "   breachId  ...                                         statistics\n",
              "0     17110  ...  {'usernames': 0, 'passwords': 702971, 'emails'...\n",
              "\n",
              "[1 rows x 6 columns]"
            ]
          },
          "metadata": {
            "tags": []
          },
          "execution_count": 50
        }
      ]
    },
    {
      "cell_type": "code",
      "metadata": {
        "id": "4w8Pm6yXH7Tq"
      },
      "source": [
        "dataRes = data[['publishDate', 'site', 'description']]"
      ],
      "execution_count": 51,
      "outputs": []
    },
    {
      "cell_type": "code",
      "metadata": {
        "colab": {
          "base_uri": "https://localhost:8080/"
        },
        "id": "fjI5fho6Io1_",
        "outputId": "566faf8a-c705-463d-c34d-01c595e87a32"
      },
      "source": [
        "dataRes.rename(columns = {'publishDate':'Date_of_leak', 'site':'leak_location'}, inplace = True)"
      ],
      "execution_count": 55,
      "outputs": [
        {
          "output_type": "stream",
          "text": [
            "/usr/local/lib/python3.7/dist-packages/pandas/core/frame.py:4308: SettingWithCopyWarning: \n",
            "A value is trying to be set on a copy of a slice from a DataFrame\n",
            "\n",
            "See the caveats in the documentation: https://pandas.pydata.org/pandas-docs/stable/user_guide/indexing.html#returning-a-view-versus-a-copy\n",
            "  errors=errors,\n"
          ],
          "name": "stderr"
        }
      ]
    },
    {
      "cell_type": "code",
      "metadata": {
        "colab": {
          "base_uri": "https://localhost:8080/",
          "height": 204
        },
        "id": "K7C8cu96Idim",
        "outputId": "cd41a510-916c-49b0-9446-0c54a7ab544e"
      },
      "source": [
        "dataRes.head()"
      ],
      "execution_count": 56,
      "outputs": [
        {
          "output_type": "execute_result",
          "data": {
            "text/html": [
              "<div>\n",
              "<style scoped>\n",
              "    .dataframe tbody tr th:only-of-type {\n",
              "        vertical-align: middle;\n",
              "    }\n",
              "\n",
              "    .dataframe tbody tr th {\n",
              "        vertical-align: top;\n",
              "    }\n",
              "\n",
              "    .dataframe thead th {\n",
              "        text-align: right;\n",
              "    }\n",
              "</style>\n",
              "<table border=\"1\" class=\"dataframe\">\n",
              "  <thead>\n",
              "    <tr style=\"text-align: right;\">\n",
              "      <th></th>\n",
              "      <th>Date_of_leak</th>\n",
              "      <th>leak_location</th>\n",
              "      <th>description</th>\n",
              "    </tr>\n",
              "  </thead>\n",
              "  <tbody>\n",
              "    <tr>\n",
              "      <th>0</th>\n",
              "      <td>2020-01-03T00:00:00Z</td>\n",
              "      <td>azcentral.com</td>\n",
              "      <td>At an unconfirmed date, online Arizona newspap...</td>\n",
              "    </tr>\n",
              "    <tr>\n",
              "      <th>1</th>\n",
              "      <td>2020-05-28T00:00:00Z</td>\n",
              "      <td>wishbone.io</td>\n",
              "      <td>In January 2020, the online poll website Wishb...</td>\n",
              "    </tr>\n",
              "    <tr>\n",
              "      <th>2</th>\n",
              "      <td>2017-11-04T00:00:00Z</td>\n",
              "      <td>myheritage.com</td>\n",
              "      <td>In October 2017, a customer database belonging...</td>\n",
              "    </tr>\n",
              "    <tr>\n",
              "      <th>3</th>\n",
              "      <td>2021-02-11T00:00:00Z</td>\n",
              "      <td>forums.vkmonline.com</td>\n",
              "      <td>At an unconfirmed date, the Russian-language m...</td>\n",
              "    </tr>\n",
              "    <tr>\n",
              "      <th>4</th>\n",
              "      <td>2019-06-13T00:00:00Z</td>\n",
              "      <td>canva.com</td>\n",
              "      <td>In May 2019, graphic-design site Canva's datab...</td>\n",
              "    </tr>\n",
              "  </tbody>\n",
              "</table>\n",
              "</div>"
            ],
            "text/plain": [
              "           Date_of_leak  ...                                        description\n",
              "0  2020-01-03T00:00:00Z  ...  At an unconfirmed date, online Arizona newspap...\n",
              "1  2020-05-28T00:00:00Z  ...  In January 2020, the online poll website Wishb...\n",
              "2  2017-11-04T00:00:00Z  ...  In October 2017, a customer database belonging...\n",
              "3  2021-02-11T00:00:00Z  ...  At an unconfirmed date, the Russian-language m...\n",
              "4  2019-06-13T00:00:00Z  ...  In May 2019, graphic-design site Canva's datab...\n",
              "\n",
              "[5 rows x 3 columns]"
            ]
          },
          "metadata": {
            "tags": []
          },
          "execution_count": 56
        }
      ]
    },
    {
      "cell_type": "code",
      "metadata": {
        "id": "ZHBYVGqmImdA"
      },
      "source": [
        ""
      ],
      "execution_count": null,
      "outputs": []
    }
  ]
}