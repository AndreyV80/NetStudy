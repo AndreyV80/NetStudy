{
  "nbformat": 4,
  "nbformat_minor": 0,
  "metadata": {
    "colab": {
      "name": "Копия блокнота \"Horse\"",
      "provenance": [],
      "collapsed_sections": [],
      "authorship_tag": "ABX9TyNohJOgGUUn56FDTgAVbZNm",
      "include_colab_link": true
    },
    "kernelspec": {
      "name": "python3",
      "display_name": "Python 3"
    },
    "language_info": {
      "name": "python"
    }
  },
  "cells": [
    {
      "cell_type": "markdown",
      "metadata": {
        "id": "view-in-github",
        "colab_type": "text"
      },
      "source": [
        "<a href=\"https://colab.research.google.com/github/AndreyV80/NetStudy/blob/main/%D0%9A%D0%BE%D0%BF%D0%B8%D1%8F_%D0%B1%D0%BB%D0%BE%D0%BA%D0%BD%D0%BE%D1%82%D0%B0_%22Horse%22.ipynb\" target=\"_parent\"><img src=\"https://colab.research.google.com/assets/colab-badge.svg\" alt=\"Open In Colab\"/></a>"
      ]
    },
    {
      "cell_type": "code",
      "metadata": {
        "id": "D9qelNQPt-J5"
      },
      "source": [
        "import pandas as pd\n",
        "import numpy as np\n",
        "\n",
        "\n",
        "import os, time\n",
        "from google.colab import drive"
      ],
      "execution_count": 45,
      "outputs": []
    },
    {
      "cell_type": "code",
      "metadata": {
        "colab": {
          "base_uri": "https://localhost:8080/"
        },
        "id": "XX9NuBRFuBOO",
        "outputId": "d18118ed-754d-4f89-845c-06c656badb0c"
      },
      "source": [
        "drive.mount('/content/drive') \n"
      ],
      "execution_count": 46,
      "outputs": [
        {
          "output_type": "stream",
          "text": [
            "Drive already mounted at /content/drive; to attempt to forcibly remount, call drive.mount(\"/content/drive\", force_remount=True).\n"
          ],
          "name": "stdout"
        }
      ]
    },
    {
      "cell_type": "code",
      "metadata": {
        "id": "bR5lfNtHyVyf"
      },
      "source": [
        "headers = [1,2,3,4,5,6,7,8,9,10,11,12,13,14,15,16,17,18,19,20,21,22,23,24,25,26,27,28]"
      ],
      "execution_count": null,
      "outputs": []
    },
    {
      "cell_type": "code",
      "metadata": {
        "id": "sjFl2SgCUUU0"
      },
      "source": [
        "headers2 = [\n",
        "   'operation','age','NumHospital','rectal_temp','pulse' ,'resp_rate',\n",
        "   'limb_temp','periph_pulse','mucous_memb',\n",
        "   'capil_fil_time','pain','peristalsis','bloating','nasogastric_tube',\n",
        "  'nasogastric_reflux','nasogastric_reflux_PH', 'rectal_examination', 'belly',\n",
        "   'VPC','total_protein','AAC','TAP',\n",
        "   'result','surgical_lesion','place_defeat','type_lesion','subtype_lesion','defeat_code','cp_data'\n",
        "]"
      ],
      "execution_count": 47,
      "outputs": []
    },
    {
      "cell_type": "markdown",
      "metadata": {
        "id": "k4jCwYyw0VFa"
      },
      "source": [
        "Загрузка данных"
      ]
    },
    {
      "cell_type": "code",
      "metadata": {
        "id": "jnFgCNwfgdWW"
      },
      "source": [
        "horse = pd.read_csv('/content/drive/My Drive/horse_data.csv', sep = ',', names=headers2, na_values='?') # na_values='?' - заменяем пропуски на NaN"
      ],
      "execution_count": 48,
      "outputs": []
    },
    {
      "cell_type": "code",
      "metadata": {
        "colab": {
          "base_uri": "https://localhost:8080/",
          "height": 69
        },
        "id": "BCcrS_6agg-6",
        "outputId": "b09552ed-af9b-4621-93f3-8fba3f16b973"
      },
      "source": [
        "horse.query('age == 2')"
      ],
      "execution_count": null,
      "outputs": [
        {
          "output_type": "execute_result",
          "data": {
            "text/html": [
              "<div>\n",
              "<style scoped>\n",
              "    .dataframe tbody tr th:only-of-type {\n",
              "        vertical-align: middle;\n",
              "    }\n",
              "\n",
              "    .dataframe tbody tr th {\n",
              "        vertical-align: top;\n",
              "    }\n",
              "\n",
              "    .dataframe thead th {\n",
              "        text-align: right;\n",
              "    }\n",
              "</style>\n",
              "<table border=\"1\" class=\"dataframe\">\n",
              "  <thead>\n",
              "    <tr style=\"text-align: right;\">\n",
              "      <th></th>\n",
              "      <th>operation</th>\n",
              "      <th>age</th>\n",
              "      <th>NumHospital</th>\n",
              "      <th>rectal_temp</th>\n",
              "      <th>pulse</th>\n",
              "      <th>resp_rate</th>\n",
              "      <th>limb_temp</th>\n",
              "      <th>periph_pulse</th>\n",
              "      <th>mucous_memb</th>\n",
              "      <th>capil_fil_time</th>\n",
              "      <th>pain</th>\n",
              "      <th>peristalsis</th>\n",
              "      <th>bloating</th>\n",
              "      <th>nasogastric_tube</th>\n",
              "      <th>nasogastric_reflux</th>\n",
              "      <th>nasogastric_reflux_PH</th>\n",
              "      <th>rectal_examination</th>\n",
              "      <th>belly</th>\n",
              "      <th>VPC</th>\n",
              "      <th>total_protein</th>\n",
              "      <th>AAC</th>\n",
              "      <th>TAP</th>\n",
              "      <th>result</th>\n",
              "      <th>surgical_lesion</th>\n",
              "      <th>place_defeat</th>\n",
              "      <th>type_lesion</th>\n",
              "      <th>subtype_lesion</th>\n",
              "      <th>defeat_code</th>\n",
              "      <th>cp_data</th>\n",
              "    </tr>\n",
              "  </thead>\n",
              "  <tbody>\n",
              "  </tbody>\n",
              "</table>\n",
              "</div>"
            ],
            "text/plain": [
              "Empty DataFrame\n",
              "Columns: [operation, age, NumHospital, rectal_temp, pulse, resp_rate, limb_temp, periph_pulse, mucous_memb, capil_fil_time, pain, peristalsis, bloating, nasogastric_tube, nasogastric_reflux, nasogastric_reflux_PH, rectal_examination, belly, VPC, total_protein, AAC, TAP, result, surgical_lesion, place_defeat, type_lesion, subtype_lesion, defeat_code, cp_data]\n",
              "Index: []"
            ]
          },
          "metadata": {
            "tags": []
          },
          "execution_count": 107
        }
      ]
    },
    {
      "cell_type": "code",
      "metadata": {
        "id": "TRAhHH2S_8Wb"
      },
      "source": [
        "horse.info()"
      ],
      "execution_count": null,
      "outputs": []
    },
    {
      "cell_type": "markdown",
      "metadata": {
        "id": "prgCxKw8G1CP"
      },
      "source": [
        "**Задание 1. Загрузка данных**\n",
        "Изучить представленный набор данных на основе описания его столбцов, загрузить его и оставить 8 столбцов для дальнейшего изучения: surgery?, Age, rectal temperature, pulse, respiratory rate, temperature of extremities, pain, outcome."
      ]
    },
    {
      "cell_type": "code",
      "metadata": {
        "id": "nK2Nknv0_95T"
      },
      "source": [
        "horse2 = horse[['operation', 'age', 'rectal_temp', 'pulse','resp_rate', 'limb_temp', 'pain', 'result']]"
      ],
      "execution_count": 49,
      "outputs": []
    },
    {
      "cell_type": "code",
      "metadata": {
        "id": "voURWWuKCOJS"
      },
      "source": [
        "horse2.head(30)"
      ],
      "execution_count": null,
      "outputs": []
    },
    {
      "cell_type": "code",
      "metadata": {
        "colab": {
          "base_uri": "https://localhost:8080/"
        },
        "id": "5gLMw9T3ZyEo",
        "outputId": "0131e6cc-a2d0-459b-cc08-e2b95dcb5a66"
      },
      "source": [
        "horse2.info()"
      ],
      "execution_count": null,
      "outputs": [
        {
          "output_type": "stream",
          "text": [
            "<class 'pandas.core.frame.DataFrame'>\n",
            "RangeIndex: 300 entries, 0 to 299\n",
            "Data columns (total 8 columns):\n",
            " #   Column       Non-Null Count  Dtype  \n",
            "---  ------       --------------  -----  \n",
            " 0   operation    299 non-null    float64\n",
            " 1   age          300 non-null    int64  \n",
            " 2   rectal_temp  240 non-null    float64\n",
            " 3   pulse        276 non-null    float64\n",
            " 4   resp_rate    242 non-null    float64\n",
            " 5   limb_temp    244 non-null    float64\n",
            " 6   pain         245 non-null    float64\n",
            " 7   result       299 non-null    float64\n",
            "dtypes: float64(7), int64(1)\n",
            "memory usage: 18.9 KB\n"
          ],
          "name": "stdout"
        }
      ]
    },
    {
      "cell_type": "markdown",
      "metadata": {
        "id": "Hqt-2GYGEY7g"
      },
      "source": [
        "**Задание 2. Первичное изучение данных¶**\n",
        "Проанализировать значения по столбцам, рассчитать базовые статистики, найти выбросы."
      ]
    },
    {
      "cell_type": "markdown",
      "metadata": {
        "id": "_AOgwsFt4Yf7"
      },
      "source": [
        "Копируем данные"
      ]
    },
    {
      "cell_type": "code",
      "metadata": {
        "id": "BlQloIv4fL5b"
      },
      "source": [
        "horse3 = horse2.copy()\n",
        "horse4 = horse2.copy()"
      ],
      "execution_count": 50,
      "outputs": []
    },
    {
      "cell_type": "code",
      "metadata": {
        "colab": {
          "base_uri": "https://localhost:8080/",
          "height": 297
        },
        "id": "UEedcnVcOcKg",
        "outputId": "30fd3706-b71d-4659-a976-55e9900ae8a1"
      },
      "source": [
        "horse3.describe()"
      ],
      "execution_count": 7,
      "outputs": [
        {
          "output_type": "execute_result",
          "data": {
            "text/html": [
              "<div>\n",
              "<style scoped>\n",
              "    .dataframe tbody tr th:only-of-type {\n",
              "        vertical-align: middle;\n",
              "    }\n",
              "\n",
              "    .dataframe tbody tr th {\n",
              "        vertical-align: top;\n",
              "    }\n",
              "\n",
              "    .dataframe thead th {\n",
              "        text-align: right;\n",
              "    }\n",
              "</style>\n",
              "<table border=\"1\" class=\"dataframe\">\n",
              "  <thead>\n",
              "    <tr style=\"text-align: right;\">\n",
              "      <th></th>\n",
              "      <th>operation</th>\n",
              "      <th>age</th>\n",
              "      <th>rectal_temp</th>\n",
              "      <th>pulse</th>\n",
              "      <th>resp_rate</th>\n",
              "      <th>limb_temp</th>\n",
              "      <th>pain</th>\n",
              "      <th>result</th>\n",
              "    </tr>\n",
              "  </thead>\n",
              "  <tbody>\n",
              "    <tr>\n",
              "      <th>count</th>\n",
              "      <td>299.000000</td>\n",
              "      <td>300.000000</td>\n",
              "      <td>240.000000</td>\n",
              "      <td>276.000000</td>\n",
              "      <td>242.000000</td>\n",
              "      <td>244.000000</td>\n",
              "      <td>245.00000</td>\n",
              "      <td>299.000000</td>\n",
              "    </tr>\n",
              "    <tr>\n",
              "      <th>mean</th>\n",
              "      <td>1.397993</td>\n",
              "      <td>1.640000</td>\n",
              "      <td>38.167917</td>\n",
              "      <td>71.913043</td>\n",
              "      <td>30.417355</td>\n",
              "      <td>2.348361</td>\n",
              "      <td>2.95102</td>\n",
              "      <td>1.551839</td>\n",
              "    </tr>\n",
              "    <tr>\n",
              "      <th>std</th>\n",
              "      <td>0.490305</td>\n",
              "      <td>2.173972</td>\n",
              "      <td>0.732289</td>\n",
              "      <td>28.630557</td>\n",
              "      <td>17.642231</td>\n",
              "      <td>1.045054</td>\n",
              "      <td>1.30794</td>\n",
              "      <td>0.737187</td>\n",
              "    </tr>\n",
              "    <tr>\n",
              "      <th>min</th>\n",
              "      <td>1.000000</td>\n",
              "      <td>1.000000</td>\n",
              "      <td>35.400000</td>\n",
              "      <td>30.000000</td>\n",
              "      <td>8.000000</td>\n",
              "      <td>1.000000</td>\n",
              "      <td>1.00000</td>\n",
              "      <td>1.000000</td>\n",
              "    </tr>\n",
              "    <tr>\n",
              "      <th>25%</th>\n",
              "      <td>1.000000</td>\n",
              "      <td>1.000000</td>\n",
              "      <td>37.800000</td>\n",
              "      <td>48.000000</td>\n",
              "      <td>18.500000</td>\n",
              "      <td>1.000000</td>\n",
              "      <td>2.00000</td>\n",
              "      <td>1.000000</td>\n",
              "    </tr>\n",
              "    <tr>\n",
              "      <th>50%</th>\n",
              "      <td>1.000000</td>\n",
              "      <td>1.000000</td>\n",
              "      <td>38.200000</td>\n",
              "      <td>64.000000</td>\n",
              "      <td>24.500000</td>\n",
              "      <td>3.000000</td>\n",
              "      <td>3.00000</td>\n",
              "      <td>1.000000</td>\n",
              "    </tr>\n",
              "    <tr>\n",
              "      <th>75%</th>\n",
              "      <td>2.000000</td>\n",
              "      <td>1.000000</td>\n",
              "      <td>38.500000</td>\n",
              "      <td>88.000000</td>\n",
              "      <td>36.000000</td>\n",
              "      <td>3.000000</td>\n",
              "      <td>4.00000</td>\n",
              "      <td>2.000000</td>\n",
              "    </tr>\n",
              "    <tr>\n",
              "      <th>max</th>\n",
              "      <td>2.000000</td>\n",
              "      <td>9.000000</td>\n",
              "      <td>40.800000</td>\n",
              "      <td>184.000000</td>\n",
              "      <td>96.000000</td>\n",
              "      <td>4.000000</td>\n",
              "      <td>5.00000</td>\n",
              "      <td>3.000000</td>\n",
              "    </tr>\n",
              "  </tbody>\n",
              "</table>\n",
              "</div>"
            ],
            "text/plain": [
              "        operation         age  rectal_temp  ...   limb_temp       pain      result\n",
              "count  299.000000  300.000000   240.000000  ...  244.000000  245.00000  299.000000\n",
              "mean     1.397993    1.640000    38.167917  ...    2.348361    2.95102    1.551839\n",
              "std      0.490305    2.173972     0.732289  ...    1.045054    1.30794    0.737187\n",
              "min      1.000000    1.000000    35.400000  ...    1.000000    1.00000    1.000000\n",
              "25%      1.000000    1.000000    37.800000  ...    1.000000    2.00000    1.000000\n",
              "50%      1.000000    1.000000    38.200000  ...    3.000000    3.00000    1.000000\n",
              "75%      2.000000    1.000000    38.500000  ...    3.000000    4.00000    2.000000\n",
              "max      2.000000    9.000000    40.800000  ...    4.000000    5.00000    3.000000\n",
              "\n",
              "[8 rows x 8 columns]"
            ]
          },
          "metadata": {
            "tags": []
          },
          "execution_count": 7
        }
      ]
    },
    {
      "cell_type": "markdown",
      "metadata": {
        "id": "ZfzZQUucFbWj"
      },
      "source": [
        "Предположим, что лошади age = 9 - это молодые, осуществим замену"
      ]
    },
    {
      "cell_type": "code",
      "metadata": {
        "id": "ReWaPei9LELj"
      },
      "source": [
        "\n",
        "horse3.loc[horse3.age == 9, 'age'] = 2          "
      ],
      "execution_count": 51,
      "outputs": []
    },
    {
      "cell_type": "code",
      "metadata": {
        "colab": {
          "base_uri": "https://localhost:8080/",
          "height": 297
        },
        "id": "2HxIiwdcLPjN",
        "outputId": "f4a8df81-ff45-4eaa-a86b-b9d0838daf09"
      },
      "source": [
        "horse3.describe()"
      ],
      "execution_count": 52,
      "outputs": [
        {
          "output_type": "execute_result",
          "data": {
            "text/html": [
              "<div>\n",
              "<style scoped>\n",
              "    .dataframe tbody tr th:only-of-type {\n",
              "        vertical-align: middle;\n",
              "    }\n",
              "\n",
              "    .dataframe tbody tr th {\n",
              "        vertical-align: top;\n",
              "    }\n",
              "\n",
              "    .dataframe thead th {\n",
              "        text-align: right;\n",
              "    }\n",
              "</style>\n",
              "<table border=\"1\" class=\"dataframe\">\n",
              "  <thead>\n",
              "    <tr style=\"text-align: right;\">\n",
              "      <th></th>\n",
              "      <th>operation</th>\n",
              "      <th>age</th>\n",
              "      <th>rectal_temp</th>\n",
              "      <th>pulse</th>\n",
              "      <th>resp_rate</th>\n",
              "      <th>limb_temp</th>\n",
              "      <th>pain</th>\n",
              "      <th>result</th>\n",
              "    </tr>\n",
              "  </thead>\n",
              "  <tbody>\n",
              "    <tr>\n",
              "      <th>count</th>\n",
              "      <td>299.000000</td>\n",
              "      <td>300.000000</td>\n",
              "      <td>240.000000</td>\n",
              "      <td>276.000000</td>\n",
              "      <td>242.000000</td>\n",
              "      <td>244.000000</td>\n",
              "      <td>245.00000</td>\n",
              "      <td>299.000000</td>\n",
              "    </tr>\n",
              "    <tr>\n",
              "      <th>mean</th>\n",
              "      <td>1.397993</td>\n",
              "      <td>1.080000</td>\n",
              "      <td>38.167917</td>\n",
              "      <td>71.913043</td>\n",
              "      <td>30.417355</td>\n",
              "      <td>2.348361</td>\n",
              "      <td>2.95102</td>\n",
              "      <td>1.551839</td>\n",
              "    </tr>\n",
              "    <tr>\n",
              "      <th>std</th>\n",
              "      <td>0.490305</td>\n",
              "      <td>0.271746</td>\n",
              "      <td>0.732289</td>\n",
              "      <td>28.630557</td>\n",
              "      <td>17.642231</td>\n",
              "      <td>1.045054</td>\n",
              "      <td>1.30794</td>\n",
              "      <td>0.737187</td>\n",
              "    </tr>\n",
              "    <tr>\n",
              "      <th>min</th>\n",
              "      <td>1.000000</td>\n",
              "      <td>1.000000</td>\n",
              "      <td>35.400000</td>\n",
              "      <td>30.000000</td>\n",
              "      <td>8.000000</td>\n",
              "      <td>1.000000</td>\n",
              "      <td>1.00000</td>\n",
              "      <td>1.000000</td>\n",
              "    </tr>\n",
              "    <tr>\n",
              "      <th>25%</th>\n",
              "      <td>1.000000</td>\n",
              "      <td>1.000000</td>\n",
              "      <td>37.800000</td>\n",
              "      <td>48.000000</td>\n",
              "      <td>18.500000</td>\n",
              "      <td>1.000000</td>\n",
              "      <td>2.00000</td>\n",
              "      <td>1.000000</td>\n",
              "    </tr>\n",
              "    <tr>\n",
              "      <th>50%</th>\n",
              "      <td>1.000000</td>\n",
              "      <td>1.000000</td>\n",
              "      <td>38.200000</td>\n",
              "      <td>64.000000</td>\n",
              "      <td>24.500000</td>\n",
              "      <td>3.000000</td>\n",
              "      <td>3.00000</td>\n",
              "      <td>1.000000</td>\n",
              "    </tr>\n",
              "    <tr>\n",
              "      <th>75%</th>\n",
              "      <td>2.000000</td>\n",
              "      <td>1.000000</td>\n",
              "      <td>38.500000</td>\n",
              "      <td>88.000000</td>\n",
              "      <td>36.000000</td>\n",
              "      <td>3.000000</td>\n",
              "      <td>4.00000</td>\n",
              "      <td>2.000000</td>\n",
              "    </tr>\n",
              "    <tr>\n",
              "      <th>max</th>\n",
              "      <td>2.000000</td>\n",
              "      <td>2.000000</td>\n",
              "      <td>40.800000</td>\n",
              "      <td>184.000000</td>\n",
              "      <td>96.000000</td>\n",
              "      <td>4.000000</td>\n",
              "      <td>5.00000</td>\n",
              "      <td>3.000000</td>\n",
              "    </tr>\n",
              "  </tbody>\n",
              "</table>\n",
              "</div>"
            ],
            "text/plain": [
              "        operation         age  rectal_temp  ...   limb_temp       pain      result\n",
              "count  299.000000  300.000000   240.000000  ...  244.000000  245.00000  299.000000\n",
              "mean     1.397993    1.080000    38.167917  ...    2.348361    2.95102    1.551839\n",
              "std      0.490305    0.271746     0.732289  ...    1.045054    1.30794    0.737187\n",
              "min      1.000000    1.000000    35.400000  ...    1.000000    1.00000    1.000000\n",
              "25%      1.000000    1.000000    37.800000  ...    1.000000    2.00000    1.000000\n",
              "50%      1.000000    1.000000    38.200000  ...    3.000000    3.00000    1.000000\n",
              "75%      2.000000    1.000000    38.500000  ...    3.000000    4.00000    2.000000\n",
              "max      2.000000    2.000000    40.800000  ...    4.000000    5.00000    3.000000\n",
              "\n",
              "[8 rows x 8 columns]"
            ]
          },
          "metadata": {
            "tags": []
          },
          "execution_count": 52
        }
      ]
    },
    {
      "cell_type": "code",
      "metadata": {
        "colab": {
          "base_uri": "https://localhost:8080/",
          "height": 80
        },
        "id": "tICtIrhoQzaH",
        "outputId": "0b9c659d-33bf-4af0-8272-6bdae3eedea6"
      },
      "source": [
        "horse3.loc[(horse3['operation'] != 1) & (horse3['operation'] != 2)]"
      ],
      "execution_count": 11,
      "outputs": [
        {
          "output_type": "execute_result",
          "data": {
            "text/html": [
              "<div>\n",
              "<style scoped>\n",
              "    .dataframe tbody tr th:only-of-type {\n",
              "        vertical-align: middle;\n",
              "    }\n",
              "\n",
              "    .dataframe tbody tr th {\n",
              "        vertical-align: top;\n",
              "    }\n",
              "\n",
              "    .dataframe thead th {\n",
              "        text-align: right;\n",
              "    }\n",
              "</style>\n",
              "<table border=\"1\" class=\"dataframe\">\n",
              "  <thead>\n",
              "    <tr style=\"text-align: right;\">\n",
              "      <th></th>\n",
              "      <th>operation</th>\n",
              "      <th>age</th>\n",
              "      <th>rectal_temp</th>\n",
              "      <th>pulse</th>\n",
              "      <th>resp_rate</th>\n",
              "      <th>limb_temp</th>\n",
              "      <th>pain</th>\n",
              "      <th>result</th>\n",
              "    </tr>\n",
              "  </thead>\n",
              "  <tbody>\n",
              "    <tr>\n",
              "      <th>132</th>\n",
              "      <td>NaN</td>\n",
              "      <td>1</td>\n",
              "      <td>38.0</td>\n",
              "      <td>48.0</td>\n",
              "      <td>20.0</td>\n",
              "      <td>3.0</td>\n",
              "      <td>4.0</td>\n",
              "      <td>NaN</td>\n",
              "    </tr>\n",
              "  </tbody>\n",
              "</table>\n",
              "</div>"
            ],
            "text/plain": [
              "     operation  age  rectal_temp  pulse  resp_rate  limb_temp  pain  result\n",
              "132        NaN    1         38.0   48.0       20.0        3.0   4.0     NaN"
            ]
          },
          "metadata": {
            "tags": []
          },
          "execution_count": 11
        }
      ]
    },
    {
      "cell_type": "markdown",
      "metadata": {
        "id": "4QJaHYvqWE7s"
      },
      "source": [
        "в столбце 'operation' есть значение NaN заменим его на 1 ( операция), поскольку по данным у лошади наблюдаются периодические сильные боли, пульс и частота дыхания повышены, холодные конечности, предположительно потребуется операция"
      ]
    },
    {
      "cell_type": "code",
      "metadata": {
        "id": "DWXcDvGk4k2b"
      },
      "source": [
        "horse3.fillna({'operation': 1},inplace=True) "
      ],
      "execution_count": 53,
      "outputs": []
    },
    {
      "cell_type": "code",
      "metadata": {
        "colab": {
          "base_uri": "https://localhost:8080/",
          "height": 297
        },
        "id": "L8WqJQEz4yLV",
        "outputId": "ac59421a-a8dd-4235-8602-7b12bf1aa9ad"
      },
      "source": [
        "horse3.describe()"
      ],
      "execution_count": 54,
      "outputs": [
        {
          "output_type": "execute_result",
          "data": {
            "text/html": [
              "<div>\n",
              "<style scoped>\n",
              "    .dataframe tbody tr th:only-of-type {\n",
              "        vertical-align: middle;\n",
              "    }\n",
              "\n",
              "    .dataframe tbody tr th {\n",
              "        vertical-align: top;\n",
              "    }\n",
              "\n",
              "    .dataframe thead th {\n",
              "        text-align: right;\n",
              "    }\n",
              "</style>\n",
              "<table border=\"1\" class=\"dataframe\">\n",
              "  <thead>\n",
              "    <tr style=\"text-align: right;\">\n",
              "      <th></th>\n",
              "      <th>operation</th>\n",
              "      <th>age</th>\n",
              "      <th>rectal_temp</th>\n",
              "      <th>pulse</th>\n",
              "      <th>resp_rate</th>\n",
              "      <th>limb_temp</th>\n",
              "      <th>pain</th>\n",
              "      <th>result</th>\n",
              "    </tr>\n",
              "  </thead>\n",
              "  <tbody>\n",
              "    <tr>\n",
              "      <th>count</th>\n",
              "      <td>300.000000</td>\n",
              "      <td>300.000000</td>\n",
              "      <td>240.000000</td>\n",
              "      <td>276.000000</td>\n",
              "      <td>242.000000</td>\n",
              "      <td>244.000000</td>\n",
              "      <td>245.00000</td>\n",
              "      <td>299.000000</td>\n",
              "    </tr>\n",
              "    <tr>\n",
              "      <th>mean</th>\n",
              "      <td>1.396667</td>\n",
              "      <td>1.080000</td>\n",
              "      <td>38.167917</td>\n",
              "      <td>71.913043</td>\n",
              "      <td>30.417355</td>\n",
              "      <td>2.348361</td>\n",
              "      <td>2.95102</td>\n",
              "      <td>1.551839</td>\n",
              "    </tr>\n",
              "    <tr>\n",
              "      <th>std</th>\n",
              "      <td>0.490023</td>\n",
              "      <td>0.271746</td>\n",
              "      <td>0.732289</td>\n",
              "      <td>28.630557</td>\n",
              "      <td>17.642231</td>\n",
              "      <td>1.045054</td>\n",
              "      <td>1.30794</td>\n",
              "      <td>0.737187</td>\n",
              "    </tr>\n",
              "    <tr>\n",
              "      <th>min</th>\n",
              "      <td>1.000000</td>\n",
              "      <td>1.000000</td>\n",
              "      <td>35.400000</td>\n",
              "      <td>30.000000</td>\n",
              "      <td>8.000000</td>\n",
              "      <td>1.000000</td>\n",
              "      <td>1.00000</td>\n",
              "      <td>1.000000</td>\n",
              "    </tr>\n",
              "    <tr>\n",
              "      <th>25%</th>\n",
              "      <td>1.000000</td>\n",
              "      <td>1.000000</td>\n",
              "      <td>37.800000</td>\n",
              "      <td>48.000000</td>\n",
              "      <td>18.500000</td>\n",
              "      <td>1.000000</td>\n",
              "      <td>2.00000</td>\n",
              "      <td>1.000000</td>\n",
              "    </tr>\n",
              "    <tr>\n",
              "      <th>50%</th>\n",
              "      <td>1.000000</td>\n",
              "      <td>1.000000</td>\n",
              "      <td>38.200000</td>\n",
              "      <td>64.000000</td>\n",
              "      <td>24.500000</td>\n",
              "      <td>3.000000</td>\n",
              "      <td>3.00000</td>\n",
              "      <td>1.000000</td>\n",
              "    </tr>\n",
              "    <tr>\n",
              "      <th>75%</th>\n",
              "      <td>2.000000</td>\n",
              "      <td>1.000000</td>\n",
              "      <td>38.500000</td>\n",
              "      <td>88.000000</td>\n",
              "      <td>36.000000</td>\n",
              "      <td>3.000000</td>\n",
              "      <td>4.00000</td>\n",
              "      <td>2.000000</td>\n",
              "    </tr>\n",
              "    <tr>\n",
              "      <th>max</th>\n",
              "      <td>2.000000</td>\n",
              "      <td>2.000000</td>\n",
              "      <td>40.800000</td>\n",
              "      <td>184.000000</td>\n",
              "      <td>96.000000</td>\n",
              "      <td>4.000000</td>\n",
              "      <td>5.00000</td>\n",
              "      <td>3.000000</td>\n",
              "    </tr>\n",
              "  </tbody>\n",
              "</table>\n",
              "</div>"
            ],
            "text/plain": [
              "        operation         age  rectal_temp  ...   limb_temp       pain      result\n",
              "count  300.000000  300.000000   240.000000  ...  244.000000  245.00000  299.000000\n",
              "mean     1.396667    1.080000    38.167917  ...    2.348361    2.95102    1.551839\n",
              "std      0.490023    0.271746     0.732289  ...    1.045054    1.30794    0.737187\n",
              "min      1.000000    1.000000    35.400000  ...    1.000000    1.00000    1.000000\n",
              "25%      1.000000    1.000000    37.800000  ...    1.000000    2.00000    1.000000\n",
              "50%      1.000000    1.000000    38.200000  ...    3.000000    3.00000    1.000000\n",
              "75%      2.000000    1.000000    38.500000  ...    3.000000    4.00000    2.000000\n",
              "max      2.000000    2.000000    40.800000  ...    4.000000    5.00000    3.000000\n",
              "\n",
              "[8 rows x 8 columns]"
            ]
          },
          "metadata": {
            "tags": []
          },
          "execution_count": 54
        }
      ]
    },
    {
      "cell_type": "markdown",
      "metadata": {
        "id": "QbOM5PL7cXEB"
      },
      "source": [
        "разделим датасет на 2 (с операцией и без)"
      ]
    },
    {
      "cell_type": "code",
      "metadata": {
        "id": "kzOpFkK6oRaQ"
      },
      "source": [
        "horse3_no_oper = horse3.query('operation == 2')   # без операции\n",
        "horse3_no_oper.describe()\n",
        "horse3_no_oper2 = horse3_no_oper.copy() # это рабочая копия"
      ],
      "execution_count": 55,
      "outputs": []
    },
    {
      "cell_type": "markdown",
      "metadata": {
        "id": "OWCi409lolws"
      },
      "source": [
        "среднее значения по столбцам"
      ]
    },
    {
      "cell_type": "code",
      "metadata": {
        "id": "hA9d-bA0GjRY"
      },
      "source": [
        "pulse = horse3_no_oper2['pulse'].mean()\n",
        "rate = horse3_no_oper2['resp_rate'].mean()\n",
        "pain = horse3_no_oper2['pain'].mean()"
      ],
      "execution_count": 95,
      "outputs": []
    },
    {
      "cell_type": "code",
      "metadata": {
        "colab": {
          "base_uri": "https://localhost:8080/"
        },
        "id": "PJVJ2omYJTUe",
        "outputId": "140a7eec-41df-42fa-f952-b2c16a1ceb8b"
      },
      "source": [
        "rate"
      ],
      "execution_count": 35,
      "outputs": [
        {
          "output_type": "execute_result",
          "data": {
            "text/plain": [
              "26.1340206185567"
            ]
          },
          "metadata": {
            "tags": []
          },
          "execution_count": 35
        }
      ]
    },
    {
      "cell_type": "code",
      "metadata": {
        "id": "27BqUCT_GKj-"
      },
      "source": [
        "horse3_no_oper2['pulse'].fillna(pulse, inplace=True)  # преобразуем NaN в средний значение пульса"
      ],
      "execution_count": 56,
      "outputs": []
    },
    {
      "cell_type": "markdown",
      "metadata": {
        "id": "OW0kQuXIKB24"
      },
      "source": [
        "Преобразуем NaN в средний значение частоты дыхание, поскольку полезность данного показателя, согласно пояснениям, сомнительна"
      ]
    },
    {
      "cell_type": "code",
      "metadata": {
        "id": "C21gAxxKJIGd"
      },
      "source": [
        "horse3_no_oper2['resp_rate'].fillna(rate, inplace=True) \n",
        "horse3_no_oper2['pain'].fillna(pain, inplace=True) "
      ],
      "execution_count": 100,
      "outputs": []
    },
    {
      "cell_type": "code",
      "metadata": {
        "colab": {
          "base_uri": "https://localhost:8080/",
          "height": 297
        },
        "id": "7svZtAtlE4go",
        "outputId": "c52cbfbe-d728-41cd-c62d-c71c97e605d9"
      },
      "source": [
        "horse3_no_oper2.describe()"
      ],
      "execution_count": 98,
      "outputs": [
        {
          "output_type": "execute_result",
          "data": {
            "text/html": [
              "<div>\n",
              "<style scoped>\n",
              "    .dataframe tbody tr th:only-of-type {\n",
              "        vertical-align: middle;\n",
              "    }\n",
              "\n",
              "    .dataframe tbody tr th {\n",
              "        vertical-align: top;\n",
              "    }\n",
              "\n",
              "    .dataframe thead th {\n",
              "        text-align: right;\n",
              "    }\n",
              "</style>\n",
              "<table border=\"1\" class=\"dataframe\">\n",
              "  <thead>\n",
              "    <tr style=\"text-align: right;\">\n",
              "      <th></th>\n",
              "      <th>operation</th>\n",
              "      <th>age</th>\n",
              "      <th>rectal_temp</th>\n",
              "      <th>pulse</th>\n",
              "      <th>resp_rate</th>\n",
              "      <th>limb_temp</th>\n",
              "      <th>pain</th>\n",
              "      <th>result</th>\n",
              "    </tr>\n",
              "  </thead>\n",
              "  <tbody>\n",
              "    <tr>\n",
              "      <th>count</th>\n",
              "      <td>119.0</td>\n",
              "      <td>119.000000</td>\n",
              "      <td>99.00000</td>\n",
              "      <td>119.000000</td>\n",
              "      <td>119.000000</td>\n",
              "      <td>119.000000</td>\n",
              "      <td>119.000000</td>\n",
              "      <td>119.000000</td>\n",
              "    </tr>\n",
              "    <tr>\n",
              "      <th>mean</th>\n",
              "      <td>2.0</td>\n",
              "      <td>1.050420</td>\n",
              "      <td>38.20404</td>\n",
              "      <td>65.504505</td>\n",
              "      <td>26.134021</td>\n",
              "      <td>2.176471</td>\n",
              "      <td>2.455446</td>\n",
              "      <td>1.445378</td>\n",
              "    </tr>\n",
              "    <tr>\n",
              "      <th>std</th>\n",
              "      <td>0.0</td>\n",
              "      <td>0.219736</td>\n",
              "      <td>0.76036</td>\n",
              "      <td>23.909743</td>\n",
              "      <td>10.937131</td>\n",
              "      <td>0.926512</td>\n",
              "      <td>1.153659</td>\n",
              "      <td>0.732970</td>\n",
              "    </tr>\n",
              "    <tr>\n",
              "      <th>min</th>\n",
              "      <td>2.0</td>\n",
              "      <td>1.000000</td>\n",
              "      <td>36.00000</td>\n",
              "      <td>36.000000</td>\n",
              "      <td>9.000000</td>\n",
              "      <td>1.000000</td>\n",
              "      <td>1.000000</td>\n",
              "      <td>1.000000</td>\n",
              "    </tr>\n",
              "    <tr>\n",
              "      <th>25%</th>\n",
              "      <td>2.0</td>\n",
              "      <td>1.000000</td>\n",
              "      <td>37.80000</td>\n",
              "      <td>48.000000</td>\n",
              "      <td>19.000000</td>\n",
              "      <td>1.000000</td>\n",
              "      <td>2.000000</td>\n",
              "      <td>1.000000</td>\n",
              "    </tr>\n",
              "    <tr>\n",
              "      <th>50%</th>\n",
              "      <td>2.0</td>\n",
              "      <td>1.000000</td>\n",
              "      <td>38.20000</td>\n",
              "      <td>56.000000</td>\n",
              "      <td>26.134021</td>\n",
              "      <td>2.000000</td>\n",
              "      <td>2.455446</td>\n",
              "      <td>1.000000</td>\n",
              "    </tr>\n",
              "    <tr>\n",
              "      <th>75%</th>\n",
              "      <td>2.0</td>\n",
              "      <td>1.000000</td>\n",
              "      <td>38.60000</td>\n",
              "      <td>83.000000</td>\n",
              "      <td>31.000000</td>\n",
              "      <td>3.000000</td>\n",
              "      <td>3.000000</td>\n",
              "      <td>2.000000</td>\n",
              "    </tr>\n",
              "    <tr>\n",
              "      <th>max</th>\n",
              "      <td>2.0</td>\n",
              "      <td>2.000000</td>\n",
              "      <td>40.30000</td>\n",
              "      <td>150.000000</td>\n",
              "      <td>72.000000</td>\n",
              "      <td>4.000000</td>\n",
              "      <td>5.000000</td>\n",
              "      <td>3.000000</td>\n",
              "    </tr>\n",
              "  </tbody>\n",
              "</table>\n",
              "</div>"
            ],
            "text/plain": [
              "       operation         age  rectal_temp  ...   limb_temp        pain      result\n",
              "count      119.0  119.000000     99.00000  ...  119.000000  119.000000  119.000000\n",
              "mean         2.0    1.050420     38.20404  ...    2.176471    2.455446    1.445378\n",
              "std          0.0    0.219736      0.76036  ...    0.926512    1.153659    0.732970\n",
              "min          2.0    1.000000     36.00000  ...    1.000000    1.000000    1.000000\n",
              "25%          2.0    1.000000     37.80000  ...    1.000000    2.000000    1.000000\n",
              "50%          2.0    1.000000     38.20000  ...    2.000000    2.455446    1.000000\n",
              "75%          2.0    1.000000     38.60000  ...    3.000000    3.000000    2.000000\n",
              "max          2.0    2.000000     40.30000  ...    4.000000    5.000000    3.000000\n",
              "\n",
              "[8 rows x 8 columns]"
            ]
          },
          "metadata": {
            "tags": []
          },
          "execution_count": 98
        }
      ]
    },
    {
      "cell_type": "markdown",
      "metadata": {
        "id": "7q1Jbi0z3wE5"
      },
      "source": [
        "Предположим, что температура у лошадей взаимосвязана со значение пульса. Рассмотрим"
      ]
    },
    {
      "cell_type": "code",
      "metadata": {
        "colab": {
          "base_uri": "https://localhost:8080/"
        },
        "id": "Awad8GNdIZlQ",
        "outputId": "1be25634-1557-486b-9f40-07e164eb8dbc"
      },
      "source": [
        "horse3_no_oper2[horse3_no_oper2['pulse'] >= 40].mean()"
      ],
      "execution_count": 59,
      "outputs": [
        {
          "output_type": "execute_result",
          "data": {
            "text/plain": [
              "operation       2.000000\n",
              "age             1.050847\n",
              "rectal_temp    38.214286\n",
              "pulse          65.754543\n",
              "resp_rate      26.279224\n",
              "limb_temp       2.215686\n",
              "pain            2.460000\n",
              "result          1.449153\n",
              "dtype: float64"
            ]
          },
          "metadata": {
            "tags": []
          },
          "execution_count": 59
        }
      ]
    },
    {
      "cell_type": "code",
      "metadata": {
        "colab": {
          "base_uri": "https://localhost:8080/"
        },
        "id": "GeEkKDBgGWVq",
        "outputId": "2f10eecd-fb4d-498a-e8ef-1f385c5b6ca9"
      },
      "source": [
        "horse3_no_oper2[horse3_no_oper2['pulse'] < 40].mean()"
      ],
      "execution_count": 60,
      "outputs": [
        {
          "output_type": "execute_result",
          "data": {
            "text/plain": [
              "operation       2.0\n",
              "age             1.0\n",
              "rectal_temp    37.2\n",
              "pulse          36.0\n",
              "resp_rate       9.0\n",
              "limb_temp       1.0\n",
              "pain            2.0\n",
              "result          1.0\n",
              "dtype: float64"
            ]
          },
          "metadata": {
            "tags": []
          },
          "execution_count": 60
        }
      ]
    },
    {
      "cell_type": "markdown",
      "metadata": {
        "id": "VoKd2ZIs_0nE"
      },
      "source": [
        "Заменим NaN на среднее значения, исходя из частоты пульса"
      ]
    },
    {
      "cell_type": "code",
      "metadata": {
        "id": "JV-9817VKxPj"
      },
      "source": [
        "for k, t in horse3_no_oper2[horse3_no_oper2['pulse'] >= 40].mean().items():\n",
        "    if k == 'limb_temp':\n",
        "        limb_temp_mean = int(t)\n",
        "    elif k == 'rectal_temp':\n",
        "        rectal_temp_mean = int(t)\n",
        "    horse3_no_oper2['limb_temp'].fillna(limb_temp_mean, inplace=True)\n",
        "    horse3_no_oper2['rectal_temp'].fillna(rectal_temp_mean, inplace=True)"
      ],
      "execution_count": 108,
      "outputs": []
    },
    {
      "cell_type": "code",
      "metadata": {
        "id": "z2leED0Sv2gn"
      },
      "source": [
        "for k2, t2 in horse3_no_oper2[horse3_no_oper2['pulse'] < 40].mean().items():\n",
        "    if k2 == 'limb_temp':\n",
        "        limb_temp_mean = int(t2)\n",
        "    elif k == 'rectal_temp':\n",
        "        rectal_temp_mean = int(t2)\n",
        "        #rint(t2)\n",
        "    #     limb_temp = int(t2)\n",
        "    horse3_no_oper2['limb_temp'].fillna(t2, inplace=True)\n",
        "    horse3_no_oper2['rectal_temp'].fillna(rectal_temp_mean, inplace=True)"
      ],
      "execution_count": 109,
      "outputs": []
    },
    {
      "cell_type": "code",
      "metadata": {
        "colab": {
          "base_uri": "https://localhost:8080/",
          "height": 297
        },
        "id": "GZ1EAvYtuW2d",
        "outputId": "7e84f575-7688-43ea-c8a8-5cfa1271168e"
      },
      "source": [
        "horse3_no_oper2.describe()"
      ],
      "execution_count": 110,
      "outputs": [
        {
          "output_type": "execute_result",
          "data": {
            "text/html": [
              "<div>\n",
              "<style scoped>\n",
              "    .dataframe tbody tr th:only-of-type {\n",
              "        vertical-align: middle;\n",
              "    }\n",
              "\n",
              "    .dataframe tbody tr th {\n",
              "        vertical-align: top;\n",
              "    }\n",
              "\n",
              "    .dataframe thead th {\n",
              "        text-align: right;\n",
              "    }\n",
              "</style>\n",
              "<table border=\"1\" class=\"dataframe\">\n",
              "  <thead>\n",
              "    <tr style=\"text-align: right;\">\n",
              "      <th></th>\n",
              "      <th>operation</th>\n",
              "      <th>age</th>\n",
              "      <th>rectal_temp</th>\n",
              "      <th>pulse</th>\n",
              "      <th>resp_rate</th>\n",
              "      <th>limb_temp</th>\n",
              "      <th>pain</th>\n",
              "      <th>result</th>\n",
              "    </tr>\n",
              "  </thead>\n",
              "  <tbody>\n",
              "    <tr>\n",
              "      <th>count</th>\n",
              "      <td>119.0</td>\n",
              "      <td>119.000000</td>\n",
              "      <td>119.000000</td>\n",
              "      <td>119.000000</td>\n",
              "      <td>119.000000</td>\n",
              "      <td>119.000000</td>\n",
              "      <td>119.000000</td>\n",
              "      <td>119.000000</td>\n",
              "    </tr>\n",
              "    <tr>\n",
              "      <th>mean</th>\n",
              "      <td>2.0</td>\n",
              "      <td>1.050420</td>\n",
              "      <td>38.169748</td>\n",
              "      <td>65.504505</td>\n",
              "      <td>26.134021</td>\n",
              "      <td>2.176471</td>\n",
              "      <td>2.455446</td>\n",
              "      <td>1.445378</td>\n",
              "    </tr>\n",
              "    <tr>\n",
              "      <th>std</th>\n",
              "      <td>0.0</td>\n",
              "      <td>0.219736</td>\n",
              "      <td>0.697156</td>\n",
              "      <td>23.909743</td>\n",
              "      <td>10.937131</td>\n",
              "      <td>0.926512</td>\n",
              "      <td>1.153659</td>\n",
              "      <td>0.732970</td>\n",
              "    </tr>\n",
              "    <tr>\n",
              "      <th>min</th>\n",
              "      <td>2.0</td>\n",
              "      <td>1.000000</td>\n",
              "      <td>36.000000</td>\n",
              "      <td>36.000000</td>\n",
              "      <td>9.000000</td>\n",
              "      <td>1.000000</td>\n",
              "      <td>1.000000</td>\n",
              "      <td>1.000000</td>\n",
              "    </tr>\n",
              "    <tr>\n",
              "      <th>25%</th>\n",
              "      <td>2.0</td>\n",
              "      <td>1.000000</td>\n",
              "      <td>37.900000</td>\n",
              "      <td>48.000000</td>\n",
              "      <td>19.000000</td>\n",
              "      <td>1.000000</td>\n",
              "      <td>2.000000</td>\n",
              "      <td>1.000000</td>\n",
              "    </tr>\n",
              "    <tr>\n",
              "      <th>50%</th>\n",
              "      <td>2.0</td>\n",
              "      <td>1.000000</td>\n",
              "      <td>38.000000</td>\n",
              "      <td>56.000000</td>\n",
              "      <td>26.134021</td>\n",
              "      <td>2.000000</td>\n",
              "      <td>2.455446</td>\n",
              "      <td>1.000000</td>\n",
              "    </tr>\n",
              "    <tr>\n",
              "      <th>75%</th>\n",
              "      <td>2.0</td>\n",
              "      <td>1.000000</td>\n",
              "      <td>38.500000</td>\n",
              "      <td>83.000000</td>\n",
              "      <td>31.000000</td>\n",
              "      <td>3.000000</td>\n",
              "      <td>3.000000</td>\n",
              "      <td>2.000000</td>\n",
              "    </tr>\n",
              "    <tr>\n",
              "      <th>max</th>\n",
              "      <td>2.0</td>\n",
              "      <td>2.000000</td>\n",
              "      <td>40.300000</td>\n",
              "      <td>150.000000</td>\n",
              "      <td>72.000000</td>\n",
              "      <td>4.000000</td>\n",
              "      <td>5.000000</td>\n",
              "      <td>3.000000</td>\n",
              "    </tr>\n",
              "  </tbody>\n",
              "</table>\n",
              "</div>"
            ],
            "text/plain": [
              "       operation         age  rectal_temp  ...   limb_temp        pain      result\n",
              "count      119.0  119.000000   119.000000  ...  119.000000  119.000000  119.000000\n",
              "mean         2.0    1.050420    38.169748  ...    2.176471    2.455446    1.445378\n",
              "std          0.0    0.219736     0.697156  ...    0.926512    1.153659    0.732970\n",
              "min          2.0    1.000000    36.000000  ...    1.000000    1.000000    1.000000\n",
              "25%          2.0    1.000000    37.900000  ...    1.000000    2.000000    1.000000\n",
              "50%          2.0    1.000000    38.000000  ...    2.000000    2.455446    1.000000\n",
              "75%          2.0    1.000000    38.500000  ...    3.000000    3.000000    2.000000\n",
              "max          2.0    2.000000    40.300000  ...    4.000000    5.000000    3.000000\n",
              "\n",
              "[8 rows x 8 columns]"
            ]
          },
          "metadata": {
            "tags": []
          },
          "execution_count": 110
        }
      ]
    },
    {
      "cell_type": "markdown",
      "metadata": {
        "id": "p8uTVe8sAlgX"
      },
      "source": [
        "Проведем те же операции"
      ]
    },
    {
      "cell_type": "code",
      "metadata": {
        "id": "I_nV5lGCdAnt"
      },
      "source": [
        "horse3_oper = horse3.query('operation == 1') # с операцией\n",
        "horse3_oper.describe()"
      ],
      "execution_count": null,
      "outputs": []
    },
    {
      "cell_type": "code",
      "metadata": {
        "id": "dph1UabVAPF3"
      },
      "source": [
        "pulse2 = horse3_oper['pulse'].mean()\n",
        "rate2 = horse3_oper['resp_rate'].mean()\n",
        "pain2 = horse3_oper['pain'].mean()"
      ],
      "execution_count": 113,
      "outputs": []
    },
    {
      "cell_type": "code",
      "metadata": {
        "id": "wH-53mApxQL3"
      },
      "source": [
        "horse3_oper['pulse'].fillna(pulse2, inplace=True)  # преобразуем NaN в средний значение пульса"
      ],
      "execution_count": null,
      "outputs": []
    },
    {
      "cell_type": "code",
      "metadata": {
        "id": "DrHizjhOAkpk"
      },
      "source": [
        "horse3_oper['resp_rate'].fillna(rate2, inplace=True) \n",
        "horse3_oper['pain'].fillna(pain2, inplace=True) \n",
        "horse3_oper['result'].fillna(horse3_oper['result'].mean(), inplace=True) "
      ],
      "execution_count": null,
      "outputs": []
    },
    {
      "cell_type": "code",
      "metadata": {
        "id": "JQYzbUyNBIyZ"
      },
      "source": [
        ""
      ],
      "execution_count": null,
      "outputs": []
    },
    {
      "cell_type": "code",
      "metadata": {
        "id": "lBtulMXIBI_V"
      },
      "source": [
        "for k, t in horse3_oper[horse3_oper['pulse'] >= 40].mean().items():\n",
        "    if k == 'limb_temp':\n",
        "        limb_temp_mean = int(t)\n",
        "    elif k == 'rectal_temp':\n",
        "        rectal_temp_mean = int(t)\n",
        "    horse3_oper['limb_temp'].fillna(limb_temp_mean, inplace=True)\n",
        "    horse3_oper['rectal_temp'].fillna(rectal_temp_mean, inplace=True)"
      ],
      "execution_count": null,
      "outputs": []
    },
    {
      "cell_type": "code",
      "metadata": {
        "id": "38UhwURjBI_W"
      },
      "source": [
        "for k2, t2 in horse3_oper[horse3_oper['pulse'] < 40].mean().items():\n",
        "    if k2 == 'limb_temp':\n",
        "        limb_temp_mean = int(t2)\n",
        "    elif k == 'rectal_temp':\n",
        "        rectal_temp_mean = int(t2)\n",
        "        #rint(t2)\n",
        "    #     limb_temp = int(t2)\n",
        "    horse3_oper['limb_temp'].fillna(t2, inplace=True)\n",
        "    horse3_oper['rectal_temp'].fillna(rectal_temp_mean, inplace=True)"
      ],
      "execution_count": null,
      "outputs": []
    },
    {
      "cell_type": "code",
      "metadata": {
        "colab": {
          "base_uri": "https://localhost:8080/",
          "height": 297
        },
        "id": "Tb5uFKG9yHZ6",
        "outputId": "94692c19-6ed9-485c-b4ce-b96af8b640d6"
      },
      "source": [
        "horse3_oper.describe()"
      ],
      "execution_count": 122,
      "outputs": [
        {
          "output_type": "execute_result",
          "data": {
            "text/html": [
              "<div>\n",
              "<style scoped>\n",
              "    .dataframe tbody tr th:only-of-type {\n",
              "        vertical-align: middle;\n",
              "    }\n",
              "\n",
              "    .dataframe tbody tr th {\n",
              "        vertical-align: top;\n",
              "    }\n",
              "\n",
              "    .dataframe thead th {\n",
              "        text-align: right;\n",
              "    }\n",
              "</style>\n",
              "<table border=\"1\" class=\"dataframe\">\n",
              "  <thead>\n",
              "    <tr style=\"text-align: right;\">\n",
              "      <th></th>\n",
              "      <th>operation</th>\n",
              "      <th>age</th>\n",
              "      <th>rectal_temp</th>\n",
              "      <th>pulse</th>\n",
              "      <th>resp_rate</th>\n",
              "      <th>limb_temp</th>\n",
              "      <th>pain</th>\n",
              "      <th>result</th>\n",
              "    </tr>\n",
              "  </thead>\n",
              "  <tbody>\n",
              "    <tr>\n",
              "      <th>count</th>\n",
              "      <td>181.0</td>\n",
              "      <td>181.000000</td>\n",
              "      <td>181.000000</td>\n",
              "      <td>181.000000</td>\n",
              "      <td>181.000000</td>\n",
              "      <td>181.000000</td>\n",
              "      <td>181.000000</td>\n",
              "      <td>181.000000</td>\n",
              "    </tr>\n",
              "    <tr>\n",
              "      <th>mean</th>\n",
              "      <td>1.0</td>\n",
              "      <td>1.099448</td>\n",
              "      <td>38.111050</td>\n",
              "      <td>76.224242</td>\n",
              "      <td>33.282759</td>\n",
              "      <td>2.132597</td>\n",
              "      <td>3.298611</td>\n",
              "      <td>1.622222</td>\n",
              "    </tr>\n",
              "    <tr>\n",
              "      <th>std</th>\n",
              "      <td>0.0</td>\n",
              "      <td>0.300092</td>\n",
              "      <td>0.632095</td>\n",
              "      <td>28.899895</td>\n",
              "      <td>17.939003</td>\n",
              "      <td>1.122541</td>\n",
              "      <td>1.100908</td>\n",
              "      <td>0.731479</td>\n",
              "    </tr>\n",
              "    <tr>\n",
              "      <th>min</th>\n",
              "      <td>1.0</td>\n",
              "      <td>1.000000</td>\n",
              "      <td>35.400000</td>\n",
              "      <td>30.000000</td>\n",
              "      <td>8.000000</td>\n",
              "      <td>1.000000</td>\n",
              "      <td>1.000000</td>\n",
              "      <td>1.000000</td>\n",
              "    </tr>\n",
              "    <tr>\n",
              "      <th>25%</th>\n",
              "      <td>1.0</td>\n",
              "      <td>1.000000</td>\n",
              "      <td>37.900000</td>\n",
              "      <td>52.000000</td>\n",
              "      <td>20.000000</td>\n",
              "      <td>1.000000</td>\n",
              "      <td>3.000000</td>\n",
              "      <td>1.000000</td>\n",
              "    </tr>\n",
              "    <tr>\n",
              "      <th>50%</th>\n",
              "      <td>1.0</td>\n",
              "      <td>1.000000</td>\n",
              "      <td>38.000000</td>\n",
              "      <td>72.000000</td>\n",
              "      <td>32.000000</td>\n",
              "      <td>2.000000</td>\n",
              "      <td>3.298611</td>\n",
              "      <td>1.000000</td>\n",
              "    </tr>\n",
              "    <tr>\n",
              "      <th>75%</th>\n",
              "      <td>1.0</td>\n",
              "      <td>1.000000</td>\n",
              "      <td>38.400000</td>\n",
              "      <td>88.000000</td>\n",
              "      <td>36.000000</td>\n",
              "      <td>3.000000</td>\n",
              "      <td>4.000000</td>\n",
              "      <td>2.000000</td>\n",
              "    </tr>\n",
              "    <tr>\n",
              "      <th>max</th>\n",
              "      <td>1.0</td>\n",
              "      <td>2.000000</td>\n",
              "      <td>40.800000</td>\n",
              "      <td>184.000000</td>\n",
              "      <td>96.000000</td>\n",
              "      <td>4.000000</td>\n",
              "      <td>5.000000</td>\n",
              "      <td>3.000000</td>\n",
              "    </tr>\n",
              "  </tbody>\n",
              "</table>\n",
              "</div>"
            ],
            "text/plain": [
              "       operation         age  rectal_temp  ...   limb_temp        pain      result\n",
              "count      181.0  181.000000   181.000000  ...  181.000000  181.000000  181.000000\n",
              "mean         1.0    1.099448    38.111050  ...    2.132597    3.298611    1.622222\n",
              "std          0.0    0.300092     0.632095  ...    1.122541    1.100908    0.731479\n",
              "min          1.0    1.000000    35.400000  ...    1.000000    1.000000    1.000000\n",
              "25%          1.0    1.000000    37.900000  ...    1.000000    3.000000    1.000000\n",
              "50%          1.0    1.000000    38.000000  ...    2.000000    3.298611    1.000000\n",
              "75%          1.0    1.000000    38.400000  ...    3.000000    4.000000    2.000000\n",
              "max          1.0    2.000000    40.800000  ...    4.000000    5.000000    3.000000\n",
              "\n",
              "[8 rows x 8 columns]"
            ]
          },
          "metadata": {
            "tags": []
          },
          "execution_count": 122
        }
      ]
    },
    {
      "cell_type": "markdown",
      "metadata": {
        "id": "wzOrbBJwJNha"
      },
      "source": [
        "Объединим датафреймы\n"
      ]
    },
    {
      "cell_type": "code",
      "metadata": {
        "id": "m_10NJyeCHM4"
      },
      "source": [
        "horse_new = pd.concat([horse3_oper, horse3_no_oper2])"
      ],
      "execution_count": 128,
      "outputs": []
    },
    {
      "cell_type": "code",
      "metadata": {
        "colab": {
          "base_uri": "https://localhost:8080/",
          "height": 204
        },
        "id": "pdolCbBQI5RI",
        "outputId": "da2e4714-ad98-492c-a6ec-782b3d612795"
      },
      "source": [
        "horse_new.head()"
      ],
      "execution_count": 132,
      "outputs": [
        {
          "output_type": "execute_result",
          "data": {
            "text/html": [
              "<div>\n",
              "<style scoped>\n",
              "    .dataframe tbody tr th:only-of-type {\n",
              "        vertical-align: middle;\n",
              "    }\n",
              "\n",
              "    .dataframe tbody tr th {\n",
              "        vertical-align: top;\n",
              "    }\n",
              "\n",
              "    .dataframe thead th {\n",
              "        text-align: right;\n",
              "    }\n",
              "</style>\n",
              "<table border=\"1\" class=\"dataframe\">\n",
              "  <thead>\n",
              "    <tr style=\"text-align: right;\">\n",
              "      <th></th>\n",
              "      <th>operation</th>\n",
              "      <th>age</th>\n",
              "      <th>rectal_temp</th>\n",
              "      <th>pulse</th>\n",
              "      <th>resp_rate</th>\n",
              "      <th>limb_temp</th>\n",
              "      <th>pain</th>\n",
              "      <th>result</th>\n",
              "    </tr>\n",
              "  </thead>\n",
              "  <tbody>\n",
              "    <tr>\n",
              "      <th>1</th>\n",
              "      <td>1.0</td>\n",
              "      <td>1</td>\n",
              "      <td>39.2</td>\n",
              "      <td>88.0</td>\n",
              "      <td>20.000000</td>\n",
              "      <td>1.0</td>\n",
              "      <td>3.000000</td>\n",
              "      <td>3.0</td>\n",
              "    </tr>\n",
              "    <tr>\n",
              "      <th>3</th>\n",
              "      <td>1.0</td>\n",
              "      <td>2</td>\n",
              "      <td>39.1</td>\n",
              "      <td>164.0</td>\n",
              "      <td>84.000000</td>\n",
              "      <td>4.0</td>\n",
              "      <td>2.000000</td>\n",
              "      <td>2.0</td>\n",
              "    </tr>\n",
              "    <tr>\n",
              "      <th>6</th>\n",
              "      <td>1.0</td>\n",
              "      <td>1</td>\n",
              "      <td>37.9</td>\n",
              "      <td>48.0</td>\n",
              "      <td>16.000000</td>\n",
              "      <td>1.0</td>\n",
              "      <td>3.000000</td>\n",
              "      <td>1.0</td>\n",
              "    </tr>\n",
              "    <tr>\n",
              "      <th>7</th>\n",
              "      <td>1.0</td>\n",
              "      <td>1</td>\n",
              "      <td>38.0</td>\n",
              "      <td>60.0</td>\n",
              "      <td>33.282759</td>\n",
              "      <td>3.0</td>\n",
              "      <td>3.298611</td>\n",
              "      <td>2.0</td>\n",
              "    </tr>\n",
              "    <tr>\n",
              "      <th>10</th>\n",
              "      <td>1.0</td>\n",
              "      <td>1</td>\n",
              "      <td>38.1</td>\n",
              "      <td>66.0</td>\n",
              "      <td>12.000000</td>\n",
              "      <td>3.0</td>\n",
              "      <td>3.000000</td>\n",
              "      <td>1.0</td>\n",
              "    </tr>\n",
              "  </tbody>\n",
              "</table>\n",
              "</div>"
            ],
            "text/plain": [
              "    operation  age  rectal_temp  pulse  resp_rate  limb_temp      pain  result\n",
              "1         1.0    1         39.2   88.0  20.000000        1.0  3.000000     3.0\n",
              "3         1.0    2         39.1  164.0  84.000000        4.0  2.000000     2.0\n",
              "6         1.0    1         37.9   48.0  16.000000        1.0  3.000000     1.0\n",
              "7         1.0    1         38.0   60.0  33.282759        3.0  3.298611     2.0\n",
              "10        1.0    1         38.1   66.0  12.000000        3.0  3.000000     1.0"
            ]
          },
          "metadata": {
            "tags": []
          },
          "execution_count": 132
        }
      ]
    },
    {
      "cell_type": "code",
      "metadata": {
        "colab": {
          "base_uri": "https://localhost:8080/"
        },
        "id": "s8b-OgbII-zG",
        "outputId": "ea56cbd2-9429-4502-805d-1fe2f1c2aca7"
      },
      "source": [
        "horse_new.info()"
      ],
      "execution_count": 133,
      "outputs": [
        {
          "output_type": "stream",
          "text": [
            "<class 'pandas.core.frame.DataFrame'>\n",
            "Int64Index: 300 entries, 1 to 296\n",
            "Data columns (total 8 columns):\n",
            " #   Column       Non-Null Count  Dtype  \n",
            "---  ------       --------------  -----  \n",
            " 0   operation    300 non-null    float64\n",
            " 1   age          300 non-null    int64  \n",
            " 2   rectal_temp  300 non-null    float64\n",
            " 3   pulse        300 non-null    float64\n",
            " 4   resp_rate    300 non-null    float64\n",
            " 5   limb_temp    300 non-null    float64\n",
            " 6   pain         300 non-null    float64\n",
            " 7   result       300 non-null    float64\n",
            "dtypes: float64(7), int64(1)\n",
            "memory usage: 21.1 KB\n"
          ],
          "name": "stdout"
        }
      ]
    },
    {
      "cell_type": "code",
      "metadata": {
        "colab": {
          "base_uri": "https://localhost:8080/",
          "height": 297
        },
        "id": "BiDj6GvCH6cC",
        "outputId": "f84b8bb0-b004-4f18-8968-5ae8bcaf5bcf"
      },
      "source": [
        "horse_new.describe()"
      ],
      "execution_count": 131,
      "outputs": [
        {
          "output_type": "execute_result",
          "data": {
            "text/html": [
              "<div>\n",
              "<style scoped>\n",
              "    .dataframe tbody tr th:only-of-type {\n",
              "        vertical-align: middle;\n",
              "    }\n",
              "\n",
              "    .dataframe tbody tr th {\n",
              "        vertical-align: top;\n",
              "    }\n",
              "\n",
              "    .dataframe thead th {\n",
              "        text-align: right;\n",
              "    }\n",
              "</style>\n",
              "<table border=\"1\" class=\"dataframe\">\n",
              "  <thead>\n",
              "    <tr style=\"text-align: right;\">\n",
              "      <th></th>\n",
              "      <th>operation</th>\n",
              "      <th>age</th>\n",
              "      <th>rectal_temp</th>\n",
              "      <th>pulse</th>\n",
              "      <th>resp_rate</th>\n",
              "      <th>limb_temp</th>\n",
              "      <th>pain</th>\n",
              "      <th>result</th>\n",
              "    </tr>\n",
              "  </thead>\n",
              "  <tbody>\n",
              "    <tr>\n",
              "      <th>count</th>\n",
              "      <td>300.000000</td>\n",
              "      <td>300.000000</td>\n",
              "      <td>300.000000</td>\n",
              "      <td>300.000000</td>\n",
              "      <td>300.000000</td>\n",
              "      <td>300.000000</td>\n",
              "      <td>300.000000</td>\n",
              "      <td>300.000000</td>\n",
              "    </tr>\n",
              "    <tr>\n",
              "      <th>mean</th>\n",
              "      <td>1.396667</td>\n",
              "      <td>1.080000</td>\n",
              "      <td>38.134333</td>\n",
              "      <td>71.972080</td>\n",
              "      <td>30.447093</td>\n",
              "      <td>2.150000</td>\n",
              "      <td>2.964155</td>\n",
              "      <td>1.552074</td>\n",
              "    </tr>\n",
              "    <tr>\n",
              "      <th>std</th>\n",
              "      <td>0.490023</td>\n",
              "      <td>0.271746</td>\n",
              "      <td>0.658153</td>\n",
              "      <td>27.495503</td>\n",
              "      <td>15.912574</td>\n",
              "      <td>1.047772</td>\n",
              "      <td>1.193981</td>\n",
              "      <td>0.735964</td>\n",
              "    </tr>\n",
              "    <tr>\n",
              "      <th>min</th>\n",
              "      <td>1.000000</td>\n",
              "      <td>1.000000</td>\n",
              "      <td>35.400000</td>\n",
              "      <td>30.000000</td>\n",
              "      <td>8.000000</td>\n",
              "      <td>1.000000</td>\n",
              "      <td>1.000000</td>\n",
              "      <td>1.000000</td>\n",
              "    </tr>\n",
              "    <tr>\n",
              "      <th>25%</th>\n",
              "      <td>1.000000</td>\n",
              "      <td>1.000000</td>\n",
              "      <td>37.900000</td>\n",
              "      <td>48.000000</td>\n",
              "      <td>20.000000</td>\n",
              "      <td>1.000000</td>\n",
              "      <td>2.000000</td>\n",
              "      <td>1.000000</td>\n",
              "    </tr>\n",
              "    <tr>\n",
              "      <th>50%</th>\n",
              "      <td>1.000000</td>\n",
              "      <td>1.000000</td>\n",
              "      <td>38.000000</td>\n",
              "      <td>65.504505</td>\n",
              "      <td>28.000000</td>\n",
              "      <td>2.000000</td>\n",
              "      <td>3.000000</td>\n",
              "      <td>1.000000</td>\n",
              "    </tr>\n",
              "    <tr>\n",
              "      <th>75%</th>\n",
              "      <td>2.000000</td>\n",
              "      <td>1.000000</td>\n",
              "      <td>38.500000</td>\n",
              "      <td>88.000000</td>\n",
              "      <td>34.250000</td>\n",
              "      <td>3.000000</td>\n",
              "      <td>4.000000</td>\n",
              "      <td>2.000000</td>\n",
              "    </tr>\n",
              "    <tr>\n",
              "      <th>max</th>\n",
              "      <td>2.000000</td>\n",
              "      <td>2.000000</td>\n",
              "      <td>40.800000</td>\n",
              "      <td>184.000000</td>\n",
              "      <td>96.000000</td>\n",
              "      <td>4.000000</td>\n",
              "      <td>5.000000</td>\n",
              "      <td>3.000000</td>\n",
              "    </tr>\n",
              "  </tbody>\n",
              "</table>\n",
              "</div>"
            ],
            "text/plain": [
              "        operation         age  rectal_temp  ...   limb_temp        pain      result\n",
              "count  300.000000  300.000000   300.000000  ...  300.000000  300.000000  300.000000\n",
              "mean     1.396667    1.080000    38.134333  ...    2.150000    2.964155    1.552074\n",
              "std      0.490023    0.271746     0.658153  ...    1.047772    1.193981    0.735964\n",
              "min      1.000000    1.000000    35.400000  ...    1.000000    1.000000    1.000000\n",
              "25%      1.000000    1.000000    37.900000  ...    1.000000    2.000000    1.000000\n",
              "50%      1.000000    1.000000    38.000000  ...    2.000000    3.000000    1.000000\n",
              "75%      2.000000    1.000000    38.500000  ...    3.000000    4.000000    2.000000\n",
              "max      2.000000    2.000000    40.800000  ...    4.000000    5.000000    3.000000\n",
              "\n",
              "[8 rows x 8 columns]"
            ]
          },
          "metadata": {
            "tags": []
          },
          "execution_count": 131
        }
      ]
    }
  ]
}